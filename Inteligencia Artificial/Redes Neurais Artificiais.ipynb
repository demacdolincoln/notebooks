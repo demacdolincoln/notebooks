{
 "cells": [
  {
   "cell_type": "markdown",
   "metadata": {},
   "source": [
    "# Redes Neurais"
   ]
  },
  {
   "cell_type": "markdown",
   "metadata": {},
   "source": [
    "## 1. Histórico\n",
    "\n",
    "* 1943\n",
    "    - Wax Ten McCulloch e Walter Pitts propõem um modelo matemático para representar o neurônio biológico\n",
    "    - O objetivo era entender melhor o funcionamento do cérebro para aplicações médicas e na psicologia\n",
    "* 1949\n",
    "    - Donald Hebb desenvolve a **Teoria do Aprendizado Neural**\n",
    "    - Quanto mais correlacionadas estiverem as saídas de dois neurônios e cascata, maior deverá ser o nível ou a intensidade de suas ligações\n",
    "* 1959\n",
    "    - Bernard Widrow desenvolve o **ADALINE** (_ADAptative LINear Element_)\n",
    "    - Franck Rosemblatt conclui o **Perceptron**\n",
    "* 1969\n",
    "     - Marvin Minsk e Seymour Papert publicam o livro _\"Perceptrons\"_ onde provam que o perceptron apresenta sérias restrições, sendo capaz apenas de solucionar problemas linearmente separáveis\n",
    "* 1986\n",
    "    - James McClelland e David Rumelhart desenvolvem as redes **MLP** (_Multi Layer Perceptron_) e o algoritmo de treinamento **Backpropagation**"
   ]
  },
  {
   "cell_type": "markdown",
   "metadata": {},
   "source": [
    "## 2. O Neurônio\n",
    "\n",
    "Representação de um neurônio biológico\n",
    "\n",
    "\n",
    "Representação de um neurônio artifical\n",
    "\n",
    "\n",
    "A ideia básica do funcionamento do neurônio artificial é que tenhamos entradas ponderadas pelos respectivos pesos, estas entradas são processadas e tenhamos uma saída. Este mecanismo simula o comportamento das sinapses (a comunicação entre neurônios), onde os dendritos recebem deterinadas cargas e o neurônio processa e envia a saída para outros neurônios."
   ]
  },
  {
   "cell_type": "markdown",
   "metadata": {},
   "source": [
    "## 3. Aprendizado\n",
    "\n",
    "Algo intríseco nas redes neurais são os métodos de aprendizado, fundamentais para o seu funcionaento e para a qualidade dos seus resultados, mas como máquinas aprendem? Da mesma forma que nós:\n",
    "\n",
    "1. Exemplos de entrada, onde garantimos que aqueles dados estão corretos\n",
    "2. Treinamento com valores aleatórios\n",
    "3. Ajustes no que sabemos de acordo com o treinamento\n",
    "\n",
    "No caso específico das redes neurais, a fase de aprendizado está intimamente relacionada com os pesos das entradas já que elas contém normalmente dados brutos acerca dos valores trabalhados e do resultado, os pesos atribuidos (fundamentais para o calculo) são o resultado do aprendizado, podemos dizer que é feita uma busca nos pesos para que se ajustem aos exemplos de entrada.\n",
    "\n",
    "O exemplo a seguir segue o padrão mais tradicional de aprendizado de máquina relacionado ao ajuste dos pesos em redes neurais, mas se tratando de uma busca, seria possível até mesmo usar algoritmos genéticos ou o PSO para isso.\n",
    "\n",
    "### 3.1 Exemplo de entrada\n",
    "\n",
    "| tamanho | peso | tipo |\n",
    "|  -  - |\n",
    "| 2 | 4 | verde |\n",
    "| 5 | 8 | vermelho|\n",
    "| 2.9 | 5 | verde |\n",
    "| 3.5 | 5.8 | vermelho |\n",
    "\n",
    "Numa situação real teríamos vários outros exemplos nesta tabela, se formos plotar um gráfico para vermos como está dividida a população a ser analizada teríamos algo mais ou menos assim:"
   ]
  },
  {
   "cell_type": "code",
   "execution_count": 104,
   "metadata": {
    "collapsed": false,
    "scrolled": false
   },
   "outputs": [
    {
     "data": {
      "image/png": "[encoded data removed]",
      "text/plain": [
       "<matplotlib.figure.Figure at 0x7fb2275659e8>"
      ]
     },
     "metadata": {},
     "output_type": "display_data"
    }
   ],
   "source": [
    "from matplotlib import pyplot as plt\n",
    "from random import triangular as rnd\n",
    "import pandas as pd\n",
    "plt.style.use('seaborn-whitegrid')\n",
    "%matplotlib inline\n",
    "\n",
    "# amostras com valores aleatórios\n",
    "vermelho = pd.DataFrame([(rnd(low=2, high=8), rnd(low=4, high=10)) for i in range(150)], columns=['mass', 'tam'])\n",
    "verde = pd.DataFrame([(rnd(low=0, high=7), rnd(low=0, high=4)) for i in range(150)], columns=['mass', 'tam'])\n",
    "\n",
    "# configurando o gráfico\n",
    "fig, ax = plt.subplots()\n",
    "ax.scatter(vermelho['mass'], vermelho['tam'], color='r')\n",
    "ax.scatter(verde['mass'], verde['tam'], color='g')\n",
    "ax.grid(True)\n",
    "ax.set_xlabel('massa')\n",
    "ax.set_ylabel('tamanho')\n",
    "\n",
    "# plotando...\n",
    "plt.show()"
   ]
  },
  {
   "cell_type": "markdown",
   "metadata": {},
   "source": [
    "O que o gráfico acima mostra é que escolhendo os atributos certos, podemos ver que grupos de indivíduos foram criados e ao usarmos uma rede neural como um algoritmo classificador, podemos ensina-la o padrão de cada grupo e ela poderá dizer em qual grupo se enquadraria novos indivíduos que precisaríamos classificar. Isto funciona como se o algoritmo classificador traçasse uma linha tangencial aos dois grupos.\n",
    "\n",
    "Sei que neste ponto a utilização prática ainda não está tão clara, mas se considerarmos que estas variáveis em vez de representar tamanho e massa, indiquem a pressão sanguinea e a quantidade de oxigênio no sague, poderíamos atribuir outras variáveis que dizem respeito a saúde de alguns pacientes e a rede neural se encarregará, após o devido treinamento, de dizer quando colocar ou retirar algum aparelho do paciente ou ainda quando aplicar tal medicação. Outros inúmeros exemplos poderiam ser usados que vão desde o uso na telefonia, conexões na internet, reconhecimento de padrões em imagens e até mesmo auxiliar na mineração de dados.\n",
    "\n",
    "Percebam que na tabela acima não temos os pesos de entrada, então o treinamento de nossa rede neural consistirá em encontrar quais pesos representam bem cada variável."
   ]
  },
  {
   "cell_type": "markdown",
   "metadata": {},
   "source": [
    "### 3.2 Treinamento\n",
    "\n",
    "Como nesta fase nosso objetivo é encontrar os pesos de cada variável, então começamos pela maneira mais óbvia: chutando! ou seja, usando valores aleatórios. Estes pesos aleatórios serão atualizados a cada passagem pela própria rede neural até que consigam representam sastifatoriamente os grupos de indivíduos, ou seja é como se estivéssemos movendo a linha que separa os dois grupos a fim de encontrar uma reta tangencial.\n",
    "\n",
    "Para o exemplo, usarei uma rede Perceptron, que nada mais é do que uma rede neural formada por apenas um único neurônio. O passo a passo realizado será:\n",
    "\n",
    "1. gerar pesos aleatórios na 1 tentativa e nas proximas atualizar estes peso\n",
    "2. receber na entrada valores conhecidos ponderados pelos pesos \n",
    "3. realizar o somatório das entradas ponderadas\n",
    "4. calcular a saída usando a função de ativação\n",
    "5. efetuar um calculo que irá atualizar o peso (expresso pela equação abaixo)"
   ]
  },
  {
   "cell_type": "markdown",
   "metadata": {},
   "source": [
    "#### Somatório das entradas ponderadas\n",
    "\n",
    "$ \\displaystyle  u = \\sum^{n}_{i = 0} w_i \\times x_i  $\n",
    "\n",
    "onde:\n",
    "\n",
    "* $w_i$ -> peso\n",
    "* $x_i$ -> entrada"
   ]
  },
  {
   "cell_type": "markdown",
   "metadata": {},
   "source": [
    "#### Função de ativação\n",
    "\n",
    "Esta função é quem diz de fato o resultado, no caso do nosso exemplo se o resultado é verde ou vermelho.\n",
    "\n",
    "Existem várias funções de ativação, as mais conhecidas são:\n",
    "\n",
    "**Função sinal**\n",
    "\n",
    "f(x) = $ \\displaystyle  1 ,\\: se\\: x > 0 \\\\ 0,\\: se\\: x \\leq 0$\n",
    "\n",
    "**Função linear por partes**\n",
    "\n",
    "f(x) = $ \\displaystyle  0, \\: se\\: x \\leq 0 \\\\ x + a, \\: se \\: -a < x < a \\\\ 1, \\: se \\: x \\ge a$\n",
    "\n",
    "**Função sigmoidal**\n",
    "\n",
    "f(x) = $\\displaystyle \\frac{1}{1+e^{-ax}}$"
   ]
  },
  {
   "cell_type": "markdown",
   "metadata": {},
   "source": [
    "#### Atualização de pesos\n",
    "\n",
    "$w = w + \\eta \\times (d^k - y) \\times x^k$\n",
    "\n",
    "onde:\n",
    "\n",
    "* w -> valor dos pesos\n",
    "* $\\eta$ -> constante de taxa de aprendizado { 0 < $\\eta$ < 1 }\n",
    "* $d^k$ -> valor esperado para aquela saída\n",
    "* y -> saída produzida pelo perceptron\n",
    "* $x^k$ -> amostra atual do treinamento"
   ]
  },
  {
   "cell_type": "markdown",
   "metadata": {
    "collapsed": true
   },
   "source": [
    "O valor dos pesos sempre estará entre 0 e 1 assim como a taxa de apendizado empregada como a constante $\\eta$ na função de atualização de pesos.\n",
    "\n",
    "imaginemos uma situação hipotética em que temos como entrada os valores 2 e 7 (respectivamente tamanho e massa) e os pesos aleatórios das variáveis de entrada 0.331 e 0.0051\n",
    "\n",
    "| tamanho | massa |\n",
    "| - | - |\n",
    "| 2 | 7 |\n",
    "| 0.331 | 0.0051 | **pesos**|\n",
    "\n",
    "O somatório dos pesos será:\n",
    "\n",
    "$u = \\sum^{n}_{i = 0} w_i * x_i  $ -> $u = (2 * 0.331) + (7 * 0.0051)$\n",
    "\n",
    "u = 0.6977\n",
    "\n",
    "se usarmos a função sinal teremos como saída **1**, o que pode significa diversas coisas em relação a lógica do nosso código, por exemplo se tomarmos a população vermelha como 1 e verde como 0, o perceptron está nos dizendo que para ele aqueles dados de entrada representam um membro da população vermelha, mas e se for o contrário? e na realidade os dados sejam de uma partícula verde e ele está dizendo que é uma partícula vermelha? Então precisamos atualizar nossos pesos até que a margem de acertos nos testes seja aceitável. Para atualizar os pesos fazemos\n",
    "\n",
    "$w = w + \\eta * (d^k - y) * x^k$\n",
    "\n",
    "$w_1 = 0.331 + 0.5 * (0 - 1) * 2$\n",
    "\n",
    "$w_2 = 0.0051 + 0.5 * (0 - 1) * 7$\n",
    "\n",
    "$w_1 = -0.669$\n",
    "\n",
    "$w_2 = -3.4949$"
   ]
  },
  {
   "cell_type": "markdown",
   "metadata": {},
   "source": [
    "#### Bias\n",
    "\n",
    "Bias é uma outra entrada de valor -1 usada para equilibrar os resultados da fase de aprendizado, então vamos repetir as operações acima e ver se de fato faz diferença."
   ]
  },
  {
   "cell_type": "markdown",
   "metadata": {
    "collapsed": true
   },
   "source": [
    "Somatório dos pesos:\n",
    "\n",
    "$ u = \\sum_{i=0}^n{w_i * x_i} -> u = (2 * 0331) + (7*0.0051) + (-1 * 0.635) $\n",
    "\n",
    "$ u = 433.40070000000003 $\n",
    "\n",
    "$ w = w + \\eta * (d^k - y) * x^k $\n",
    "\n",
    "$ w_1 = 0.331 + 0.5 * (0 - 1) * 2  =>  w_1 = \\textbf{-0.669}$\n",
    "\n",
    "$ w_2 = 0.0051 + 0.5 * (0 - 1) * 7 =>  w_2 = \\textbf{-3.4949}$\n",
    "\n",
    "$ w_{bias} = -1 + 0.5 * (0 - 1) * -1 =>  w_{bias} = \\textbf{-0.5}$"
   ]
  },
  {
   "cell_type": "markdown",
   "metadata": {},
   "source": [
    "A vista de calculo de atualização de pesos não parece ter mudado muita coisa, agora vamos implementar uma rede perceptron e vamos comparar os resultados com o bias e sem o bias, comente as linhas indicadas para retirar ou manter o bias."
   ]
  },
  {
   "cell_type": "code",
   "execution_count": 105,
   "metadata": {
    "collapsed": true
   },
   "outputs": [],
   "source": [
    "import numpy as np\n",
    "class Perceptron(object):\n",
    "    '''\n",
    "    Implementacao do perceptron\n",
    "    '''\n",
    "    def __init__(self, dimensoes):\n",
    "        '''\n",
    "        :dimensoes: list com o nome das variaveis de entrada\n",
    "        '''\n",
    "        for dim in dimensoes:\n",
    "            self.__setattr__(dim, np.random.rand())\n",
    "        self.bias = np.random.rand() # comente aqui\n",
    "        self.fitness = 0\n",
    "            \n",
    "    def run(self, valores):\n",
    "        '''\n",
    "        :valores: dict com os valores de entrada\n",
    "        '''\n",
    "        \n",
    "        # somatorio da entrada\n",
    "        s = 0\n",
    "        for v in valores.keys():\n",
    "            if v != 'resultado':\n",
    "                s += self.__getattribute__(v) * valores[v]\n",
    "        s+= self.bias * -1 # comente aqui\n",
    "            \n",
    "        # funcao sinal:\n",
    "        if s > 0:\n",
    "            return 1\n",
    "        else:\n",
    "            return 0\n",
    "        \n",
    "    def atualiza_pesos(self, amostra, result):\n",
    "        '''\n",
    "        :amostras: dict {variaveis:valores, resultado: 0 ou 1}\n",
    "        :result: resultado de run()\n",
    "        '''\n",
    "        \n",
    "        for k in amostra.keys():\n",
    "            if k != 'resultado':\n",
    "                new_w = self.__getattribute__(k) + 0.5 * (amostra['resultado'] - result) * amostra[k]\n",
    "                self.__setattr__(k, new_w)\n",
    "        self.bias = self.bias + 0.5 * (amostra['resultado'] - result) * -1 # comente aqui\n",
    "                \n",
    "    def treinamento(self, amostras, testes):\n",
    "        '''\n",
    "        :amostras: list com dicts {variaveis:valores, resultado: 0 ou 1}\n",
    "        :testes: int com a quantidade de testes a serem feitos (epoch)\n",
    "        '''\n",
    "        \n",
    "        tmp = 0\n",
    "        fitness = 0 # percentual de acertos\n",
    "        for i in range(testes):\n",
    "            acertos = 0\n",
    "            for a in amostras:\n",
    "                result = self.run(a)\n",
    "                if a['resultado'] != result:\n",
    "                    self.atualiza_pesos(a, result)\n",
    "                else:\n",
    "                    acertos += 1\n",
    "                    \n",
    "            fitness = acertos / len(amostras)\n",
    "            #if fitness == 1: break\n",
    "            tmp += 1\n",
    "            if tmp % 100 == 0:\n",
    "                print('|', tmp, self.fitness*100, end='|')\n",
    "            self.fitness = fitness"
   ]
  },
  {
   "cell_type": "code",
   "execution_count": 106,
   "metadata": {
    "collapsed": false
   },
   "outputs": [
    {
     "data": {
      "text/plain": [
       "<matplotlib.axes._subplots.AxesSubplot at 0x7fb22748e3c8>"
      ]
     },
     "execution_count": 106,
     "metadata": {},
     "output_type": "execute_result"
    },
    {
     "data": {
      "image/png": "[encoded data removed]",
      "text/plain": [
       "<matplotlib.figure.Figure at 0x7fb22756a208>"
      ]
     },
     "metadata": {},
     "output_type": "display_data"
    }
   ],
   "source": [
    "# vou considerar 1 como vermelho e 0 como verde\n",
    "amostra = [{'mass':rnd(low=4, high=8), 'tam': rnd(low=5, high=10), 'resultado':1} for _ in range(75)]\n",
    "amostra += [{'mass':rnd(low=0, high=4), 'tam': rnd(low=0, high=4), 'resultado':0} for _ in range(75)]\n",
    "\n",
    "# visualização das amotras de treinamento\n",
    "fig, ax = plt.subplots()\n",
    "data = pd.DataFrame(amostra)\n",
    "data[:75].plot.scatter(x='mass', y='tam', title='Amostras de treinamento', color='r', ax=ax)\n",
    "data[75:].plot.scatter(x='mass', y='tam', title='Amostras de treinamento', color='b', ax=ax, grid=True)"
   ]
  },
  {
   "cell_type": "code",
   "execution_count": 107,
   "metadata": {
    "collapsed": false
   },
   "outputs": [],
   "source": [
    "percep = Perceptron(['mass', 'tam']) # cria o objeto"
   ]
  },
  {
   "cell_type": "code",
   "execution_count": 108,
   "metadata": {
    "collapsed": false
   },
   "outputs": [
    {
     "name": "stdout",
     "output_type": "stream",
     "text": [
      "| 100 100.0|| 200 100.0|| 300 100.0|| 400 100.0|| 500 100.0|| 600 100.0|| 700 100.0|| 800 100.0|| 900 100.0|| 1000 100.0|"
     ]
    }
   ],
   "source": [
    "percep.treinamento(amostra, 1000) # treinamento"
   ]
  },
  {
   "cell_type": "code",
   "execution_count": 109,
   "metadata": {
    "collapsed": false
   },
   "outputs": [
    {
     "data": {
      "text/plain": [
       "<matplotlib.text.Text at 0x7fb227468160>"
      ]
     },
     "execution_count": 109,
     "metadata": {},
     "output_type": "execute_result"
    },
    {
     "data": {
      "image/png": "[encoded data removed]",
      "text/plain": [
       "<matplotlib.figure.Figure at 0x7fb227434860>"
      ]
     },
     "metadata": {},
     "output_type": "display_data"
    }
   ],
   "source": [
    "fig, ax = plt.subplots()\n",
    "\n",
    "ams = [{'mass':rnd(low=-3, high=9), 'tam': rnd(low=0, high=8)} for _ in range(100)]\n",
    "vrd = []\n",
    "vrm = []\n",
    "for i in ams:\n",
    "    tmp = percep.run(i)\n",
    "    if tmp > 0:\n",
    "        vrm.append(i)\n",
    "    else:\n",
    "        vrd.append(i)\n",
    "        \n",
    "vermelho = pd.DataFrame(vrm, columns=['mass', 'tam'])\n",
    "verde = pd.DataFrame(vrd, columns=['mass', 'tam'])\n",
    "ax.set_title('Resultados')\n",
    "ax.scatter(vermelho['mass'], vermelho['tam'], color='r')\n",
    "ax.scatter(verde['mass'], verde['tam'], color='g')\n",
    "ax.grid(True)\n",
    "ax.set_xlabel('massa')\n",
    "ax.set_ylabel('tamanho')\n"
   ]
  },
  {
   "cell_type": "markdown",
   "metadata": {},
   "source": [
    "## 4.Tipos de redes neurais"
   ]
  },
  {
   "cell_type": "markdown",
   "metadata": {},
   "source": [
    "Na seção anterior vimos o conceito do aprendizado implementado numa rede neural e implementamos uma rede **perceptron**, ou seja, uma rede neural composta por apenas um neurônio e por ser tão simples ela tem suas limitações, a principal talvez seja a dificuldade que tem em trabalhar com problemas não-linearmente separáveis.\n",
    "\n",
    "<table>\n",
    "<tr>\n",
    "<td><img src=\"figures/linear.svg\" width=\"315\" height=\"180\" alt=\"\">problema de classificação linear</td>\n",
    "<td><img src=\"figures/nao_linear.svg\" width=\"315\" height=\"180\" alt=\"\">problema de classificação não-lienar</td>\n",
    "</tr>\n",
    "</table>"
   ]
  },
  {
   "cell_type": "markdown",
   "metadata": {},
   "source": [
    "### 4.1 Adaline"
   ]
  },
  {
   "cell_type": "markdown",
   "metadata": {},
   "source": [
    "**Adaline** significa _'adaptative linear element'_, a principal diferença para o perceptron é que o adaline leva em consideração a taxa de erro dos testes."
   ]
  },
  {
   "cell_type": "markdown",
   "metadata": {},
   "source": [
    "O passo a passo da fase de treinamento é bem similar ao perceptron:\n",
    "\n",
    "1. gerar pesos aleatórios na 1 tentativa e nas proximas atualizar estes peso\n",
    "2. receber na entrada valores conhecidos ponderados pelos pesos \n",
    "3. realizar o somatório das entradas ponderadas\n",
    "4. calcular a saída usando a função de ativação\n",
    "5. calcular a taxa de erro (Eqm)\n",
    "6. efetuar um calculo que irá atualizar o peso\n",
    "\n",
    "A única função que ainda não foi exibida é a Eqm, responsável por avaliar a taxa de erro:\n",
    "\n",
    "$\\displaystyle E_{qm}(w) = \\frac{\\sum_{k=0}^N{ (d^k - u)^2}}{p}$\n",
    "\n",
    "Ou seja: fazemos o somatório do resultado desejado menos o somatório da entrada, elevamos o resultado ao quadrado e dividimos pela quantidade de amostras de teste.\n",
    "\n",
    "Ao final das contas o código fica bem parecido com o do perceptron:"
   ]
  },
  {
   "cell_type": "code",
   "execution_count": 110,
   "metadata": {
    "collapsed": true
   },
   "outputs": [],
   "source": [
    "class Adaline(object):\n",
    "    '''\n",
    "    Implementacao do perceptron sem bias\n",
    "    '''\n",
    "    def __init__(self, dimensoes):\n",
    "        '''\n",
    "        :dimensoes: list com o nome das variaveis de entrada\n",
    "        '''\n",
    "        for dim in dimensoes:\n",
    "            self.__setattr__(dim, np.random.rand())\n",
    "        self.bias = np.random.rand()\n",
    "        self.fitness = 0\n",
    "        self._eqm = None\n",
    "        \n",
    "    def run(self, valores):\n",
    "        '''\n",
    "        :valores: dict com os valores de entrada\n",
    "        '''\n",
    "        \n",
    "        # somatorio da entrada\n",
    "        s = 0\n",
    "        for v in valores.keys():\n",
    "            if v != 'resultado':\n",
    "                s += self.__getattribute__(v) * valores[v]\n",
    "        s+= self.bias * -1\n",
    "        self._eqm = s\n",
    "            \n",
    "        # funcao sinal:\n",
    "        if s > 0:\n",
    "            return 1\n",
    "        else:\n",
    "            return 0\n",
    "        \n",
    "    def atualiza_pesos(self, amostra, result):\n",
    "        '''\n",
    "        :amostras: dict {variaveis:valores, resultado: 0 ou 1}\n",
    "        :result: resultado de run()\n",
    "        '''\n",
    "        \n",
    "        for k in amostra.keys():\n",
    "            if k != 'resultado':\n",
    "                new_w = self.__getattribute__(k) + 0.5 * (amostra['resultado'] - result) * amostra[k]\n",
    "                self.__setattr__(k, new_w)\n",
    "        self.bias = self.bias + 0.5 * (amostra['resultado'] - result) * -1 \n",
    "        \n",
    "    def eqm(self, amostras):\n",
    "        '''\n",
    "        :amostras: list com dicts {variaveis:valores, resultado: 0 ou 1}\n",
    "        '''\n",
    "        p = len(amostras)\n",
    "        \n",
    "        s = sum(map(lambda x: (x['resultado'] - self._eqm)**2, amostras))\n",
    "#         s = 0\n",
    "#         for i in amostras:\n",
    "#             s += (i['resultado'] - self._eqm)**2\n",
    "            \n",
    "        return s/p\n",
    "                \n",
    "    def treinamento(self, amostras, testes, eqm):\n",
    "        '''\n",
    "        :amostras: list com dicts {variaveis:valores, resultado: 0 ou 1}\n",
    "        :testes: int com a quantidade de testes a serem feitos (epoch)\n",
    "        '''\n",
    "        \n",
    "        tmp = 0\n",
    "        fitness = 0 # percentual de acertos\n",
    "        err = 0 # guardaro o resultado de self.eqm\n",
    "        for i in range(testes):\n",
    "            acertos = 0\n",
    "            for a in amostras:\n",
    "                result = self.run(a)\n",
    "                if a['resultado'] != result:\n",
    "                    self.atualiza_pesos(a, result)\n",
    "                else:\n",
    "                    acertos += 1\n",
    "                    \n",
    "            err = self.eqm(amostras)\n",
    "            if err <= eqm:\n",
    "                break\n",
    "            \n",
    "            fitness = acertos / len(amostras)\n",
    "\n",
    "            tmp += 1\n",
    "            if tmp % 100 == 0:\n",
    "                print('|', tmp,self.fitness*100, end='|')\n",
    "            self.fitness = fitness"
   ]
  },
  {
   "cell_type": "code",
   "execution_count": 111,
   "metadata": {
    "collapsed": true
   },
   "outputs": [],
   "source": [
    "ada = Adaline(['mass', 'tam'])"
   ]
  },
  {
   "cell_type": "code",
   "execution_count": 112,
   "metadata": {
    "collapsed": false
   },
   "outputs": [
    {
     "name": "stdout",
     "output_type": "stream",
     "text": [
      "| 100 100.0|| 200 100.0|| 300 100.0|| 400 100.0|| 500 100.0|| 600 100.0|| 700 100.0|| 800 100.0|| 900 100.0|| 1000 100.0|"
     ]
    }
   ],
   "source": [
    "ada.treinamento(amostra, 1000, 0.00001)"
   ]
  },
  {
   "cell_type": "markdown",
   "metadata": {},
   "source": [
    "Agora que já vimos as diferenças na fase de treinamento, vamos ver a diferença de resultados na fase operacional:"
   ]
  },
  {
   "cell_type": "code",
   "execution_count": 113,
   "metadata": {
    "collapsed": false
   },
   "outputs": [
    {
     "data": {
      "text/plain": [
       "<matplotlib.text.Text at 0x7fb227316748>"
      ]
     },
     "execution_count": 113,
     "metadata": {},
     "output_type": "execute_result"
    },
    {
     "data": {
      "image/png": "[encoded data removed]",
      "text/plain": [
       "<matplotlib.figure.Figure at 0x7fb227398908>"
      ]
     },
     "metadata": {},
     "output_type": "display_data"
    }
   ],
   "source": [
    "fig, ax = plt.subplots(ncols=2)\n",
    "fig.set_size_inches(15, 5)\n",
    "\n",
    "ams = [{'mass':rnd(low=-3, high=9), 'tam': rnd(low=0, high=8)} for _ in range(500)]\n",
    "\n",
    "# executando a fase de operação do Adaline\n",
    "\n",
    "vrd = []\n",
    "vrm = []\n",
    "for i in ams:\n",
    "    tmp = ada.run(i)\n",
    "    if tmp > 0:\n",
    "        vrm.append(i)\n",
    "    else:\n",
    "        vrd.append(i)\n",
    "        \n",
    "vermelho = pd.DataFrame(vrm, columns=['mass', 'tam'])\n",
    "verde = pd.DataFrame(vrd, columns=['mass', 'tam'])\n",
    "\n",
    "ax[0].set_title('Adaline')\n",
    "ax[0].scatter(vermelho['mass'], vermelho['tam'], color='r')\n",
    "ax[0].scatter(verde['mass'], verde['tam'], color='g')\n",
    "ax[0].grid(True)\n",
    "ax[0].set_xlabel('massa')\n",
    "ax[0].set_ylabel('tamanho')\n",
    "\n",
    "# executando a fase de operação do Perceptron\n",
    "\n",
    "vrd = []\n",
    "vrm = []\n",
    "for i in ams:\n",
    "    tmp = percep.run(i)\n",
    "    if tmp > 0:\n",
    "        vrm.append(i)\n",
    "    else:\n",
    "        vrd.append(i)\n",
    "        \n",
    "vermelho = pd.DataFrame(vrm, columns=['mass', 'tam'])\n",
    "verde = pd.DataFrame(vrd, columns=['mass', 'tam'])\n",
    "\n",
    "ax[1].set_title('Perceptron')\n",
    "ax[1].scatter(vermelho['mass'], vermelho['tam'], color='r')\n",
    "ax[1].scatter(verde['mass'], verde['tam'], color='g')\n",
    "ax[1].grid(True)\n",
    "ax[1].set_xlabel('massa')\n",
    "ax[1].set_ylabel('tamanho')"
   ]
  },
  {
   "cell_type": "markdown",
   "metadata": {},
   "source": [
    "Internamente temos as seguintes diferenças nos pesos entre o Adaline e o Perceptron para cada variavel de entrada neste exercício:"
   ]
  },
  {
   "cell_type": "code",
   "execution_count": 114,
   "metadata": {
    "collapsed": false
   },
   "outputs": [
    {
     "data": {
      "text/html": [
       "<div>\n",
       "<table border=\"1\" class=\"dataframe\">\n",
       "  <thead>\n",
       "    <tr style=\"text-align: right;\">\n",
       "      <th></th>\n",
       "      <th>_eqm</th>\n",
       "      <th>bias</th>\n",
       "      <th>fitness</th>\n",
       "      <th>mass</th>\n",
       "      <th>tam</th>\n",
       "    </tr>\n",
       "  </thead>\n",
       "  <tbody>\n",
       "    <tr>\n",
       "      <th>Perceptron</th>\n",
       "      <td>NaN</td>\n",
       "      <td>4.541220</td>\n",
       "      <td>1</td>\n",
       "      <td>0.632763</td>\n",
       "      <td>0.381334</td>\n",
       "    </tr>\n",
       "    <tr>\n",
       "      <th>Adaline</th>\n",
       "      <td>6.16011</td>\n",
       "      <td>12.238427</td>\n",
       "      <td>1</td>\n",
       "      <td>0.337951</td>\n",
       "      <td>2.929897</td>\n",
       "    </tr>\n",
       "  </tbody>\n",
       "</table>\n",
       "</div>"
      ],
      "text/plain": [
       "               _eqm       bias  fitness      mass       tam\n",
       "Perceptron      NaN   4.541220        1  0.632763  0.381334\n",
       "Adaline     6.16011  12.238427        1  0.337951  2.929897"
      ]
     },
     "execution_count": 114,
     "metadata": {},
     "output_type": "execute_result"
    }
   ],
   "source": [
    "pd.DataFrame([percep.__dict__, ada.__dict__], index=['Perceptron', 'Adaline' ])"
   ]
  },
  {
   "cell_type": "markdown",
   "metadata": {},
   "source": [
    "Na prática o que temos é uma maior precisão do Adaline em relação ao perceptron, ele tem um nível menor de _\"ruidos\"_, ou seja, menos resultados errados na classificação de novos objetos."
   ]
  },
  {
   "cell_type": "markdown",
   "metadata": {},
   "source": [
    "### 4.2 MLP"
   ]
  },
  {
   "cell_type": "markdown",
   "metadata": {},
   "source": [
    "O MLP _(Multi Layer Perceptron)_ surgiu para superar as limitações do Perceptron em relação a classificação não-linear, a ideia aqui é termos várias camadas de perceptrons, dividindo o hiperplano em diversas áreas correspondentes aos diferentes grupos a serem classificados.\n",
    "\n",
    "<table>\n",
    "<tr>\n",
    "<td><img src=\"figures/nao_linear_2.svg\" width=\"315\" height=\"180\" alt=\"\"><p>Exemplo de problema de classificação não linear</p>\n",
    "<p>onde cada cor representa um grupo distinto de objetos</p></td>\n",
    "</tr>\n",
    "</table>"
   ]
  },
  {
   "cell_type": "markdown",
   "metadata": {},
   "source": [
    "### 4.2.1 Backpropagation"
   ]
  }
 ],
 "metadata": {
  "kernelspec": {
   "display_name": "Python 3",
   "language": "python",
   "name": "python3"
  },
  "language_info": {
   "codemirror_mode": {
    "name": "ipython",
    "version": 3
   },
   "file_extension": ".py",
   "mimetype": "text/x-python",
   "name": "python",
   "nbconvert_exporter": "python",
   "pygments_lexer": "ipython3",
   "version": "3.5.1"
  }
 },
 "nbformat": 4,
 "nbformat_minor": 0
}
