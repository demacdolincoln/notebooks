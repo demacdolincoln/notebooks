{
 "cells": [
  {
   "cell_type": "markdown",
   "metadata": {},
   "source": [
    "# Algoritmos Genéticos"
   ]
  },
  {
   "cell_type": "markdown",
   "metadata": {},
   "source": [
    "## O que são:\n",
    "\n",
    "São algoritmos de busca heurística\\* que também podem ser usados para resolver problemas de otimização e são inspirados na teoria da evolução das espécies e na genética.\n",
    "\n",
    "Sempre que formos trabalhar com algoritmos genéticos (AGs) trabalharemos com uma população de indivíduos, isso significa que em vez de termos uma única solução por iteração, teremos possivelmente um conjunto de soluções correspondente ao número de individuos, e como os individuos interagem entre si durante entre as passagens por gerações, teremos uma convergência mais rápida para um resultado ideal ou próximo ao ideal.\n",
    "\n",
    "\\* *heurística* é uma forma de descartar as opções mais improváveis tornando a busca mais objetiva, isto quer dizer que os Algoritmos Genéticos não irão testar todas as possibilidades até encontrar a ideal, mas partirão de um escopo de soluções possíveis e depois vão refinando a sua direção até ser o mais próximo possível da solução ideal.\n",
    "\n",
    "*obs: Algoritmos Genéticos fazem parte de um grupo especial de algoritmos chamados algoritmos evolutivos, eles tem em comum o uso de características do neodarwinismo, não apenas na questão da evolução, mas também nas questões de adaptação e seleção de indivíduos.*"
   ]
  },
  {
   "cell_type": "markdown",
   "metadata": {},
   "source": [
    "## Bases biológicas:\n",
    "\n",
    "### Considerações iniciais:\n",
    "\n",
    "Como em computação tratamos de abstração e sistematização, e como já foi citada a origem dos AGs em relação à evolução das espécies, copiamos da natureza alguns métodos e atributos que usaremos nestes algoritmos para isso precisamos ter em mente algumas considerações:\n",
    "\n",
    "* **População:** um ou mais conjuntos de indivíduos que buscarão uma solução (valor máximo ou mínimo).\n",
    "\n",
    "* **Adaptação/evolução:** precisamos ter em mente que as melhores soluções passarão adiante, isso significa que as caracteríscas encontradas pelos indivíduos mais aptos serão passadas para as próximas gerações enquanto os menos aptos morrerão ao longo do desenvolvimento da população.\n",
    "\n",
    "* **Variabilidade:** assim como na natureza os filhos herdam os genes dos pais mas com pequenas variações simulamos este comportamento nos AGs por diversos motivos como a garantia que todos os indivíduos sejam diferentes entre si e que se tenha uma maior variedade no comportamento de cada indivíduo.\n",
    "\n",
    "* ***Fitness:*** é a forma que usaremos para medir ou estimar a aptidão de cada indivíduo.\n",
    "\n",
    "Tais considerações são fortemente inspiradas no neodarwinismo, que considera como alguns pilares para a evolução das espécies a *mutação*, a *recombinação gênica* e a *seleção natural.* Para nossos estudos isso significa:\n",
    "\n",
    "1. **Mutação:** processo em que os dados passados entre gerações (genes) sofrem alterações para garantir a variabilidade da população.\n",
    "\n",
    "2. **Recombinação gênica:** possibilitada através da reprodução sexuada, aqui misturaremos genes de pelo menos dois individuos, ampliando a gama de mutações mantendo o direcionamento da busca.\n",
    "\n",
    "3. **Seleção natural:** os indivíduos mais aptos serão aqueles com uma combinação gênica mais adequada ao seu meio, desse modo, usamos calculos que se aproveitam desta informação para selecionar indivíduos que serão as bases para as futuras gerações.\n",
    "\n",
    "### Representando um indivíduo:\n",
    "\n",
    "Cada indivíduo carregará consigo uma característica principal:\n",
    "\n",
    "* **Genótipo:** estas são as características genéticas contidas no cromossomo, podemos representa-las de acordo com a quantidade de genes que iremos trabalhar: \n",
    "    + **Haplóide:** apenas 1 gene\n",
    "    + **Diplóide:** 2 genes\n",
    "    + **Poliplóide:** 2 ou mais genes\n",
    "\n",
    "Em aplicações multi-objetivo trabalharemos com um conjunto de genes, em um cromossomo poliplóide ou vários cromossomos (dependendo de como a solução para o nosso problema for modelado), de toda forma sempre trabalharemos pensando sobre a aptidão do indivíduo."
   ]
  },
  {
   "cell_type": "markdown",
   "metadata": {},
   "source": [
    "## Manipulando uma população:\n",
    "\n",
    "Partindo da percepção de cada indíviduo que compõe a população e tendo em mente que no primeiro momento eles nada sabem sobre o meio, a população será iniciada com seus indivíduos portando valores aleatórios no seus genes, em seguida calculamos o *fitness* de cada indivíduo, dessa forma buscamos garantir que de início levaremos em consideração o máximo de possibilidades possíveis mas já identificaremos a melhores até então.\n",
    "\n",
    "Com base no fitness começaremos o processo de preparar a próxima geração, e aqui entra a seleção natural, já que se não descartarmos ao menos uma parcela de nossa população, o número de indivíduos crescerá tanto que tornará a execução de nosso algoritmo inviável, assim descartamos os menos aptos e escolhemos os que se manterão por ao menos mais uma geração, para isto existem métodos como o da roleta e o da amostragem estocástica, esses e alguns outros serão melhor analisados mais adiante.\n",
    "\n",
    "Depois de termos os indivíduos selecionados, chega a hora de criarmos a geração seguinte, para isso cruzamos indivíduos que chamaremos de pais, este é o momento em que realizamos a *recombinação gênica* (também chamda de *crossover*) e usamos uma taxa de *mutação*, assim como no início do algoritmo, também calculamos o *fitness* para os novos indivíduos.\n",
    "\n",
    "Dessa forma podemos pontuar os seguintes momentos da execução do algoritmo:\n",
    "\n",
    "* **Criação da população inicial:**\n",
    "    + Atribuição de valores aleatórios aos genes\n",
    "    + Calculo de *fitness*\n",
    "\n",
    "* **Seleção de indivíduos/descarte dos menos aptos:**\n",
    "    + Escolha de indivíduos pais\n",
    "    + Seleção dos que se manterão na geração seguinte ou não\n",
    "    \n",
    "* **Cruzamento/nova geração:**\n",
    "    + *Crossover* dos genes dos pais\n",
    "    + Mutação gênica\n",
    "    + Calculo de *fitness*\n",
    "    \n",
    "---\n",
    "\n",
    "Algo que neste ponto podemos começar a pensar é quantas vezes precisaremos realizar todo este processo, e a resposta para este questionamento depende quase que exclusivamente do problema que tentaremos solucionar com ele, mas logo de início temos duas soluções: executar o algoritmos até que ele encontre a solução ou executar o algoritmo numa quantidade pré determinada de vezes, o que pode ser uma solução interessante quando não se tem uma solução ideal ou cuja possível resposta tende ao infinito."
   ]
  },
  {
   "cell_type": "markdown",
   "metadata": {},
   "source": [
    "## Finalmente escrevendo um código de exemplo:"
   ]
  },
  {
   "cell_type": "markdown",
   "metadata": {},
   "source": [
    "Este é um simples exercício feito somente para ter uma noção da aplicação do coteúdo teórico num código de uma linguagem de programação, o objetivo será encontrar uma palavra escrita em letras maiúsculas que irei determinar na função que iniciará o funcionamento do algoritmo, isso significa que os recursos utilizados estarão adaptados à necessidade, ou seja: futuramente, quando precisar ou quiser usar AGs, este código nada mais será que um simples exemplo da tradução do conteúdo teórico para o prático, dessa forma também terás de refletir sobre como adaptar o conteúdo teórico visto até então às necessidades do uso que fará do algoritmo."
   ]
  },
  {
   "cell_type": "markdown",
   "metadata": {},
   "source": [
    "### \"imports\" que precisarei para o exemplo:"
   ]
  },
  {
   "cell_type": "code",
   "execution_count": 29,
   "metadata": {
    "collapsed": true
   },
   "outputs": [],
   "source": [
    "from random import choice as rand\n",
    "from random import randint\n",
    "from random import uniform\n",
    "from string import ascii_uppercase as letters\n",
    "from itertools import cycle"
   ]
  },
  {
   "cell_type": "markdown",
   "metadata": {},
   "source": [
    "### Classe individuo:\n",
    "\n",
    "Aqui pensamos nos requisitos mínimos que um individuo da nossa população precisa ter, aproveitei e já criei o método que será usado na criação da primeira população, aquela composta com genes aleatórios."
   ]
  },
  {
   "cell_type": "code",
   "execution_count": 30,
   "metadata": {
    "collapsed": true
   },
   "outputs": [],
   "source": [
    "class Individuo(object):\n",
    "    '''TODO: class Individuo\n",
    "    \n",
    "    :attrs: gene, fit\n",
    "    :methods: __init__, __repr__\n",
    "    \n",
    "    '''\n",
    "    def __init__(self,tam, fitness_calc,alvo, gene=None):\n",
    "        '''TODO:\n",
    "            \n",
    "            :tam: tamanho da cadeira de caracteres alvo\n",
    "            :fitness_calc: a funcao que calculara o fitness\n",
    "            :alvo: unicamente para usar no calculo de fitness\n",
    "            :gene: para a populacao inicial, e definido um valor aleatorio,\n",
    "                    para as geracoes seguintes, e atribuido um valor\n",
    "            \n",
    "        '''\n",
    "        self.gene = None\n",
    "        if gene == None:\n",
    "            self.gene = ''.join((rand(letters) for i in range(tam)))\n",
    "        else:\n",
    "            self.gene = gene\n",
    "            \n",
    "        self.fit = fitness_calc(self.gene, alvo)\n",
    "        \n",
    "    def __repr__(self):\n",
    "        return self.gene"
   ]
  },
  {
   "cell_type": "markdown",
   "metadata": {},
   "source": [
    "### Calculo de fitness:\n",
    "\n",
    "Este calculo deve ser moldado com base no problema que será solucionado pelo algoritmo, o único padrão que ele segue é que o resultado deve ser um número positivo, o que faz com que comumente ele contenha somatório ou o produto entre alguns de seus elementos. Como pensar, avaliar e aplicar um fitness que represente bem o \"ambiente\" em que os indivíduos de nossa população terão que sobreviver, não é tão difícil encontrar pela internet exemplos de calculos de fitness acompanhados de gráficos que indicam que tipo de meio eles representam, também existem alguns softwares que geram estes calculos."
   ]
  },
  {
   "cell_type": "code",
   "execution_count": 31,
   "metadata": {
    "collapsed": true
   },
   "outputs": [],
   "source": [
    "def fitness(gene, alvo):\n",
    "    dif = 0\n",
    "    \n",
    "    for i in range(len(alvo)): \n",
    "        dif += abs(ord(gene[i]) - ord(alvo[i]))\n",
    "    \n",
    "    return dif"
   ]
  },
  {
   "cell_type": "markdown",
   "metadata": {},
   "source": [
    "### Seleção de indivíduos\n",
    "\n",
    "Existem vários métodos de seleção e nada impede que possamos criar os nossos prórpios métodos, mas aqui representarei três entre os mais conhecidos: **roleta**, **amostragem universal estocástica** e **disputa**.\n",
    "\n",
    "Algo que precisamos ter em mente é que nem sempre escolher um método de seleção que privilegie unica e exclusivamente os melhores indivíduos leva a um desempenho melhor durante a execução do algoritmo, em muitos casos isso pode levar a um falso positivo, por isso o mais comum é buscarmos um equilíbrio que tende para para os melhores resultados mas sem esquecer a diversidade da população, afinal é isto que faz com que se tenha um bom horizonte de busca e se teste de maneira adequada as possibilidades dentro da heurística."
   ]
  },
  {
   "cell_type": "markdown",
   "metadata": {},
   "source": [
    "#### Roleta:\n",
    "\n",
    "Vamos imaginar um sorteio: a roda gira e seleciona aleatoriamente um valor, é mais ou menos assim que funciona o método de roleta, aqui usaremos uma roleta \"viciada\" já que daremos prioridade às melhores soluções encontradas até então, isto significa que o espaço disponibilizado para cada indivíduo ser selecionado, ou seja, a possibilidade de escolha de um indivíduo é proporcional a sua aptidão."
   ]
  },
  {
   "cell_type": "code",
   "execution_count": 32,
   "metadata": {
    "collapsed": true
   },
   "outputs": [],
   "source": [
    "def roleta(popl, num):\n",
    "    '''TODO: function roleta\n",
    "    :popl: type::list\n",
    "    :num: quantidade de individuos a serem selecionados\n",
    "    :return: individuos selecionados\n",
    "    '''\n",
    "    \n",
    "    selecionados = []\n",
    "    add_select = selecionados.append\n",
    "    \n",
    "    soma_aptidao = 0\n",
    "    for individuo in popl:\n",
    "        soma_aptidao += individuo.fit\n",
    "\n",
    "    for i in range(num):\n",
    "        r = uniform(0, soma_aptidao)\n",
    "        S = 0 # somatorio da aptidão dos individuos percorridos até entao\n",
    "        for i in popl:\n",
    "            if len(selecionados) == num: break\n",
    "            S += i.fit\n",
    "            if S >= r:\n",
    "                add_select(i)\n",
    "                \n",
    "    return selecionados"
   ]
  },
  {
   "cell_type": "markdown",
   "metadata": {},
   "source": [
    "#### Amostragem universal estocástica:\n",
    "\n",
    "Funciona mais ou menos como o método da roleta, mas segue um padrão na seleção, em vez de ter apenas uma agulha que seleciona um \"indivíduo\", neste método teremos algumas agulhas equidistantes ou não que selecionarão alguns indivíduos numa única rodada\n",
    "\n",
    "Mesmo diminuindo o número de iterações usados na seleção, este método tende a ter uma menor diversidade que o método da roleta."
   ]
  },
  {
   "cell_type": "markdown",
   "metadata": {},
   "source": [
    "#### Disputa/torneio:\n",
    "\n",
    "Um dos métodos mais usados pela sua simplicidade e baixo custo computaional: escolhemos aleatoriamente dois (ou mais) indivíduos, criamos um critério que defina quem deve ser escolhido (tendendo sempre para o com maior aptidão)"
   ]
  },
  {
   "cell_type": "code",
   "execution_count": 33,
   "metadata": {
    "collapsed": true
   },
   "outputs": [],
   "source": [
    "def torneio(popl, num):\n",
    "    '''TODO: function roleta\n",
    "    :popl: type list\n",
    "    :num: quantidade de individuos a serem selecionados\n",
    "    :return: individuos selecionados\n",
    "    '''\n",
    "    selecionados = []\n",
    "    add_select = selecionados.append\n",
    "    \n",
    "    k = 0.75 # constante que definirá a propabilidade de seleção\n",
    "    popl_fight = popl[::]\n",
    "    for _ in range(num):\n",
    "        combatentes = (rand(popl_fight), rand(popl_fight)) # usar pop para remover da lista temporaria\n",
    "        r = uniform(0, 1)\n",
    "        if r < k:\n",
    "            vencedor = max(combatentes, key=lambda x: x.fit)\n",
    "            add_select(vencedor)\n",
    "        else:\n",
    "            vencedor = min(combatentes, key=lambda x: x.fit)\n",
    "            add_select(vencedor)\n",
    "    \n",
    "    return selecionados"
   ]
  },
  {
   "cell_type": "markdown",
   "metadata": {},
   "source": [
    "### Reprodução\n",
    "\n",
    "Este é o momento que vamos preparar a nova geração de indivíduos. Agora que já temos os indivíduos pais, podemos iniciar o processo de combinação gênica, que junto com a taxa de mutação, formará os genes dos indivíduos filhos."
   ]
  },
  {
   "cell_type": "markdown",
   "metadata": {},
   "source": [
    "##### Pareamento\n",
    "\n",
    "Mesmo que já tenhamos selecionado apenas os mais aptos, ainda assim precisamos escolher os pais (um ou mais) cuja combinação de suas características dará origem à próxima geração, alguns dos métodos mais conhecidos para fazer isso são:"
   ]
  },
  {
   "cell_type": "markdown",
   "metadata": {},
   "source": [
    "###### Escolhas aleatórias:\n",
    "\n",
    "O nome já indica como é o seu funcionamento, inidivíduos aleatórios serão escolhidos. o problema é que não há certeza que isso gerará pares cujos filhos terão uma aptidão maior que a dos pais prejudicando a eficiência e até mesmo as chances do algoritmo chegar a bons resultados"
   ]
  },
  {
   "cell_type": "code",
   "execution_count": 34,
   "metadata": {
    "collapsed": true
   },
   "outputs": [],
   "source": [
    "def par_aleatorio(escolhidos):\n",
    "    pais = escolhidos[::]\n",
    "    pares = []\n",
    "    \n",
    "    tam = len(escolhidos) -1\n",
    "    for _ in range(tam):\n",
    "        pai = pais[randint(0, tam)]\n",
    "        mae = pais[randint(0, tam)]\n",
    "        pares.append((pai, mae))\n",
    "        \n",
    "        \n",
    "    return pares"
   ]
  },
  {
   "cell_type": "markdown",
   "metadata": {},
   "source": [
    "###### Os melhores junto com os piores\n",
    "\n",
    "Vamos pegar o melhor selecionado e juntar ao pior selecionado, o problema disso é que a quantidade de pares formados não seja adequada se formos substituir toda a população, mas é uma alternativa interessante se formos substituir apenas parte da população.\n",
    "\n",
    "No exemplo abaixo usei a biblioteca *itertools* para criar um generator que faz um loop numa lista de tuplas que contém a metade melhor e a metade pior dentre os selecionados."
   ]
  },
  {
   "cell_type": "code",
   "execution_count": 35,
   "metadata": {
    "collapsed": true
   },
   "outputs": [],
   "source": [
    "def melhor_com_pior(escolhidos, num):\n",
    "    escolhidos = sorted(escolhidos, key=lambda x:x.fit)\n",
    "    \n",
    "    melhores =  escolhidos[:num//2]\n",
    "    piores =  escolhidos[num//2:]\n",
    "    \n",
    "    pais = cycle(zip(melhores, piores))\n",
    "    pares = []\n",
    "    while len(pares) < num:\n",
    "        pares.append(next(pais))\n",
    "        \n",
    "    return pares"
   ]
  },
  {
   "cell_type": "markdown",
   "metadata": {},
   "source": [
    "##### Combinação gênica\n",
    "\n",
    "A idéia aqui é unicamente misturar os genes do pai com o da mãe, normalmente este processo é demonstrado usando binários, e admito que esta é a forma mais simples, lógica e visualmente direta e simples de exemplificar o processo."
   ]
  },
  {
   "cell_type": "markdown",
   "metadata": {},
   "source": [
    "###### Usando pontos de quebra\n",
    "\n",
    "Considerando um valor binário, vamos estipular uma posição nesta cadeia de 0 e 1 onde antes ou depois dela, vamos permutar os 0 e 1 entre os pais, exemplo porque sei que da forma reduzida que escrevi não dá para entender:\n",
    "\n",
    "digamos que o pai é **01010101** e a mãe é **11001100**\n",
    "\n",
    "dividimos ao meio, ou seja, adicionamos 1 ponto de quebra, de um lado mantemos os genes do pai ou da mãe, e alteramos a posição do restando, assim poderíamos obter:\n",
    "\n",
    "|pais|**01010101**|**11001100**|\n",
    "|--|--|--|\n",
    "|**filhos**|**01011101** | **11000101**|\n",
    "\n",
    "neste exemplo, o objetivo é tantarmos manter mais fortemente características de um dos pais, mas na prática, isso depende mais de como você analisa a situação, o problema e também vai de acordo com sua consciência escolher o que fazer neste momento, afinal o importante é tentar misturar os genes da melhor forma possível."
   ]
  },
  {
   "cell_type": "code",
   "execution_count": 36,
   "metadata": {
    "collapsed": true
   },
   "outputs": [],
   "source": [
    "def comb_quebra(pais):\n",
    "    \n",
    "    '''\n",
    "    Exemplo com apenas 1 ponto de quebra\n",
    "    Mantendo a parte inicial do objeto com melhor fitness e o restante com o do pior fitness entre os pais\n",
    "    '''\n",
    "    filhos = []\n",
    " \n",
    "    try:\n",
    "        for p, m in pais:\n",
    "        #    if type(pior.gene) == list:\n",
    "            quebra = len(m.gene)//2\n",
    "            novo0 = m.gene[:quebra] + p.gene[quebra:]\n",
    "            novo1 = p.gene[:quebra] + m.gene[quebra:]\n",
    "            if type(novo0)==list or type(novo1)==list:\n",
    "                import ipdb; ipdb.set_trace()\n",
    "            filhos.append(novo0)\n",
    "            filhos.append(novo1)\n",
    "    except:\n",
    "        pass\n",
    "    \n",
    "    return filhos[::]\n",
    "    "
   ]
  },
  {
   "cell_type": "markdown",
   "metadata": {},
   "source": [
    "**É importante ressaltar que é neste momento que normalmente definimos a quantidade de filhos, ou seja, quantos membros terá a geração seguinte.**"
   ]
  },
  {
   "cell_type": "markdown",
   "metadata": {},
   "source": [
    "### Mutação:\n",
    "\n",
    "A taxa de mutação é um importante elemento que define parte considerável da dinâmica da evolução do algoritmo, tendo em vista que um valor maior nesta taxa significa que os filhos serão menos parecidos com os pais, o que permite uma maior dispersão/variabilidade entre eles mas também significa que aproveitarão menos do que foi acumulado entre as gerações. Da mesma forma uma taxa de mutação muito pequena também pode comprometer o algoritmo, pois se os indivíduos pouco se dispersam e apenas continuam os rumos definidos pelos pais, há um grande risco de haver uma convergência precipitada no nosso algoritmo, o que tem grandes chances de levar a um resultado falso positivo (percebemos isso geralmente quando os genes estancam num determinado valor ainda longe do ótimo esperado)"
   ]
  },
  {
   "cell_type": "code",
   "execution_count": 37,
   "metadata": {
    "collapsed": true
   },
   "outputs": [],
   "source": [
    "def mutacao(populacao, taxa=0.05):\n",
    "    # mutação em 5% da população por padrão\n",
    "    \n",
    "    qnt = int(len(populacao)*taxa)\n",
    "    \n",
    "    for _ in range(qnt):\n",
    "        posit = randint(0, qnt-1)\n",
    "        mutante = populacao[posit]\n",
    "        mutante.gene = [''.join((rand(letters) for i in range(len(mutante.gene))))]"
   ]
  },
  {
   "cell_type": "markdown",
   "metadata": {},
   "source": [
    "## Concluindo a implementação:\n",
    "\n",
    "Só para relembrar, o passo a passo pode ser representado por este grafo:\n",
    "\n",
    "![](figures/ags/Algoritmos_Geneticos.svg)\n",
    "\n",
    "Agora, finalmente vamos ao código!"
   ]
  },
  {
   "cell_type": "code",
   "execution_count": 38,
   "metadata": {
    "collapsed": false
   },
   "outputs": [],
   "source": [
    "from copy import deepcopy\n",
    "def AG():\n",
    "    \n",
    "    # configuracoes\n",
    "    qnt_popl = 400\n",
    "    qnt_geracoes = 1000 # limite maximo de iteracoes\n",
    "    alvo = 'integral'.upper()\n",
    "    dim = len(alvo) # quantidade de dimensões, neste caso, quantidade de caracteres\n",
    "    \n",
    "    # população inicial\n",
    "    popl = [Individuo(dim, fitness, alvo) for _ in range(qnt_popl)]\n",
    "    # população ordenada\n",
    "    popl = sorted(popl, key=lambda x:x.fit)\n",
    "    # melhor resultado até o momento\n",
    "    best = deepcopy(popl[0])\n",
    "    \n",
    "    # print das informações\n",
    "    print('-' * 80)\n",
    "    print('Alvo: ', alvo)\n",
    "    print('-' * 80)\n",
    "    print('best: ', best)\n",
    "    #print('população inicial:', popl)\n",
    "    print('-' * 80)\n",
    "    \n",
    "    i = 0 # contador\n",
    "    while i < qnt_geracoes or best.gene == alvo:\n",
    "\n",
    "        # seleção\n",
    "        selecionados = torneio(popl, qnt_popl // 2)\n",
    "                \n",
    "\n",
    "\n",
    "        # pareamento\n",
    "        pais = par_aleatorio(selecionados)\n",
    "\n",
    "        \n",
    "        # combinação gênica\n",
    "        nova_popl = [Individuo(dim, fitness, alvo, i) for i in comb_quebra(pais)]\n",
    "        \n",
    "#        for n1, n2 in n:\n",
    "#            # assumindo que cada par teve dois filhos\n",
    "#            f0 = Individuo(dim, fitness, alvo, gene=n1)\n",
    "#            f1 = Individuo(dim, fitness, alvo, gene=n2)\n",
    "            \n",
    "#            nova_popl.append(f0)\n",
    "#            nova_popl.append(f1)\n",
    "            \n",
    "        # mutação\n",
    "        mutacao(nova_popl)\n",
    "        \n",
    "        # nova população\n",
    "        popl = sorted(nova_popl, key=lambda x: x.fit)[::]\n",
    "        import ipdb; ipdb.set_trace()\n",
    "        # novo melhor individuo\n",
    "        best = deepcopy(popl[0])\n",
    "        \n",
    "        i += 1\n",
    "        \n",
    "        if i % 100 == 0:\n",
    "            print(i)\n",
    "            print('melhor:', best.fit, best)\n",
    "            print(n[:3])\n",
    "            print(popl[:5])\n",
    "            \n",
    "        \n",
    "    \n",
    "    print('-' * 80)\n",
    "    print('Quantidade de iterações: ', i)\n",
    "    print('-' * 80)\n",
    "    print('Melhor individuo: ', best)\n",
    "    print('Alvo: ', alvo)\n",
    "    print('-' * 80)"
   ]
  },
  {
   "cell_type": "code",
   "execution_count": 39,
   "metadata": {
    "collapsed": false,
    "scrolled": true
   },
   "outputs": [
    {
     "name": "stdout",
     "output_type": "stream",
     "text": [
      "--------------------------------------------------------------------------------\n",
      "Alvo:  INTEGRAL\n",
      "--------------------------------------------------------------------------------\n",
      "best:  HNVEJKGM\n",
      "--------------------------------------------------------------------------------\n",
      "> \u001b[1;32m<ipython-input-38-861ac5ac5e11>\u001b[0m(55)\u001b[0;36mAG\u001b[1;34m()\u001b[0m\n",
      "\u001b[1;32m     54 \u001b[1;33m        \u001b[1;31m# novo melhor individuo\u001b[0m\u001b[1;33m\u001b[0m\u001b[1;33m\u001b[0m\u001b[0m\n",
      "\u001b[0m\u001b[1;32m---> 55 \u001b[1;33m        \u001b[0mbest\u001b[0m \u001b[1;33m=\u001b[0m \u001b[0mdeepcopy\u001b[0m\u001b[1;33m(\u001b[0m\u001b[0mpopl\u001b[0m\u001b[1;33m[\u001b[0m\u001b[1;36m0\u001b[0m\u001b[1;33m]\u001b[0m\u001b[1;33m)\u001b[0m\u001b[1;33m\u001b[0m\u001b[0m\n",
      "\u001b[0m\u001b[1;32m     56 \u001b[1;33m\u001b[1;33m\u001b[0m\u001b[0m\n",
      "\u001b[0m\n",
      "ipdb> l\n",
      "\u001b[0;32m     50 \u001b[0m\u001b[1;33m\u001b[0m\u001b[0m\n",
      "\u001b[0;32m     51 \u001b[0m        \u001b[1;31m# nova população\u001b[0m\u001b[1;33m\u001b[0m\u001b[1;33m\u001b[0m\u001b[0m\n",
      "\u001b[0;32m     52 \u001b[0m        \u001b[0mpopl\u001b[0m \u001b[1;33m=\u001b[0m \u001b[0msorted\u001b[0m\u001b[1;33m(\u001b[0m\u001b[0mnova_popl\u001b[0m\u001b[1;33m,\u001b[0m \u001b[0mkey\u001b[0m\u001b[1;33m=\u001b[0m\u001b[1;32mlambda\u001b[0m \u001b[0mx\u001b[0m\u001b[1;33m:\u001b[0m \u001b[0mx\u001b[0m\u001b[1;33m.\u001b[0m\u001b[0mfit\u001b[0m\u001b[1;33m)\u001b[0m\u001b[1;33m[\u001b[0m\u001b[1;33m:\u001b[0m\u001b[1;33m:\u001b[0m\u001b[1;33m]\u001b[0m\u001b[1;33m\u001b[0m\u001b[0m\n",
      "\u001b[0;32m     53 \u001b[0m        \u001b[1;32mimport\u001b[0m \u001b[0mipdb\u001b[0m\u001b[1;33m;\u001b[0m \u001b[0mipdb\u001b[0m\u001b[1;33m.\u001b[0m\u001b[0mset_trace\u001b[0m\u001b[1;33m(\u001b[0m\u001b[1;33m)\u001b[0m\u001b[1;33m\u001b[0m\u001b[0m\n",
      "\u001b[0;32m     54 \u001b[0m        \u001b[1;31m# novo melhor individuo\u001b[0m\u001b[1;33m\u001b[0m\u001b[1;33m\u001b[0m\u001b[0m\n",
      "\u001b[1;32m---> 55 \u001b[1;33m        \u001b[0mbest\u001b[0m \u001b[1;33m=\u001b[0m \u001b[0mdeepcopy\u001b[0m\u001b[1;33m(\u001b[0m\u001b[0mpopl\u001b[0m\u001b[1;33m[\u001b[0m\u001b[1;36m0\u001b[0m\u001b[1;33m]\u001b[0m\u001b[1;33m)\u001b[0m\u001b[1;33m\u001b[0m\u001b[0m\n",
      "\u001b[0m\u001b[0;32m     56 \u001b[0m\u001b[1;33m\u001b[0m\u001b[0m\n",
      "\u001b[0;32m     57 \u001b[0m        \u001b[0mi\u001b[0m \u001b[1;33m+=\u001b[0m \u001b[1;36m1\u001b[0m\u001b[1;33m\u001b[0m\u001b[0m\n",
      "\u001b[0;32m     58 \u001b[0m\u001b[1;33m\u001b[0m\u001b[0m\n",
      "\u001b[0;32m     59 \u001b[0m        \u001b[1;32mif\u001b[0m \u001b[0mi\u001b[0m \u001b[1;33m%\u001b[0m \u001b[1;36m100\u001b[0m \u001b[1;33m==\u001b[0m \u001b[1;36m0\u001b[0m\u001b[1;33m:\u001b[0m\u001b[1;33m\u001b[0m\u001b[0m\n",
      "\u001b[0;32m     60 \u001b[0m            \u001b[0mprint\u001b[0m\u001b[1;33m(\u001b[0m\u001b[0mi\u001b[0m\u001b[1;33m)\u001b[0m\u001b[1;33m\u001b[0m\u001b[0m\n",
      "\n",
      "ipdb> popl\n",
      "*** TypeError: __repr__ returned non-string (type list)\n",
      "ipdb> q\n"
     ]
    },
    {
     "ename": "BdbQuit",
     "evalue": "",
     "output_type": "error",
     "traceback": [
      "\u001b[1;31m---------------------------------------------------------------------------\u001b[0m",
      "\u001b[1;31mBdbQuit\u001b[0m                                   Traceback (most recent call last)",
      "\u001b[1;32m<ipython-input-39-0e4e2b26e828>\u001b[0m in \u001b[0;36m<module>\u001b[1;34m()\u001b[0m\n\u001b[1;32m----> 1\u001b[1;33m \u001b[0mAG\u001b[0m\u001b[1;33m(\u001b[0m\u001b[1;33m)\u001b[0m\u001b[1;33m\u001b[0m\u001b[0m\n\u001b[0m",
      "\u001b[1;32m<ipython-input-38-861ac5ac5e11>\u001b[0m in \u001b[0;36mAG\u001b[1;34m()\u001b[0m\n\u001b[0;32m     53\u001b[0m         \u001b[1;32mimport\u001b[0m \u001b[0mipdb\u001b[0m\u001b[1;33m;\u001b[0m \u001b[0mipdb\u001b[0m\u001b[1;33m.\u001b[0m\u001b[0mset_trace\u001b[0m\u001b[1;33m(\u001b[0m\u001b[1;33m)\u001b[0m\u001b[1;33m\u001b[0m\u001b[0m\n\u001b[0;32m     54\u001b[0m         \u001b[1;31m# novo melhor individuo\u001b[0m\u001b[1;33m\u001b[0m\u001b[1;33m\u001b[0m\u001b[0m\n\u001b[1;32m---> 55\u001b[1;33m         \u001b[0mbest\u001b[0m \u001b[1;33m=\u001b[0m \u001b[0mdeepcopy\u001b[0m\u001b[1;33m(\u001b[0m\u001b[0mpopl\u001b[0m\u001b[1;33m[\u001b[0m\u001b[1;36m0\u001b[0m\u001b[1;33m]\u001b[0m\u001b[1;33m)\u001b[0m\u001b[1;33m\u001b[0m\u001b[0m\n\u001b[0m\u001b[0;32m     56\u001b[0m \u001b[1;33m\u001b[0m\u001b[0m\n\u001b[0;32m     57\u001b[0m         \u001b[0mi\u001b[0m \u001b[1;33m+=\u001b[0m \u001b[1;36m1\u001b[0m\u001b[1;33m\u001b[0m\u001b[0m\n",
      "\u001b[1;32m<ipython-input-38-861ac5ac5e11>\u001b[0m in \u001b[0;36mAG\u001b[1;34m()\u001b[0m\n\u001b[0;32m     53\u001b[0m         \u001b[1;32mimport\u001b[0m \u001b[0mipdb\u001b[0m\u001b[1;33m;\u001b[0m \u001b[0mipdb\u001b[0m\u001b[1;33m.\u001b[0m\u001b[0mset_trace\u001b[0m\u001b[1;33m(\u001b[0m\u001b[1;33m)\u001b[0m\u001b[1;33m\u001b[0m\u001b[0m\n\u001b[0;32m     54\u001b[0m         \u001b[1;31m# novo melhor individuo\u001b[0m\u001b[1;33m\u001b[0m\u001b[1;33m\u001b[0m\u001b[0m\n\u001b[1;32m---> 55\u001b[1;33m         \u001b[0mbest\u001b[0m \u001b[1;33m=\u001b[0m \u001b[0mdeepcopy\u001b[0m\u001b[1;33m(\u001b[0m\u001b[0mpopl\u001b[0m\u001b[1;33m[\u001b[0m\u001b[1;36m0\u001b[0m\u001b[1;33m]\u001b[0m\u001b[1;33m)\u001b[0m\u001b[1;33m\u001b[0m\u001b[0m\n\u001b[0m\u001b[0;32m     56\u001b[0m \u001b[1;33m\u001b[0m\u001b[0m\n\u001b[0;32m     57\u001b[0m         \u001b[0mi\u001b[0m \u001b[1;33m+=\u001b[0m \u001b[1;36m1\u001b[0m\u001b[1;33m\u001b[0m\u001b[0m\n",
      "\u001b[1;32m/usr/lib/python3.5/bdb.py\u001b[0m in \u001b[0;36mtrace_dispatch\u001b[1;34m(self, frame, event, arg)\u001b[0m\n\u001b[0;32m     46\u001b[0m             \u001b[1;32mreturn\u001b[0m \u001b[1;31m# None\u001b[0m\u001b[1;33m\u001b[0m\u001b[0m\n\u001b[0;32m     47\u001b[0m         \u001b[1;32mif\u001b[0m \u001b[0mevent\u001b[0m \u001b[1;33m==\u001b[0m \u001b[1;34m'line'\u001b[0m\u001b[1;33m:\u001b[0m\u001b[1;33m\u001b[0m\u001b[0m\n\u001b[1;32m---> 48\u001b[1;33m             \u001b[1;32mreturn\u001b[0m \u001b[0mself\u001b[0m\u001b[1;33m.\u001b[0m\u001b[0mdispatch_line\u001b[0m\u001b[1;33m(\u001b[0m\u001b[0mframe\u001b[0m\u001b[1;33m)\u001b[0m\u001b[1;33m\u001b[0m\u001b[0m\n\u001b[0m\u001b[0;32m     49\u001b[0m         \u001b[1;32mif\u001b[0m \u001b[0mevent\u001b[0m \u001b[1;33m==\u001b[0m \u001b[1;34m'call'\u001b[0m\u001b[1;33m:\u001b[0m\u001b[1;33m\u001b[0m\u001b[0m\n\u001b[0;32m     50\u001b[0m             \u001b[1;32mreturn\u001b[0m \u001b[0mself\u001b[0m\u001b[1;33m.\u001b[0m\u001b[0mdispatch_call\u001b[0m\u001b[1;33m(\u001b[0m\u001b[0mframe\u001b[0m\u001b[1;33m,\u001b[0m \u001b[0marg\u001b[0m\u001b[1;33m)\u001b[0m\u001b[1;33m\u001b[0m\u001b[0m\n",
      "\u001b[1;32m/usr/lib/python3.5/bdb.py\u001b[0m in \u001b[0;36mdispatch_line\u001b[1;34m(self, frame)\u001b[0m\n\u001b[0;32m     65\u001b[0m         \u001b[1;32mif\u001b[0m \u001b[0mself\u001b[0m\u001b[1;33m.\u001b[0m\u001b[0mstop_here\u001b[0m\u001b[1;33m(\u001b[0m\u001b[0mframe\u001b[0m\u001b[1;33m)\u001b[0m \u001b[1;32mor\u001b[0m \u001b[0mself\u001b[0m\u001b[1;33m.\u001b[0m\u001b[0mbreak_here\u001b[0m\u001b[1;33m(\u001b[0m\u001b[0mframe\u001b[0m\u001b[1;33m)\u001b[0m\u001b[1;33m:\u001b[0m\u001b[1;33m\u001b[0m\u001b[0m\n\u001b[0;32m     66\u001b[0m             \u001b[0mself\u001b[0m\u001b[1;33m.\u001b[0m\u001b[0muser_line\u001b[0m\u001b[1;33m(\u001b[0m\u001b[0mframe\u001b[0m\u001b[1;33m)\u001b[0m\u001b[1;33m\u001b[0m\u001b[0m\n\u001b[1;32m---> 67\u001b[1;33m             \u001b[1;32mif\u001b[0m \u001b[0mself\u001b[0m\u001b[1;33m.\u001b[0m\u001b[0mquitting\u001b[0m\u001b[1;33m:\u001b[0m \u001b[1;32mraise\u001b[0m \u001b[0mBdbQuit\u001b[0m\u001b[1;33m\u001b[0m\u001b[0m\n\u001b[0m\u001b[0;32m     68\u001b[0m         \u001b[1;32mreturn\u001b[0m \u001b[0mself\u001b[0m\u001b[1;33m.\u001b[0m\u001b[0mtrace_dispatch\u001b[0m\u001b[1;33m\u001b[0m\u001b[0m\n\u001b[0;32m     69\u001b[0m \u001b[1;33m\u001b[0m\u001b[0m\n",
      "\u001b[1;31mBdbQuit\u001b[0m: "
     ]
    }
   ],
   "source": [
    "AG()"
   ]
  },
  {
   "cell_type": "code",
   "execution_count": null,
   "metadata": {
    "collapsed": true
   },
   "outputs": [],
   "source": []
  },
  {
   "cell_type": "code",
   "execution_count": null,
   "metadata": {
    "collapsed": true
   },
   "outputs": [],
   "source": []
  }
 ],
 "metadata": {
  "kernelspec": {
   "display_name": "Python 3",
   "language": "python",
   "name": "python3"
  },
  "language_info": {
   "codemirror_mode": {
    "name": "ipython",
    "version": 3
   },
   "file_extension": ".py",
   "mimetype": "text/x-python",
   "name": "python",
   "nbconvert_exporter": "python",
   "pygments_lexer": "ipython3",
   "version": "3.5.1"
  }
 },
 "nbformat": 4,
 "nbformat_minor": 0
}
