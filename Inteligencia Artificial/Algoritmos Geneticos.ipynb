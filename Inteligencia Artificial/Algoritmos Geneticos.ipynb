{
 "cells": [
  {
   "cell_type": "markdown",
   "metadata": {},
   "source": [
    "# Algoritmos Genéticos"
   ]
  },
  {
   "cell_type": "markdown",
   "metadata": {},
   "source": [
    "## O que são:\n",
    "\n",
    "São algoritmos de busca heurística\\* que também podem ser usados para resolver problemas de otimização e são inspirados na teoria da evolução das espécies e na genética.\n",
    "\n",
    "Sempre que formos trabalhar com algoritmos genéticos (AGs) trabalharemos com uma população de indivíduos, isso significa que em vez de termos uma única solução por iteração, teremos possivelmente um conjunto de soluções correspondente ao número de individuos, e como os individuos interagem entre si durante entre as passagens por gerações, teremos uma convergência mais rápida para um resultado ideal ou próximo ao ideal.\n",
    "\n",
    "\\* *heurística* é uma forma de descartar as opções mais improváveis tornando a busca mais objetiva, isto quer dizer que os Algoritmos Genéticos não irão testar todas as possibilidades até encontrar a ideal, mas partirão de um escopo de soluções possíveis e depois vão refinando a sua direção até ser o mais próximo possível da solução ideal.\n",
    "\n",
    "*obs: Algoritmos Genéticos fazem parte de um grupo especial de algoritmos chamados algoritmos evolutivos, eles tem em comum o uso de características do neodarwinismo, não apenas na questão da evolução, mas também nas questões de adaptação e seleção de indivíduos.*"
   ]
  },
  {
   "cell_type": "markdown",
   "metadata": {},
   "source": [
    "## Bases biológicas:\n",
    "\n",
    "### Considerações iniciais:\n",
    "\n",
    "Como em computação tratamos de abstração e sistematização, e como já foi citada a origem dos AGs em relação à evolução das espécies, copiamos da natureza alguns métodos e atributos que usaremos nestes algoritmos para isso precisamos ter em mente algumas considerações:\n",
    "\n",
    "* **População:** um ou mais conjuntos de indivíduos que buscarão uma solução (valor máximo ou mínimo).\n",
    "\n",
    "* **Adaptação/evolução:** precisamos ter em mente que as melhores soluções passarão adiante, isso significa que as caracteríscas encontradas pelos indivíduos mais aptos serão passadas para as próximas gerações enquanto os menos aptos morrerão ao longo do desenvolvimento da população.\n",
    "\n",
    "* **Variabilidade:** assim como na natureza os filhos herdam os genes dos pais mas com pequenas variações simulamos este comportamento nos AGs por diversos motivos como a garantia que todos os indivíduos sejam diferentes entre si e que se tenha uma maior variedade no comportamento de cada indivíduo.\n",
    "\n",
    "* ***Fitness:*** é a forma que usaremos para medir ou estimar a aptidão de cada indivíduo.\n",
    "\n",
    "Tais considerações são fortemente inspiradas no neodarwinismo, que considera como alguns pilares para a evolução das espécies a *mutação*, a *recombinação gênica* e a *seleção natural.* Para nossos estudos isso significa:\n",
    "\n",
    "1. **Mutação:** processo em que os dados passados entre gerações (genes) sofrem alterações para garantir a variabilidade da população.\n",
    "\n",
    "2. **Recombinação gênica:** possibilitada através da reprodução sexuada, aqui misturaremos genes de pelo menos dois individuos, ampliando a gama de mutações mantendo o direcionamento da busca.\n",
    "\n",
    "3. **Seleção natural:** os indivíduos mais aptos serão aqueles com uma combinação gênica mais adequada ao seu meio, desse modo, usamos calculos que se aproveitam desta informação para selecionar indivíduos que serão as bases para as futuras gerações.\n",
    "\n",
    "### Representando um indivíduo:\n",
    "\n",
    "Cada indivíduo carregará consigo uma característica principal:\n",
    "\n",
    "* **Genótipo:** estas são as características genéticas contidas no cromossomo, podemos representa-las de acordo com a quantidade de genes que iremos trabalhar: \n",
    "    + **Haplóide:** apenas 1 gene\n",
    "    + **Diplóide:** 2 genes\n",
    "    + **Poliplóide:** 2 ou mais genes\n",
    "\n",
    "Em aplicações multi-objetivo trabalharemos com um conjunto de genes, em um cromossomo poliplóide ou vários cromossomos (dependendo de como a solução para o nosso problema for modelado), de toda forma sempre trabalharemos pensando sobre a aptidão do indivíduo."
   ]
  },
  {
   "cell_type": "markdown",
   "metadata": {},
   "source": [
    "## Manipulando uma população:\n",
    "\n",
    "Partindo da percepção de cada indíviduo que compõe a população e tendo em mente que no primeiro momento eles nada sabem sobre o meio, a população será iniciada com seus indivíduos portando valores aleatórios no seus genes, em seguida calculamos o *fitness* de cada indivíduo, dessa forma buscamos garantir que de início levaremos em consideração o máximo de possibilidades possíveis mas já identificaremos a melhores até então.\n",
    "\n",
    "Com base no fitness começaremos o processo de preparar a próxima geração, e aqui entra a seleção natural, já que se não descartarmos ao menos uma parcela de nossa população, o número de indivíduos crescerá tanto que tornará a execução de nosso algoritmo inviável, assim descartamos os menos aptos e escolhemos os que se manterão por ao menos mais uma geração, para isto existem métodos como o da roleta e o da amostragem estocástica, esses e alguns outros serão melhor analisados mais adiante.\n",
    "\n",
    "Depois de termos os indivíduos selecionados, chega a hora de criarmos a geração seguinte, para isso cruzamos indivíduos que chamaremos de pais, este é o momento em que realizamos a *recombinação gênica* (também chamda de *crossover*) e usamos uma taxa de *mutação*, assim como no início do algoritmo, também calculamos o *fitness* para os novos indivíduos.\n",
    "\n",
    "Dessa forma podemos pontuar os seguintes momentos da execução do algoritmo:\n",
    "\n",
    "* **Criação da população inicial:**\n",
    "    + Atribuição de valores aleatórios aos genes\n",
    "    + Calculo de *fitness*\n",
    "\n",
    "* **Seleção de indivíduos/descarte dos menos aptos:**\n",
    "    + Escolha de indivíduos pais\n",
    "    + Seleção dos que se manterão na geração seguinte ou não\n",
    "    \n",
    "* **Cruzamento/nova geração:**\n",
    "    + *Crossover* dos genes dos pais\n",
    "    + Mutação gênica\n",
    "    + Calculo de *fitness*\n",
    "    \n",
    "---\n",
    "\n",
    "Algo que neste ponto podemos começar a pensar é quantas vezes precisaremos realizar todo este processo, e a resposta para este questionamento depende quase que exclusivamente do problema que tentaremos solucionar com ele, mas logo de início temos duas soluções: executar o algoritmos até que ele encontre a solução ou executar o algoritmo numa quantidade pré determinada de vezes, o que pode ser uma solução interessante quando não se tem uma solução ideal ou cuja possível resposta tende ao infinito."
   ]
  },
  {
   "cell_type": "markdown",
   "metadata": {},
   "source": [
    "## Finalmente escrevendo um código de exemplo:"
   ]
  },
  {
   "cell_type": "markdown",
   "metadata": {},
   "source": [
    "Este é um simples exercício feito somente para ter uma noção da aplicação do coteúdo teórico num código de uma linguagem de programação, o objetivo será encontrar uma palavra escrita em letras maiúsculas que irei determinar na função que iniciará o funcionamento do algoritmo, isso significa que os recursos utilizados estarão adaptados à necessidade, ou seja: futuramente, quando precisar ou quiser usar AGs, este código nada mais será que um simples exemplo da tradução do conteúdo teórico para o prático, dessa forma também terás de refletir sobre como adaptar o conteúdo teórico visto até então às necessidades do uso que fará do algoritmo."
   ]
  },
  {
   "cell_type": "markdown",
   "metadata": {},
   "source": [
    "### \"imports\" que precisarei para o exemplo:"
   ]
  },
  {
   "cell_type": "code",
   "execution_count": null,
   "metadata": {
    "collapsed": true
   },
   "outputs": [],
   "source": [
    "from random import choice as rand\n",
    "from random import randint\n",
    "from random import uniform\n",
    "from string import ascii_uppercase as letters"
   ]
  },
  {
   "cell_type": "markdown",
   "metadata": {},
   "source": [
    "### Classe individuo:\n",
    "\n",
    "Aqui pensamos nos requisitos mínimos que um individuo da nossa população precisa ter, aproveitei e já criei o método que será usado na criação da primeira população, aquela composta com genes aleatórios."
   ]
  },
  {
   "cell_type": "code",
   "execution_count": null,
   "metadata": {
    "collapsed": true
   },
   "outputs": [],
   "source": [
    "class Individuo(object):\n",
    "    '''TODO: class Individuo\n",
    "    \n",
    "    :attrs: gene, fit\n",
    "    :methods: __init__, __repr__\n",
    "    \n",
    "    '''\n",
    "    def __init__(self,tam, fitness_calc,alvo, gene=None):\n",
    "        '''TODO: individuo.__init__:\n",
    "            \n",
    "            :tam: tamanho da cadeira de caracteres alvo\n",
    "            :fitness_calc: a funcao que calculara o fitness\n",
    "            :alvo: unicamente para usar no calculo de fitness\n",
    "            :gene: para a populacao inicial, e definido um valor aleatorio,\n",
    "                    para as geracoes seguintes, e atribuido um valor\n",
    "            \n",
    "        '''\n",
    "        self.gene = None\n",
    "        if gene == None:\n",
    "            self.gene = ''.join((rand(letters) for i in range(tam)))\n",
    "        else:\n",
    "            self.gene = gene\n",
    "            \n",
    "        self.fit = fitness_calc(self.gene, alvo)\n",
    "        \n",
    "    def __repr__(self):\n",
    "        return \"gene: {0}\".format(self.gene)"
   ]
  },
  {
   "cell_type": "markdown",
   "metadata": {},
   "source": [
    "### Calculo de fitness:\n",
    "\n",
    "Este calculo deve ser moldado com base no problema que será solucionado pelo algoritmo, o único padrão que ele segue é que o resultado deve ser um número positivo, o que faz com que comumente ele contenha somatório ou o produto entre alguns de seus elementos. Como pensar, avaliar e aplicar um fitness que represente bem o \"ambiente\" em que os indivíduos de nossa população terão que sobreviver, não é tão difícil encontrar pela internet exemplos de calculos de fitness acompanhados de gráficos que indicam que tipo de meio eles representam, também existem alguns softwares que geram estes calculos."
   ]
  },
  {
   "cell_type": "code",
   "execution_count": null,
   "metadata": {
    "collapsed": true
   },
   "outputs": [],
   "source": [
    "def fitness(gene, alvo):\n",
    "    dif = 0\n",
    "    \n",
    "    for i in range(len(alvo)): \n",
    "        dif += abs(ord(gene[i]) - ord(alvo[i]))\n",
    "    \n",
    "    return dif"
   ]
  },
  {
   "cell_type": "markdown",
   "metadata": {},
   "source": [
    "### Seleção de indivíduos\n",
    "\n",
    "Existem vários métodos de seleção e nada impede que possamos criar os nossos prórpios métodos, mas aqui representarei três entre os mais conhecidos: **roleta**, **amostragem universal estocástica** e **disputa**.\n",
    "\n",
    "Algo que precisamos ter em mente é que nem sempre escolher um método de seleção que privilegie unica e exclusivamente os melhores indivíduos leva a um desempenho melhor durante a execução do algoritmo, em muitos casos isso pode levar a um falso positivo, por isso o mais comum é buscarmos um equilíbrio que tende para para os melhores resultados mas sem esquecer a diversidade da população, afinal é isto que faz com que se tenha um bom horizonte de busca e se teste de maneira adequada as possibilidades dentro da heurística."
   ]
  },
  {
   "cell_type": "markdown",
   "metadata": {},
   "source": [
    "#### Roleta:\n",
    "\n",
    "Vamos imaginar um sorteio: a roda gira e seleciona aleatoriamente um valor, é mais ou menos assim que funciona o método de roleta, aqui usaremos uma roleta \"viciada\" já que daremos prioridade às melhores soluções encontradas até então, isto significa que o espaço disponibilizado para cada indivíduo ser selecionado, ou seja, a possibilidade de escolha de um indivíduo é proporcional a sua aptidão."
   ]
  },
  {
   "cell_type": "code",
   "execution_count": null,
   "metadata": {
    "collapsed": true
   },
   "outputs": [],
   "source": [
    "def roleta(popl, num):\n",
    "    '''TODO: function roleta\n",
    "    :popl: type::list\n",
    "    :num: quantidade de individuos a serem selecionados\n",
    "    :return: individuos selecionados\n",
    "    '''\n",
    "    \n",
    "    selecionados = []\n",
    "    add_select = selecionados.append\n",
    "    \n",
    "    soma_aptidao = 0\n",
    "    for individuo in popl:\n",
    "        soma_aptidao += individuo.fit\n",
    "\n",
    "    for i in range(num):\n",
    "        r = uniform(0, soma_aptidao)\n",
    "        S = 0 # somatorio da aptidão dos individuos percorridos até entao\n",
    "        for i in popl:\n",
    "            if len(selecionados) == num: break\n",
    "            S += i.fit\n",
    "            if S >= r:\n",
    "                add_select(i)\n",
    "                \n",
    "    return selecionados"
   ]
  },
  {
   "cell_type": "markdown",
   "metadata": {},
   "source": [
    "#### Amostragem universal estocástica:\n",
    "\n",
    "Funciona mais ou menos como o método da roleta, mas segue um padrão na seleção, em vez de ter apenas uma agulha que seleciona um \"indivíduo\", neste método teremos algumas agulhas equidistantes ou não que selecionarão alguns indivíduos numa única rodada\n",
    "\n",
    "Mesmo diminuindo o número de iterações usados na seleção, este método tende a ter uma menor diversidade que o método da roleta."
   ]
  },
  {
   "cell_type": "markdown",
   "metadata": {},
   "source": [
    "#### Disputa/torneio:\n",
    "\n",
    "Um dos métodos mais usados pela sua simplicidade e baixo custo computaional: escolhemos aleatoriamente dois (ou mais) indivíduos, criamos um critério que defina quem deve ser escolhido (tendendo sempre para o com maior aptidão)"
   ]
  },
  {
   "cell_type": "code",
   "execution_count": null,
   "metadata": {
    "collapsed": true
   },
   "outputs": [],
   "source": [
    "def torneio(popl, num):\n",
    "    '''TODO: function roleta\n",
    "    :popl: type list\n",
    "    :num: quantidade de individuos a serem selecionados\n",
    "    :return: individuos selecionados\n",
    "    '''\n",
    "    selecionados = []\n",
    "    add_select = selecionados.append\n",
    "    \n",
    "    k = 0.75 # constante que definirá a propabilidade de seleção\n",
    "    popl_fight = popl[::]\n",
    "    for _ in range(num):\n",
    "        combatentes = (rand(popl_fight), rand(popl_fight)) # usar pop para remover da lista temporaria\n",
    "        r = uniform(0, 1)\n",
    "        if r < k:\n",
    "            vencedor = max(combatentes, key=lambda x: x.fit)\n",
    "            add_select(vencedor)\n",
    "        else:\n",
    "            vencedor = min(combatentes, key=lambda x: x.fit)\n",
    "            add_select(vencedor)\n",
    "    \n",
    "    return selecionados"
   ]
  },
  {
   "cell_type": "markdown",
   "metadata": {},
   "source": [
    "### Reprodução\n",
    "\n",
    "Este é o momento que vamos preparar a nova geração de indivíduos. Agora que já temos os indivíduos pais, podemos iniciar o processo de combinação gênica, que junto com a taxa de mutação, formará os genes dos indivíduos filhos."
   ]
  },
  {
   "cell_type": "markdown",
   "metadata": {},
   "source": [
    "##### Pareamento\n",
    "\n",
    "Mesmo que já tenhamos selecionado apenas os mais aptos, ainda assim precisamos escolher os pais (um ou mais) cuja combinação de suas características dará origem à próxima geração, alguns dos métodos mais conhecidos para fazer isso são:"
   ]
  },
  {
   "cell_type": "markdown",
   "metadata": {},
   "source": [
    "###### Escolhas aleatórias:\n",
    "\n",
    "O nome já indica como é o seu funcionamento, inidivíduos aleatórios serão escolhidos. o problema é que não há certeza que isso gerará pares cujos filhos terão uma aptidão maior que a dos pais prejudicando a eficiência e até mesmo as chances do algoritmo chegar a bons resultados"
   ]
  },
  {
   "cell_type": "code",
   "execution_count": null,
   "metadata": {
    "collapsed": true
   },
   "outputs": [],
   "source": [
    "def par_aleatorio(escolhidos, num):\n",
    "    pais = escolhidos[::]\n",
    "    pares = []\n",
    "    for i in num\n",
    "        pai = randint(0, (len(pais)))\n",
    "        mae = randint(0, (len(pais)))\n",
    "        pares.append((pai, mae))\n",
    "        \n",
    "        \n",
    "    return pares"
   ]
  },
  {
   "cell_type": "markdown",
   "metadata": {},
   "source": []
  },
  {
   "cell_type": "markdown",
   "metadata": {},
   "source": [
    "##### Combinação gênica\n",
    "\n",
    "Existem vários métodos de combinação gênica e nada impede que você também possa criar alguns que atendam às suas necessidades, aqui demonstrarei o código de alguns deles adequados ao nosso problema:"
   ]
  },
  {
   "cell_type": "markdown",
   "metadata": {},
   "source": [
    "###### "
   ]
  },
  {
   "cell_type": "markdown",
   "metadata": {},
   "source": [
    "### Mutação:\n",
    "\n",
    "A taxa de mutação é um importante elemento que define parte considerável da dinâmica da evolução do algoritmo, tendo em vista que um valor maior nesta taxa significa que os filhos serão menos parecidos com os pais, o que permite uma maior dispersão/variabilidade entre eles mas também significa que aproveitarão menos do que foi acumulado entre as gerações. Da mesma forma uma taxa de mutação muito pequena também pode comprometer o algoritmo, pois se os indivíduos pouco se dispersam e apenas continuam os rumos definidos pelos pais, eles correm um grande risco de haver uma convergência precipitada, o que tem grandes chances de levar a um resultado falso positivo (percebemos isso geralmente quando os genes estancam num determinado valor ainda longe do ótimo)"
   ]
  },
  {
   "cell_type": "code",
   "execution_count": null,
   "metadata": {
    "collapsed": true
   },
   "outputs": [],
   "source": []
  }
 ],
 "metadata": {
  "kernelspec": {
   "display_name": "Python 3",
   "language": "python",
   "name": "python3"
  },
  "language_info": {
   "codemirror_mode": {
    "name": "ipython",
    "version": 3
   },
   "file_extension": ".py",
   "mimetype": "text/x-python",
   "name": "python",
   "nbconvert_exporter": "python",
   "pygments_lexer": "ipython3",
   "version": "3.4.3"
  }
 },
 "nbformat": 4,
 "nbformat_minor": 0
}
