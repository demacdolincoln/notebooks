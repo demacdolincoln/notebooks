{
 "cells": [
  {
   "cell_type": "markdown",
   "metadata": {},
   "source": [
    "# SVM\n",
    "\n",
    "_Support Vector Machine_\n",
    "\n",
    "---"
   ]
  },
  {
   "cell_type": "code",
   "execution_count": 16,
   "metadata": {
    "collapsed": false
   },
   "outputs": [],
   "source": [
    "import numpy as np\n",
    "import pandas as pd\n",
    "from matplotlib import pyplot as plt\n",
    "from matplotlib import cm\n",
    "from matplotlib.colors import ListedColormap\n",
    "from mpl_toolkits.mplot3d import Axes3D\n",
    "from sklearn import svm, datasets\n",
    "\n",
    "plt.style.use('seaborn-whitegrid')\n",
    "%matplotlib inline"
   ]
  },
  {
   "cell_type": "markdown",
   "metadata": {},
   "source": [
    "---\n",
    "\n",
    "A SVM trata de lançar uma perspectiva bem objetiva ao problema de classificação, vamos imaginar o seguinte conjunto de dados:"
   ]
  },
  {
   "cell_type": "code",
   "execution_count": 25,
   "metadata": {
    "collapsed": false
   },
   "outputs": [
    {
     "data": {
      "image/png": "[encoded data removed]",
      "text/plain": [
       "<matplotlib.figure.Figure at 0x7f985676eac8>"
      ]
     },
     "metadata": {},
     "output_type": "display_data"
    }
   ],
   "source": [
    "a = datasets.make_classification(shuffle=False, random_state=0, class_sep=2)\n",
    "for i, j in zip(a[0], a[1]):\n",
    "    if j == 1:\n",
    "        plt.scatter(x=i[0], y=i[1], c='red')\n",
    "    else:\n",
    "        plt.scatter(x=i[0], y=i[1], c='blue')\n"
   ]
  },
  {
   "cell_type": "markdown",
   "metadata": {},
   "source": [
    "Duas perguntas no ajudam a compreender o funcionamento da SVM:\n",
    "\n",
    "1. Como separar cada grupo de pontos coloridos?\n",
    "2. Quais referências podemos extrair do gráfico acima para isso?\n",
    "\n",
    "Sei que é bem óbvio dizer que basta olharmos os pontos que estão na fronteira entre os grupos e usa-los como uma referência, e é exatamente isso que a SVM faz, e ela chama estes pontos na fronteira (ou na área mais externa de cada grupos dependendo do kernel usado) de vetores de suporte, isso quer dizer que o processo é verdadeiramente simples, precisamos identificar os vetores de suporte e depois fazer a classificação."
   ]
  },
  {
   "cell_type": "code",
   "execution_count": null,
   "metadata": {
    "collapsed": true
   },
   "outputs": [],
   "source": []
  }
 ],
 "metadata": {
  "kernelspec": {
   "display_name": "Python 3",
   "language": "python",
   "name": "python3"
  },
  "language_info": {
   "codemirror_mode": {
    "name": "ipython",
    "version": 3
   },
   "file_extension": ".py",
   "mimetype": "text/x-python",
   "name": "python",
   "nbconvert_exporter": "python",
   "pygments_lexer": "ipython3",
   "version": "3.5.1"
  }
 },
 "nbformat": 4,
 "nbformat_minor": 0
}
