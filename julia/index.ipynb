{
 "cells": [
  {
   "cell_type": "markdown",
   "metadata": {},
   "source": [
    "# Índice\n",
    "\n",
    "1. [Introdução](secoes/Introdução.ipynb)\n",
    "2. [Tipos primitivos](secoes/Tipos%20Primitivos.ipynb)\n",
    "3. [Operações básicas](secoes/Operações%20básicas.ipynb)\n",
    "4. [Strings](secoes/Strings.ipynb)\n",
    "5. [Funções](secoes/Funções.ipynb)\n",
    "6. [Estruturas de controle](secoes/Estruturas%20de%20controle.ipynb)\n",
    "7. [Arrays](secoes/Arrays.ipynb)\n",
    "8. [Criando tipos](secoes/Criando%20tipos.ipynb)\n",
    "9. [Modularização](secoes/Modularização.ipynb)\n",
    "10. [Macros](secoes/Macros.ipynb)\n",
    "11. [Paralelismo](secoes/Paralelismo.ipynb)"
   ]
  }
 ],
 "metadata": {
  "kernelspec": {
   "display_name": "Julia 0.4.5",
   "language": "julia",
   "name": "julia-0.4"
  },
  "language_info": {
   "file_extension": ".jl",
   "mimetype": "application/julia",
   "name": "julia",
   "version": "0.4.5"
  }
 },
 "nbformat": 4,
 "nbformat_minor": 0
}
