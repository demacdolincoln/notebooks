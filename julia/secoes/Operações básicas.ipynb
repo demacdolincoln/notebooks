{
 "cells": [
  {
   "cell_type": "markdown",
   "metadata": {},
   "source": [
    "# Aritimética\n",
    "\n",
    "\n",
    "|Expression|\tName|\tDescription|\n",
    "| -- | -- | -- |\n",
    "|+x|\tunary plus|\tthe identity operation|\n",
    "|-x|\tunary minus|\tmaps values to their additive inverses|\n",
    "|x + y|\tbinary plus|\tperforms addition|\n",
    "|x - y|\tbinary minus|\tperforms subtraction|\n",
    "|x * y|\ttimes|\tperforms multiplication|\n",
    "|x / y|\tdivide|\tperforms division|\n",
    "|x \\ y|\tinverse| divide\tequivalent to y / x|\n",
    "|x ^ y|\tpower|\traises x to the yth power|\n",
    "|x % y|\tremainder|\tequivalent to rem(x,y)|\n",
    "\n",
    "\n",
    "Algo importante a se considerar neste ponto é a influência de LISP já que assim como em LISP **os símbolos de operações matemáticas também são funções.**"
   ]
  },
  {
   "cell_type": "code",
   "execution_count": 2,
   "metadata": {
    "collapsed": false
   },
   "outputs": [
    {
     "data": {
      "text/plain": [
       "21"
      ]
     },
     "execution_count": 2,
     "metadata": {},
     "output_type": "execute_result"
    }
   ],
   "source": [
    "7 + 9 + 3 + 2"
   ]
  },
  {
   "cell_type": "code",
   "execution_count": 3,
   "metadata": {
    "collapsed": false
   },
   "outputs": [
    {
     "data": {
      "text/plain": [
       "21"
      ]
     },
     "execution_count": 3,
     "metadata": {},
     "output_type": "execute_result"
    }
   ],
   "source": [
    "+(7,9,3,2)"
   ]
  },
  {
   "cell_type": "markdown",
   "metadata": {},
   "source": [
    "Para aumentar a semelhança com a matemática também é possível multiplicar assim:"
   ]
  },
  {
   "cell_type": "code",
   "execution_count": 5,
   "metadata": {
    "collapsed": false
   },
   "outputs": [
    {
     "data": {
      "text/plain": [
       "10"
      ]
     },
     "execution_count": 5,
     "metadata": {},
     "output_type": "execute_result"
    }
   ],
   "source": [
    "x = 3\n",
    "2x+4"
   ]
  },
  {
   "cell_type": "code",
   "execution_count": null,
   "metadata": {
    "collapsed": false
   },
   "outputs": [],
   "source": [
    "4(x+2) /2"
   ]
  },
  {
   "cell_type": "code",
   "execution_count": null,
   "metadata": {
    "collapsed": false
   },
   "outputs": [],
   "source": [
    "(x+3)x"
   ]
  },
  {
   "cell_type": "markdown",
   "metadata": {},
   "source": [
    "Obs.: Ao menos até a versão atual ainda não é possível fazer $ (x+3)(x-3) $\n",
    "\n",
    "*isto será melhor compreendido no capítulo sobre funções*"
   ]
  },
  {
   "cell_type": "code",
   "execution_count": 6,
   "metadata": {
    "collapsed": false
   },
   "outputs": [
    {
     "ename": "LoadError",
     "evalue": "LoadError: MethodError: `call` has no method matching call(::Int64, ::Int64)\nClosest candidates are:\n  BoundsError()\n  BoundsError(!Matched::Any...)\n  DivideError()\n  ...\nwhile loading In[6], in expression starting on line 1",
     "output_type": "error",
     "traceback": [
      "LoadError: MethodError: `call` has no method matching call(::Int64, ::Int64)\nClosest candidates are:\n  BoundsError()\n  BoundsError(!Matched::Any...)\n  DivideError()\n  ...\nwhile loading In[6], in expression starting on line 1",
      ""
     ]
    }
   ],
   "source": [
    "(x+3)(x-3)"
   ]
  },
  {
   "cell_type": "markdown",
   "metadata": {},
   "source": [
    "---\n",
    "\n",
    "# Operações binárias\n",
    "\n",
    "Estas operações são feitas com binários e não com os números em si\n",
    "\n",
    "|Expression|\tName|\n",
    "|--|--|\n",
    "|~x\t|bitwise not|\n",
    "|x & y|\tbitwise and|\n",
    "|$x | y$|\tbitwise or|\n",
    "|x $ y|\tbitwise xor (exclusive or)|\n",
    "|x >>> y|\tlogical shift right|\n",
    "|x >> y|\tarithmetic shift right|\n",
    "|x << y|\tlogical/arithmetic shift left|\n",
    "\n",
    "Obs.: a negação (*!x*) serve apenas para tipos booleanos, nos demais casos usa-se *~x*\n",
    "\n"
   ]
  },
  {
   "cell_type": "code",
   "execution_count": 7,
   "metadata": {
    "collapsed": false
   },
   "outputs": [
    {
     "name": "stdout",
     "output_type": "stream",
     "text": [
      "1000 -- 8\n"
     ]
    }
   ],
   "source": [
    "x = 1 << 3\n",
    "\n",
    "println(bin(x), \" -- \", x)"
   ]
  },
  {
   "cell_type": "markdown",
   "metadata": {},
   "source": [
    "Tanto para operações aritiméticas quanto binárias as seguintes operações também são aceitas:\n",
    "\n",
    "```+=  -=  *=  /=  \\=  ÷=  %=  ^=  &=  |=  $=  >>>=  >>=  <<=```"
   ]
  },
  {
   "cell_type": "code",
   "execution_count": null,
   "metadata": {
    "collapsed": false
   },
   "outputs": [],
   "source": [
    "x <<= 3"
   ]
  },
  {
   "cell_type": "markdown",
   "metadata": {},
   "source": [
    "# Comparações\n",
    "\n",
    "\n",
    "|Operator|\tName|\n",
    "| -- | -- |\n",
    "|==\t|equality|\n",
    "|!= ≠|\tinequality|\n",
    "|<\t|less than|\n",
    "|<= ≤|\tless than or equal to|\n",
    "|>\t|greater than|\n",
    "|>= ≥|\tgreater than or equal to|\n",
    "\n",
    "Apesar do funcionamento ser como na maioria das linguagens, observe o que acontece quando usamos com `NaN`:"
   ]
  },
  {
   "cell_type": "code",
   "execution_count": 8,
   "metadata": {
    "collapsed": false
   },
   "outputs": [
    {
     "data": {
      "text/plain": [
       "false"
      ]
     },
     "execution_count": 8,
     "metadata": {},
     "output_type": "execute_result"
    }
   ],
   "source": [
    "NaN == NaN"
   ]
  },
  {
   "cell_type": "markdown",
   "metadata": {},
   "source": [
    "Por isso existem funções que permitem fazer comparações:\n",
    "\n",
    "\n",
    "|Function|\tTests if|\n",
    "|--|--|\n",
    "|isequal(x, y)|\tx and y are identical|\n",
    "|isfinite(x)|\tx is a finite number|\n",
    "|isinf(x)|\tx is infinite|\n",
    "|isnan(x)|\tx is not a number|\n"
   ]
  },
  {
   "cell_type": "code",
   "execution_count": 9,
   "metadata": {
    "collapsed": false
   },
   "outputs": [
    {
     "data": {
      "text/plain": [
       "true"
      ]
     },
     "execution_count": 9,
     "metadata": {},
     "output_type": "execute_result"
    }
   ],
   "source": [
    "isequal(NaN,NaN)"
   ]
  },
  {
   "cell_type": "code",
   "execution_count": null,
   "metadata": {
    "collapsed": false
   },
   "outputs": [],
   "source": [
    "isinf(-Inf)"
   ]
  },
  {
   "cell_type": "code",
   "execution_count": null,
   "metadata": {
    "collapsed": false
   },
   "outputs": [],
   "source": [
    "0.0 == -0.0"
   ]
  },
  {
   "cell_type": "code",
   "execution_count": null,
   "metadata": {
    "collapsed": false
   },
   "outputs": [],
   "source": [
    "isequal(0.0,-0.0)"
   ]
  },
  {
   "cell_type": "markdown",
   "metadata": {},
   "source": [
    "## Outras operações\n",
    "\n",
    "* round\n",
    "* mod \n",
    "* abs\n",
    "* sqrt\n",
    "* exp\n",
    "* log, log2, log10\n",
    "* factorial\n",
    "* trigonometria: sin, cos, tan, cot, sec, csc\n",
    "\n",
    "Para uma lista mais completa veja a documentação"
   ]
  },
  {
   "cell_type": "code",
   "execution_count": null,
   "metadata": {
    "collapsed": false
   },
   "outputs": [],
   "source": [
    "factorial(5)"
   ]
  },
  {
   "cell_type": "code",
   "execution_count": 10,
   "metadata": {
    "collapsed": false
   },
   "outputs": [
    {
     "data": {
      "text/plain": [
       "0.0 + 2.0im"
      ]
     },
     "execution_count": 10,
     "metadata": {},
     "output_type": "execute_result"
    }
   ],
   "source": [
    "x = -4 + 0im\n",
    "sqrt(x)"
   ]
  },
  {
   "cell_type": "code",
   "execution_count": null,
   "metadata": {
    "collapsed": true
   },
   "outputs": [],
   "source": []
  }
 ],
 "metadata": {
  "kernelspec": {
   "display_name": "Julia 0.4.5",
   "language": "julia",
   "name": "julia-0.4"
  },
  "language_info": {
   "file_extension": ".jl",
   "mimetype": "application/julia",
   "name": "julia",
   "version": "0.4.5"
  }
 },
 "nbformat": 4,
 "nbformat_minor": 0
}
