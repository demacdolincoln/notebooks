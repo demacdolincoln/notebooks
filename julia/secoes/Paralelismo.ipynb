{
 "cells": [
  {
   "cell_type": "markdown",
   "metadata": {},
   "source": [
    "### Para quê paralelismo?\n",
    "\n",
    "Ao longo dos últimos anos pudemos ver uma certa estagnação na evolução da velocidade dos núcleos dos processadores ainda que hoje existam bem mais núcleos disponíveis nos processadores de hoje em relação aos de anos atrás. Por isso mesmo buscar formas de explorar os demais núcleos se tornou um desafio para as linguagens de programação e aqui é que aparecem as coroutines, como subprocessos leves que têm a liberdade de operar em diferentes núcleos do processador de forma asíncrona.\n",
    "\n",
    "Em Julia aproveitamos este recurso através de macros mas para termos a possibilidade de aproveitar por completo o processador, precisamos inicialmente iniciar os demais processos."
   ]
  },
  {
   "cell_type": "code",
   "execution_count": 1,
   "metadata": {
    "collapsed": false
   },
   "outputs": [
    {
     "data": {
      "text/plain": [
       "1-element Array{Int64,1}:\n",
       " 2"
      ]
     },
     "execution_count": 1,
     "metadata": {},
     "output_type": "execute_result"
    }
   ],
   "source": [
    "addprocs(1)"
   ]
  },
  {
   "cell_type": "code",
   "execution_count": 2,
   "metadata": {
    "collapsed": false
   },
   "outputs": [
    {
     "data": {
      "text/plain": [
       "2-element Array{Int64,1}:\n",
       " 1\n",
       " 2"
      ]
     },
     "execution_count": 2,
     "metadata": {},
     "output_type": "execute_result"
    }
   ],
   "source": [
    "procs()"
   ]
  },
  {
   "cell_type": "markdown",
   "metadata": {},
   "source": [
    "Ao contrário de outras linguagens onde para iniciarmos uma thread precisaríamos criar uma classes e adicionar o método *run()*, em Julia basta apenas utilizarmos algumas macros"
   ]
  },
  {
   "cell_type": "code",
   "execution_count": 3,
   "metadata": {
    "collapsed": false
   },
   "outputs": [
    {
     "data": {
      "text/plain": [
       "SharedArray{Float64,2}"
      ]
     },
     "execution_count": 3,
     "metadata": {},
     "output_type": "execute_result"
    }
   ],
   "source": [
    "# criando um array de teste\n",
    "m = SharedArray(Float64,100,100);\n",
    "typeof(m)"
   ]
  },
  {
   "cell_type": "markdown",
   "metadata": {},
   "source": [
    "### @everywhare\n",
    "\n",
    "Permite que uma função possa aproveitar todos os processos da execução atual"
   ]
  },
  {
   "cell_type": "code",
   "execution_count": 4,
   "metadata": {
    "collapsed": false
   },
   "outputs": [],
   "source": [
    "@everywhere function preenche(arr::SharedArray)\n",
    "    for i in 1:length(arr)\n",
    "        arr[i] = rand()\n",
    "    end\n",
    "end"
   ]
  },
  {
   "cell_type": "code",
   "execution_count": 5,
   "metadata": {
    "collapsed": false
   },
   "outputs": [
    {
     "name": "stdout",
     "output_type": "stream",
     "text": [
      "  0.050201 seconds (6.46 k allocations: 331.893 KB, 58.26% gc time)\n"
     ]
    }
   ],
   "source": [
    "@time preenche(m)"
   ]
  },
  {
   "cell_type": "markdown",
   "metadata": {},
   "source": [
    "### @parallel\n",
    "\n",
    "Feito unicamente para o for, além de o tornar paralelo ainda aceita funções quase como um *reduce* aprimorado"
   ]
  },
  {
   "cell_type": "code",
   "execution_count": 6,
   "metadata": {
    "collapsed": false
   },
   "outputs": [
    {
     "name": "stdout",
     "output_type": "stream",
     "text": [
      "  1.532673 seconds (191.43 k allocations: 8.218 MB)\n"
     ]
    },
    {
     "data": {
      "text/plain": [
       "5000050000"
      ]
     },
     "execution_count": 6,
     "metadata": {},
     "output_type": "execute_result"
    }
   ],
   "source": [
    "@time @parallel (+) for i = 1:100000\n",
    "    i\n",
    "end"
   ]
  },
  {
   "cell_type": "code",
   "execution_count": 8,
   "metadata": {
    "collapsed": false
   },
   "outputs": [
    {
     "name": "stdout",
     "output_type": "stream",
     "text": [
      "  0.014926 seconds (1.72 k allocations: 117.698 KB)\n"
     ]
    },
    {
     "data": {
      "text/plain": [
       "1-element Array{Any,1}:\n",
       " RemoteRef{Channel{Any}}(2,1,7)"
      ]
     },
     "execution_count": 8,
     "metadata": {},
     "output_type": "execute_result"
    }
   ],
   "source": [
    "@time @parallel for i = 1:length(m)\n",
    "    m[i] = rand()\n",
    "end"
   ]
  },
  {
   "cell_type": "markdown",
   "metadata": {},
   "source": [
    "### @async"
   ]
  },
  {
   "cell_type": "code",
   "execution_count": 9,
   "metadata": {
    "collapsed": false
   },
   "outputs": [
    {
     "name": "stdout",
     "output_type": "stream",
     "text": [
      "  0.005667 seconds (47 allocations: 3.940 KB)\n"
     ]
    },
    {
     "data": {
      "text/plain": [
       "Task (done) @0x00007fc9ad172270"
      ]
     },
     "execution_count": 9,
     "metadata": {},
     "output_type": "execute_result"
    }
   ],
   "source": [
    "task = @time @async @parallel for i = 1:length(m)\n",
    "    m[i] = rand()\n",
    "end"
   ]
  },
  {
   "cell_type": "code",
   "execution_count": null,
   "metadata": {
    "collapsed": true
   },
   "outputs": [],
   "source": [
    "fib"
   ]
  }
 ],
 "metadata": {
  "kernelspec": {
   "display_name": "Julia 0.4.5",
   "language": "julia",
   "name": "julia-0.4"
  },
  "language_info": {
   "file_extension": ".jl",
   "mimetype": "application/julia",
   "name": "julia",
   "version": "0.4.5"
  }
 },
 "nbformat": 4,
 "nbformat_minor": 0
}
