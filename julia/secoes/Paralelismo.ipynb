{
 "cells": [
  {
   "cell_type": "markdown",
   "metadata": {},
   "source": [
    "### Para quê paralelismo?\n",
    "\n",
    "Ao longo dos últimos anos pudemos ver uma certa estagnação na evolução da velocidade dos núcleos dos processadores ainda que hoje existam bem mais núcleos disponíveis nos processadores de hoje em relação aos de anos atrás. Por isso mesmo buscar formas de explorar os demais núcleos se tornou um desafio para as linguagens de programação e aqui é que aparecem as coroutines, como subprocessos leves que têm a liberdade de operar em diferentes núcleos do processador de forma asíncrona.\n",
    "\n",
    "Em Julia aproveitamos este recurso através de macros mas para termos a possibilidade de aproveitar por completo o processador, precisamos inicialmente iniciar os demais processos."
   ]
  },
  {
   "cell_type": "code",
   "execution_count": 1,
   "metadata": {},
   "outputs": [
    {
     "data": {
      "text/plain": [
       "4-element Array{Int64,1}:\n",
       " 2\n",
       " 3\n",
       " 4\n",
       " 5"
      ]
     },
     "execution_count": 1,
     "metadata": {},
     "output_type": "execute_result"
    }
   ],
   "source": [
    "addprocs(4)"
   ]
  },
  {
   "cell_type": "code",
   "execution_count": 2,
   "metadata": {},
   "outputs": [
    {
     "data": {
      "text/plain": [
       "5-element Array{Int64,1}:\n",
       " 1\n",
       " 2\n",
       " 3\n",
       " 4\n",
       " 5"
      ]
     },
     "execution_count": 2,
     "metadata": {},
     "output_type": "execute_result"
    }
   ],
   "source": [
    "procs()"
   ]
  },
  {
   "cell_type": "markdown",
   "metadata": {},
   "source": [
    "Ao contrário de outras linguagens onde para iniciarmos uma thread precisaríamos criar uma classes e adicionar o método *run()*, em Julia basta apenas utilizarmos algumas macros"
   ]
  },
  {
   "cell_type": "code",
   "execution_count": 3,
   "metadata": {},
   "outputs": [
    {
     "data": {
      "text/plain": [
       "SharedArray{Float64,2}"
      ]
     },
     "execution_count": 3,
     "metadata": {},
     "output_type": "execute_result"
    }
   ],
   "source": [
    "# criando um array compartilhado entre os diferentes processos\n",
    "m = SharedArray(Float64,1000,1000);\n",
    "typeof(m)"
   ]
  },
  {
   "cell_type": "markdown",
   "metadata": {},
   "source": [
    "### @parallel\n",
    "\n",
    "Feito unicamente para o for, além de o tornar paralelo ainda aceita funções quase como um *reduce* aprimorado"
   ]
  },
  {
   "cell_type": "code",
   "execution_count": 4,
   "metadata": {},
   "outputs": [
    {
     "name": "stdout",
     "output_type": "stream",
     "text": [
      "  2.595335 seconds (423.78 k allocations: 18.048 MB, 0.60% gc time)\n"
     ]
    },
    {
     "data": {
      "text/plain": [
       "5000050000"
      ]
     },
     "execution_count": 4,
     "metadata": {},
     "output_type": "execute_result"
    }
   ],
   "source": [
    "@time @parallel (+) for i = 1:100000\n",
    "    i\n",
    "end"
   ]
  },
  {
   "cell_type": "code",
   "execution_count": 5,
   "metadata": {},
   "outputs": [
    {
     "name": "stdout",
     "output_type": "stream",
     "text": [
      "  0.522281 seconds (416.30 k allocations: 18.375 MB, 3.44% gc time)\n"
     ]
    },
    {
     "data": {
      "text/plain": [
       "4-element Array{Future,1}:\n",
       " Future(2,1,18,#NULL)\n",
       " Future(3,1,19,#NULL)\n",
       " Future(4,1,20,#NULL)\n",
       " Future(5,1,21,#NULL)"
      ]
     },
     "execution_count": 5,
     "metadata": {},
     "output_type": "execute_result"
    }
   ],
   "source": [
    "@time @parallel for i = 1:length(m)\n",
    "    m[i] = rand()\n",
    "end"
   ]
  },
  {
   "cell_type": "markdown",
   "metadata": {},
   "source": [
    "### @async"
   ]
  },
  {
   "cell_type": "code",
   "execution_count": 6,
   "metadata": {},
   "outputs": [
    {
     "name": "stdout",
     "output_type": "stream",
     "text": [
      "  0.004703 seconds (203 allocations: 11.906 KB)\n"
     ]
    },
    {
     "data": {
      "text/plain": [
       "Task (done) @0x00007f2123e76e60"
      ]
     },
     "execution_count": 6,
     "metadata": {},
     "output_type": "execute_result"
    }
   ],
   "source": [
    "task = @time @async @parallel for i = 1:length(m)\n",
    "    m[i] = rand()\n",
    "end"
   ]
  },
  {
   "cell_type": "markdown",
   "metadata": {},
   "source": [
    "Só para comparar:"
   ]
  },
  {
   "cell_type": "code",
   "execution_count": 7,
   "metadata": {},
   "outputs": [
    {
     "name": "stdout",
     "output_type": "stream",
     "text": [
      "  0.226384 seconds (4.00 M allocations: 76.369 MB, 11.14% gc time)\n"
     ]
    }
   ],
   "source": [
    "@time for i = 1:length(m)\n",
    "    m[i] = rand()\n",
    "end"
   ]
  },
  {
   "cell_type": "markdown",
   "metadata": {},
   "source": [
    "### Breve explicação do funcionamento do que está por trás disso:"
   ]
  },
  {
   "cell_type": "markdown",
   "metadata": {},
   "source": [
    "De fato as macros são fundamentais para que o processo seja tão simples e a LLVM ajuda bastante na eficiência deste tipo de operação, mas manualmente poderíamos fazer tentar dividir o processamento usando as seguintes funções e macros:\n",
    "\n",
    "* @spawn - encapsula uma expressão e a envia a outro processo, devolve um tipo `Futuro`\n",
    "* fetch - executa um procedimento alocado em algum processo\n",
    "* remotecall - chama uma função de forma asíncrona em determinado processo "
   ]
  },
  {
   "cell_type": "code",
   "execution_count": 8,
   "metadata": {},
   "outputs": [
    {
     "name": "stdout",
     "output_type": "stream",
     "text": [
      "future0 = Future(4,1,26,Nullable{Any}())\n",
      "future1 = Future(2,1,27,Nullable{Any}())\n",
      "future2 = Future(3,1,28,Nullable{Any}())\n"
     ]
    },
    {
     "data": {
      "text/plain": [
       "3-element Array{Float64,1}:\n",
       " 110.5  \n",
       " 110.014\n",
       " 110.993"
      ]
     },
     "execution_count": 8,
     "metadata": {},
     "output_type": "execute_result"
    }
   ],
   "source": [
    "future0 = remotecall(rand, 4, 3) # funcao, processo, argumentos...\n",
    "println(\"future0 = $future0\")\n",
    "\n",
    "future1 = @spawn 10 .+ fetch(future0)\n",
    "println(\"future1 = $future1\")\n",
    "\n",
    "future2 = @spawnat 3 100 .+ fetch(future1) \n",
    "println(\"future2 = $future2\")\n",
    "\n",
    "fetch(future2)"
   ]
  },
  {
   "cell_type": "markdown",
   "metadata": {},
   "source": [
    "Obs¹.: a macro `@spawn` envia um procedimento para a thread mais livre do processador, mas podemos direcionar um procedimento para uma thread específica usando `@spawnat`\n",
    "\n",
    "Obs².: `remotecall_fetch` é o mesmo que `fetch(remotecall(func, p, args...))`"
   ]
  },
  {
   "cell_type": "markdown",
   "metadata": {},
   "source": [
    "### @everywhare\n",
    "\n",
    "Permite que uma função possa estar disponível todos os processos da execução atual"
   ]
  },
  {
   "cell_type": "code",
   "execution_count": 9,
   "metadata": {},
   "outputs": [],
   "source": [
    "function testeRand(dims...)\n",
    "    return 2*rand(dims...)\n",
    "end\n",
    "\n",
    "@everywhere function testeRandEvery(dims...)\n",
    "    return 2*rand(dims...)\n",
    "end"
   ]
  },
  {
   "cell_type": "code",
   "execution_count": 10,
   "metadata": {},
   "outputs": [
    {
     "name": "stdout",
     "output_type": "stream",
     "text": [
      "  0.113052 seconds (42.38 k allocations: 1.842 MB)\n",
      "  0.003522 seconds (236 allocations: 13.438 KB)\n"
     ]
    },
    {
     "data": {
      "text/plain": [
       "2-element Array{Float64,1}:\n",
       " 1.74152 \n",
       " 0.705784"
      ]
     },
     "execution_count": 10,
     "metadata": {},
     "output_type": "execute_result"
    }
   ],
   "source": [
    "@time testeRand(2)\n",
    "@time testeRandEvery(2)"
   ]
  },
  {
   "cell_type": "code",
   "execution_count": 11,
   "metadata": {},
   "outputs": [
    {
     "name": "stdout",
     "output_type": "stream",
     "text": [
      "Future(3,1,34,Nullable{Any}())\n",
      "Future(4,1,35,Nullable{Any}())\n",
      "  0.000616 seconds (101 allocations: 4.188 KB)\n"
     ]
    },
    {
     "ename": "LoadError",
     "evalue": "On worker 4:\nUndefVarError: #testeRand not defined\n in deserialize_datatype at ./serialize.jl:825\n in handle_deserialize at ./serialize.jl:571\n in collect at ./array.jl:307\n in deserialize at ./serialize.jl:588\n in handle_deserialize at ./serialize.jl:581\n in deserialize at ./serialize.jl:541\n in deserialize_datatype at ./serialize.jl:831\n in handle_deserialize at ./serialize.jl:571\n in deserialize_msg at ./multi.jl:120\n in message_handler_loop at ./multi.jl:1317\n in process_tcp_streams at ./multi.jl:1276\n in #638 at ./event.jl:68",
     "output_type": "error",
     "traceback": [
      "On worker 4:\nUndefVarError: #testeRand not defined\n in deserialize_datatype at ./serialize.jl:825\n in handle_deserialize at ./serialize.jl:571\n in collect at ./array.jl:307\n in deserialize at ./serialize.jl:588\n in handle_deserialize at ./serialize.jl:581\n in deserialize at ./serialize.jl:541\n in deserialize_datatype at ./serialize.jl:831\n in handle_deserialize at ./serialize.jl:571\n in deserialize_msg at ./multi.jl:120\n in message_handler_loop at ./multi.jl:1317\n in process_tcp_streams at ./multi.jl:1276\n in #638 at ./event.jl:68",
      "",
      " in #remotecall_fetch#626(::Array{Any,1}, ::Function, ::Function, ::Base.Worker, ::Base.RRID, ::Vararg{Any,N}) at ./multi.jl:1070",
      " in remotecall_fetch(::Function, ::Base.Worker, ::Base.RRID, ::Vararg{Any,N}) at ./multi.jl:1062",
      " in execute_request(::ZMQ.Socket, ::IJulia.Msg) at /home/lincoln/.julia/v0.5/IJulia/src/execute_request.jl:157",
      " in eventloop(::ZMQ.Socket) at /home/lincoln/.julia/v0.5/IJulia/src/eventloop.jl:8",
      " in (::IJulia.##13#19)() at ./task.jl:360"
     ]
    }
   ],
   "source": [
    "future0 = @spawn testeRandEvery(2)\n",
    "println(future0)\n",
    "\n",
    "future1 = @spawn testeRand(2)\n",
    "println(future1)\n",
    "\n",
    "@time fetch(future0)\n",
    "@time fetch(future1)"
   ]
  }
 ],
 "metadata": {
  "kernelspec": {
   "display_name": "Julia 0.5.1",
   "language": "julia",
   "name": "julia-0.5"
  },
  "language_info": {
   "file_extension": ".jl",
   "mimetype": "application/julia",
   "name": "julia",
   "version": "0.5.2"
  }
 },
 "nbformat": 4,
 "nbformat_minor": 1
}
