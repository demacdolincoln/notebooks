{
 "cells": [
  {
   "cell_type": "markdown",
   "metadata": {
    "collapsed": false
   },
   "source": [
    "Existem três formas de adicionar ao fluxo principal elementos que estão em outros arquivos de código e duas formas de modularização:\n",
    "\n",
    "| |comandos|\n",
    "| -- |\n",
    "|**módulo**| using / import / importall|\n",
    "|**arquivo**| include|"
   ]
  },
  {
   "cell_type": "markdown",
   "metadata": {},
   "source": [
    "### Arquivos\n",
    "\n",
    "Ao usar a função ```include``` estamos fazendo algo como unir os arquivos que estamos incluindo com o arquivo em que estamos trabalhando, ou seja, os arquivos incluidos são executados e tem todo o seu conteúdo, inclusive variáveis e outras definições inseridas no ambiente que os chamamos."
   ]
  },
  {
   "cell_type": "code",
   "execution_count": 2,
   "metadata": {
    "collapsed": false
   },
   "outputs": [
    {
     "name": "stdout",
     "output_type": "stream",
     "text": [
      "hello\n"
     ]
    },
    {
     "data": {
      "text/plain": [
       "funcaoTeste (generic function with 1 method)"
      ]
     },
     "execution_count": 2,
     "metadata": {},
     "output_type": "execute_result"
    }
   ],
   "source": [
    "include(\"../scripts/arquivo.jl\")"
   ]
  },
  {
   "cell_type": "markdown",
   "metadata": {},
   "source": [
    "### Módulos\n",
    "\n",
    "Normalmente são gerenciados usando o comando **Pkg**, podemos ver uma lista dos módulos disponíveis neste link\n",
    "\n",
    "Os módulos normalmente tem sua localização definida em variáveis de ambiente, e seguem algumas regras para que sejam devidamente reconhecidos e gerenciados pelo ambiente da linguagem.\n",
    "\n",
    "Esquema básico de um módulo:\n",
    "\n",
    "```julia\n",
    "module MyModule\n",
    "\n",
    "export a, b\n",
    "\n",
    "a() = \"a\"\n",
    "b() = \"b\"\n",
    "c() = \"c\"\n",
    "```\n",
    "\n",
    "Ao usar o comando **using** importamos apenas o que está marcado com **export** no módulo e este será chamado diretamente como se pertencesse àquele fruxo do programa\n",
    "\n",
    "De certa forma, e para o que está marcado com *export*, o resultado é semelhante ao usarmos \n",
    "```julia\n",
    "importall módulo\n",
    "```\n",
    "ainda que seja possível acessar os mesmos recursos (no caso do comando *using*) se fizermos ```módulo.função```\n",
    "\n",
    "a tabela abaixo mostra isso com mais clareza\n",
    "\n",
    "\n",
    "|Import Command\t|What is brought into scope|\tAvailable for method extension\n",
    "| -- |-- |-- |\n",
    "|using MyModule|\tAll exported names (x and y), MyModule.x, MyModule.y and MyModule.p\t|MyModule.x, MyModule.y and MyModule.p\n",
    "|using MyModule.x, MyModule.p|\tx and p\t ||\n",
    "|using MyModule: x, p|\tx and p\t | |\n",
    "|import MyModule|\tMyModule.x, MyModule.y and MyModule.p|\tMyModule.x, MyModule.y and MyModule.p\n",
    "|import MyModule.x, MyModule.p|\tx and p\t|x and p\n",
    "|import MyModule: x, p|\tx and p|\tx and p\n",
    "|importall MyModule|\tAll exported names (x and y)|\tx and y"
   ]
  },
  {
   "cell_type": "markdown",
   "metadata": {
    "collapsed": true
   },
   "source": [
    "### Gerenciando módulos\n",
    "\n",
    "O módulo **Pkg** funciona de modo similar a outros gerenciadores de bibliotecas como o pip (de python) e a gem (de ruby), as diferenças consistem em\n",
    "\n",
    "1. o Pkg funciona dentro do console da linguagem e pode ser chamado dentro de scripts\n",
    "2. os pacotes se encontram no GitHub de modo que o Pkg tem um comportamento similar ao git (ele tem funções como Pkg.clone(\"url do repositório\")\n",
    "3. é possível marcar pacotes para que não sejam atualizados\n",
    "4. registrar pacotes na lista do site oficial\n",
    "5. gerar arquivos essenciais para a identificação do pacote (como a licença, dependências,etc)\n",
    "6. executar testes com os pacotes\n",
    "\n",
    "Uma descrição mais completa encontra-se neste link"
   ]
  },
  {
   "cell_type": "code",
   "execution_count": 4,
   "metadata": {
    "collapsed": false
   },
   "outputs": [
    {
     "data": {
      "text/plain": [
       "\"/home/lincoln/.julia/v0.4\""
      ]
     },
     "execution_count": 4,
     "metadata": {},
     "output_type": "execute_result"
    }
   ],
   "source": [
    "Pkg.dir() # diretório onde estão os pacotes"
   ]
  },
  {
   "cell_type": "code",
   "execution_count": 1,
   "metadata": {
    "collapsed": false
   },
   "outputs": [
    {
     "name": "stdout",
     "output_type": "stream",
     "text": [
      "3 required packages:\n",
      " - Gadfly                        0.4.2\n",
      " - IJulia                        1.1.9\n",
      " - RDatasets                     0.1.3\n",
      "42 additional packages:\n",
      " - ArrayViews                    0.6.4\n",
      " - BinDeps                       0.3.21\n",
      " - Calculus                      0.1.14\n",
      " - Codecs                        0.1.5\n",
      " - ColorTypes                    0.2.2\n",
      " - Colors                        0.6.3\n",
      " - Compat                        0.7.13\n",
      " - Compose                       0.4.2\n",
      " - Conda                         0.1.9\n",
      " - Contour                       0.1.0\n",
      " - DataArrays                    0.2.20\n",
      " - DataFrames                    0.7.0\n",
      " - DataStructures                0.4.3\n",
      " - Dates                         0.4.4\n",
      " - Distances                     0.3.0\n",
      " - Distributions                 0.8.10\n",
      " - Docile                        0.5.23\n",
      " - DualNumbers                   0.2.2\n",
      " - FitnessFunctions              0.0.0-             master (unregistered)\n",
      " - FixedPointNumbers             0.1.2\n",
      " - FixedSizeArrays               0.1.0\n",
      " - GZip                          0.2.18\n",
      " - Grid                          0.4.0\n",
      " - Hexagons                      0.0.4\n",
      " - Iterators                     0.1.9\n",
      " - JSON                          0.5.0\n",
      " - KernelDensity                 0.1.2\n",
      " - Loess                         0.0.6\n",
      " - Measures                      0.0.2\n",
      " - NaNMath                       0.2.1\n",
      " - Nettle                        0.2.2\n",
      " - Optim                         0.4.4\n",
      " - PDMats                        0.4.1\n",
      " - Reexport                      0.0.3\n",
      " - SHA                           0.1.2\n",
      " - Showoff                       0.0.6\n",
      " - SortingAlgorithms             0.0.6\n",
      " - StatsBase                     0.8.0\n",
      " - StatsFuns                     0.2.0\n",
      " - URIParser                     0.1.3\n",
      " - WoodburyMatrices              0.1.5\n",
      " - ZMQ                           0.3.1\n"
     ]
    }
   ],
   "source": [
    "Pkg.status()"
   ]
  },
  {
   "cell_type": "code",
   "execution_count": null,
   "metadata": {
    "collapsed": true
   },
   "outputs": [],
   "source": []
  }
 ],
 "metadata": {
  "kernelspec": {
   "display_name": "Julia 0.4.5",
   "language": "julia",
   "name": "julia-0.4"
  },
  "language_info": {
   "file_extension": ".jl",
   "mimetype": "application/julia",
   "name": "julia",
   "version": "0.4.5"
  }
 },
 "nbformat": 4,
 "nbformat_minor": 0
}
