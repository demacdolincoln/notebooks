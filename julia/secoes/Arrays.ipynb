{
 "cells": [
  {
   "cell_type": "markdown",
   "metadata": {},
   "source": [
    "### Sintaxe básica\n",
    "\n",
    "Existem diversos métodos que podem ser usados para inicializar um array, os mais comuns são:\n",
    "\n",
    "* **Array{type}(dim...)** - gera arrays densamente povoados\n",
    "* **zeros(type,dim...)** - gera arrays populados com zeros, por padrão eles sendo Float64\n",
    "* **ones** - quase igual ao *zeros* mas com o array sendo populado por uns\n",
    "* **rand()** - um de seus métodos é gerar arrays com valores aleatórios\n"
   ]
  },
  {
   "cell_type": "code",
   "execution_count": 3,
   "metadata": {
    "collapsed": false
   },
   "outputs": [
    {
     "data": {
      "text/plain": [
       "3x3x3 Array{Float64,3}:\n",
       "[:, :, 1] =\n",
       " 0.650333  0.4712    0.185806\n",
       " 0.466831  0.153602  0.869515\n",
       " 0.703204  0.586341  0.628053\n",
       "\n",
       "[:, :, 2] =\n",
       " 0.325045  0.284242  0.44888 \n",
       " 0.35724   0.237984  0.999288\n",
       " 0.623642  0.503044  0.341818\n",
       "\n",
       "[:, :, 3] =\n",
       " 0.157519  0.617777  0.13274 \n",
       " 0.49116   0.49757   0.787842\n",
       " 0.818809  0.873323  0.634506"
      ]
     },
     "execution_count": 3,
     "metadata": {},
     "output_type": "execute_result"
    }
   ],
   "source": [
    "# teste abaixo os métodos descritos acima\n",
    "arr = rand(3,3,3)"
   ]
  },
  {
   "cell_type": "markdown",
   "metadata": {},
   "source": [
    "#### Outros métodos importantes\n",
    "\n",
    "* **linspace** - gera um array de valores uniforme\n",
    "* **reshape** - modifica as dimensões de um array\n",
    "* **transpose** - rotaciona o array"
   ]
  },
  {
   "cell_type": "code",
   "execution_count": 4,
   "metadata": {
    "collapsed": false
   },
   "outputs": [
    {
     "data": {
      "text/plain": [
       "3x3 Array{Int64,2}:\n",
       " 1  4  7\n",
       " 2  5  8\n",
       " 3  6  9"
      ]
     },
     "execution_count": 4,
     "metadata": {},
     "output_type": "execute_result"
    }
   ],
   "source": [
    "arr2 = reshape(1:9,3,3)"
   ]
  },
  {
   "cell_type": "code",
   "execution_count": 5,
   "metadata": {
    "collapsed": false
   },
   "outputs": [
    {
     "data": {
      "text/plain": [
       "3x3 Array{Int64,2}:\n",
       " 1  2  3\n",
       " 4  5  6\n",
       " 7  8  9"
      ]
     },
     "execution_count": 5,
     "metadata": {},
     "output_type": "execute_result"
    }
   ],
   "source": [
    "arr3 = transpose(arr2)"
   ]
  },
  {
   "cell_type": "markdown",
   "metadata": {
    "collapsed": true
   },
   "source": [
    "### Algumas operações\n",
    "\n",
    "Os arrays de Julia contém uma série de características que auxiliam o programador a fazer alguma operação matemática, em geral a sintaxe é similar a Octave e Matlab,incluindo as operações de álgebra linear"
   ]
  },
  {
   "cell_type": "code",
   "execution_count": 9,
   "metadata": {
    "collapsed": false
   },
   "outputs": [
    {
     "data": {
      "text/plain": [
       "3x3 Array{Int64,2}:\n",
       " 66   78   90\n",
       " 78   93  108\n",
       " 90  108  126"
      ]
     },
     "execution_count": 9,
     "metadata": {},
     "output_type": "execute_result"
    }
   ],
   "source": [
    "arr2 * arr3"
   ]
  },
  {
   "cell_type": "code",
   "execution_count": 10,
   "metadata": {
    "collapsed": false
   },
   "outputs": [
    {
     "data": {
      "text/plain": [
       "3x3 Array{Int64,2}:\n",
       "  1   8  21\n",
       "  8  25  48\n",
       " 21  48  81"
      ]
     },
     "execution_count": 10,
     "metadata": {},
     "output_type": "execute_result"
    }
   ],
   "source": [
    "arr2 .* arr3"
   ]
  },
  {
   "cell_type": "markdown",
   "metadata": {},
   "source": [
    "### Acessando os índices\n",
    "\n",
    "Julia tem algo incomum em relação a maioria das linguagens que é o fato dos índices começarem com valor *1* e não *0* como programadores normalmente estão acostumados e ainda que tenha características circulares como as listas de python, o último elemento é acessado através **end** e não *-1*, isto se deve ao público alvo da linguagem e no seu esforço e aproximação com o modo de trabalhar de matemáticos e físicos.\n",
    "\n",
    "Outro ponto a considerar é a *\"dupla natureza\"* dos índices nas matrizes, podemos tratar cada elemento sequencialmente ou através da linha e da coluna"
   ]
  },
  {
   "cell_type": "code",
   "execution_count": 6,
   "metadata": {
    "collapsed": false
   },
   "outputs": [
    {
     "data": {
      "text/plain": [
       "7"
      ]
     },
     "execution_count": 6,
     "metadata": {},
     "output_type": "execute_result"
    }
   ],
   "source": [
    "# a vírgula separa a linha da coluna\n",
    "arr2[1, end]"
   ]
  },
  {
   "cell_type": "code",
   "execution_count": 7,
   "metadata": {
    "collapsed": false
   },
   "outputs": [
    {
     "data": {
      "text/plain": [
       "7"
      ]
     },
     "execution_count": 7,
     "metadata": {},
     "output_type": "execute_result"
    }
   ],
   "source": [
    "arr2[7]"
   ]
  },
  {
   "cell_type": "code",
   "execution_count": 8,
   "metadata": {
    "collapsed": false
   },
   "outputs": [
    {
     "data": {
      "text/plain": [
       "3x3 Array{Int64,2}:\n",
       " 1  4  7\n",
       " 2  5  8\n",
       " 3  6  9"
      ]
     },
     "execution_count": 8,
     "metadata": {},
     "output_type": "execute_result"
    }
   ],
   "source": [
    "arr2"
   ]
  },
  {
   "cell_type": "code",
   "execution_count": null,
   "metadata": {
    "collapsed": true
   },
   "outputs": [],
   "source": []
  }
 ],
 "metadata": {
  "kernelspec": {
   "display_name": "Julia 0.4.5",
   "language": "julia",
   "name": "julia-0.4"
  },
  "language_info": {
   "file_extension": ".jl",
   "mimetype": "application/julia",
   "name": "julia",
   "version": "0.4.5"
  }
 },
 "nbformat": 4,
 "nbformat_minor": 0
}
