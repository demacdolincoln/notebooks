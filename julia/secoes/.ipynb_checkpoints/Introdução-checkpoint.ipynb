{
 "cells": [
  {
   "cell_type": "markdown",
   "metadata": {},
   "source": [
    "# Julia"
   ]
  },
  {
   "cell_type": "markdown",
   "metadata": {},
   "source": [
    "---\n",
    "\n",
    "## 1. História e motivação\n",
    "\n",
    "### 1.1 Quanto a sintaxe\n",
    "\n",
    "Julia foi criada para reunir numa única linguagem todas as facílidades que existem nas linguagens mais usadas por cientistas, matemáticos e estatísticos sendo assim as maiores influências para a linguagem Julia são Python, R, Matlab e Lisp porém também devemos notar a relevância da influência de outras linguagens que serviram como parâmetros para Julia tivesse uma boa usabilidade pelo seu público alvo que normalmente tem poucos conhecimentos de engenharia de software, dentre estas outras inspirações estão Perl, Lua e Ruby.\n",
    "\n",
    "### 1.2 Quanto ao desempenho\n",
    "\n",
    "O desempenho costuma ser o maior empecilho para a execução de experimentos tendo em vista que o témino da execução de um único teste pode durar vários dias, algumas linguagens como python oferecem meios de melhorar o desempenho usando C nas suas bibliotecas ou usando Cython para que a linguagem torne-se mais estática e possa ser \"compilada\" para C, o grande problema dessas alternativas é a quebra da lógica comum da linguagem ao misturar diferentes percepções de como lidar com o código. Julia nativamente compila o código para a LLVM permitindo que tenha um desempenho próximo a linguagens compiladas como C sem precisar de ferramentas auxiliares que prejudicam a integridade do modo de trabalhar com a linguagem.\n",
    "\n",
    "Abaixo uma tabela comparativa presente na página inicial da linguagem:\n",
    "\n",
    "|\t|Fortran|\tJulia|\tPython|\tR|\tMatlab|\tOctave|\tMathematica|\tJavaScript|\tGo|\tLuaJIT|\tJava|\n",
    "|--| -- | -- |\n",
    "|\tversao |gcc 5.1.1| \t0.4.0| \t3.4.3| \t3.2.2| \tR2015b| \t4.0.0| \t10.2.0| \tV8 3.28.71.19| \tgo1.5| \tgsl-shell 2.3.1| \t1.8.0_45|\n",
    "|fib|\t0.70|\t2.11|\t77.76|\t533.52|\t26.89|\t9324.35|\t118.53|\t3.36|\t1.86|\t1.71|\t1.21|\n",
    "|parse_int|\t5.05|\t1.45|\t17.02|\t45.73|\t802.52|\t9581.44|\t15.02|\t6.06|\t1.20|\t5.77|\t3.35|\n",
    "|quicksort|\t1.31|\t1.15|\t32.89|\t264.54|\t4.92|\t1866.01|\t43.23|\t2.70|\t1.29|\t2.03|\t2.60|\n",
    "|mandel|\t0.81|\t0.79|\t15.32|\t53.16|\t7.58|\t451.81|\t5.13|\t0.66|\t1.11|\t0.67|\t1.35|\n",
    "|pi_sum|\t1.00|\t1.00|\t21.99|\t9.56|\t1.00|\t299.31|\t1.69|\t1.01|\t1.00|\t1.00|\t1.00|\n",
    "|rand_mat_stat|\t1.45|\t1.66|\t17.93|\t14.56|\t14.52|\t30.93|\t5.95|\t2.30|\t2.96|\t3.27|\t3.92|\n",
    "|rand_mat_mul|\t3.48|\t1.02|\t1.14|\t1.57|\t1.12|\t1.12|\t1.30|\t15.07|\t1.42|\t1.16|\t2.36|\n",
    "\n",
    "\n",
    "\n",
    "### 1.2.1 Estático X Dinâmico\n",
    "\n",
    "Quando se trata de desempenho normalmente as linguagens estáticas tem larga ventagem em relação a linguagens dinâmicas isto se dá ao fato de ter menos camadas de abstração o que permite uma manipulação de baixo nível mais direta e com otimização do uso do espaço necessário para cada variável e procedimento.\n",
    "\n",
    "Julia tende a manter características de linguagens dinâmicas mas com alguns aspectos de linguagens estáticas ainda que ao final de tudo o bytecode gerado para a LLVM independe do código original."
   ]
  }
 ],
 "metadata": {
  "kernelspec": {
   "display_name": "Julia 0.4.5",
   "language": "julia",
   "name": "julia-0.4"
  },
  "language_info": {
   "file_extension": ".jl",
   "mimetype": "application/julia",
   "name": "julia",
   "version": "0.4.5"
  }
 },
 "nbformat": 4,
 "nbformat_minor": 0
}
