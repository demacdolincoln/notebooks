{
 "cells": [
  {
   "cell_type": "markdown",
   "metadata": {},
   "source": [
    "### Para quê paralelismo?\n",
    "\n",
    "Ao longo dos últimos anos pudemos ver uma certa estagnação na evolução da velocidade dos núcleos dos processadores ainda que hoje existam bem mais núcleos disponíveis nos processadores de hoje em relação aos de anos atrás. Por isso mesmo buscar formas de explorar os demais núcleos se tornou um desafio para as linguagens de programação e aqui é que aparecem as coroutines, como subprocessos leves que têm a liberdade de operar em diferentes núcleos do processador de forma asíncrona.\n",
    "\n",
    "Em Julia aproveitamos este recurso através de macros mas para termos a possibilidade de aproveitar por completo o processador, precisamos inicialmente iniciar os demais processos."
   ]
  },
  {
   "cell_type": "code",
   "execution_count": null,
   "metadata": {
    "collapsed": false
   },
   "outputs": [],
   "source": [
    "addprocs(1)"
   ]
  },
  {
   "cell_type": "code",
   "execution_count": null,
   "metadata": {
    "collapsed": false
   },
   "outputs": [],
   "source": [
    "procs()"
   ]
  },
  {
   "cell_type": "markdown",
   "metadata": {},
   "source": [
    "Ao contrário de outras linguagens onde para iniciarmos uma thread precisaríamos criar uma classes e adicionar o método *run()*, em Julia basta apenas utilizarmos algumas macros"
   ]
  },
  {
   "cell_type": "code",
   "execution_count": null,
   "metadata": {
    "collapsed": false
   },
   "outputs": [],
   "source": [
    "# criando um array de teste\n",
    "m = SharedArray(Float64,100,100);\n",
    "typeof(m)"
   ]
  },
  {
   "cell_type": "markdown",
   "metadata": {},
   "source": [
    "### @everywhare\n",
    "\n",
    "Permite que uma função possa aproveitar todos os processos da execução atual"
   ]
  },
  {
   "cell_type": "code",
   "execution_count": null,
   "metadata": {
    "collapsed": false
   },
   "outputs": [],
   "source": [
    "@everywhere function preenche(arr::SharedArray)\n",
    "    for i in 1:length(arr)\n",
    "        arr[i] = rand()\n",
    "    end\n",
    "end"
   ]
  },
  {
   "cell_type": "code",
   "execution_count": null,
   "metadata": {
    "collapsed": false
   },
   "outputs": [],
   "source": [
    "@time preenche(m)"
   ]
  },
  {
   "cell_type": "markdown",
   "metadata": {},
   "source": [
    "### @parallel\n",
    "\n",
    "Feito unicamente para o for, além de o tornar paralelo ainda aceita funções quase como um *reduce* aprimorado"
   ]
  },
  {
   "cell_type": "code",
   "execution_count": null,
   "metadata": {
    "collapsed": false
   },
   "outputs": [],
   "source": [
    "@time @parallel (+) for i = 1:100000\n",
    "    i\n",
    "end"
   ]
  },
  {
   "cell_type": "code",
   "execution_count": null,
   "metadata": {
    "collapsed": false
   },
   "outputs": [],
   "source": [
    "@time @parallel for i = 1:length(m)\n",
    "    m[i] = rand()\n",
    "end"
   ]
  },
  {
   "cell_type": "markdown",
   "metadata": {},
   "source": [
    "### @async"
   ]
  },
  {
   "cell_type": "code",
   "execution_count": null,
   "metadata": {
    "collapsed": false
   },
   "outputs": [],
   "source": [
    "task = @time @async @parallel for i = 1:length(m)\n",
    "    m[i] = rand()\n",
    "end"
   ]
  }
 ],
 "metadata": {
  "kernelspec": {
   "display_name": "Julia 0.4.5",
   "language": "julia",
   "name": "julia-0.4"
  },
  "language_info": {
   "file_extension": ".jl",
   "mimetype": "application/julia",
   "name": "julia",
   "version": "0.4.5"
  }
 },
 "nbformat": 4,
 "nbformat_minor": 0
}
