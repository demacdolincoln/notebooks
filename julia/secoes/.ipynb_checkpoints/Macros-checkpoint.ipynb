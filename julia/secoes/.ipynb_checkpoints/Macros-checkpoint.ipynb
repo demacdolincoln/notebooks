{
 "cells": [
  {
   "cell_type": "markdown",
   "metadata": {},
   "source": [
    "macros são um tipo especial de função bem característica de LISP e direcionadas para metaprogramação"
   ]
  },
  {
   "cell_type": "code",
   "execution_count": 1,
   "metadata": {},
   "outputs": [
    {
     "data": {
      "text/plain": [
       "@teste (macro with 1 method)"
      ]
     },
     "execution_count": 1,
     "metadata": {},
     "output_type": "execute_result"
    }
   ],
   "source": [
    "macro teste(f)\n",
    "    println(\"antes\")\n",
    "    :(f()) |> eval # para entender melhor leia sobre expressões logo abaixo\n",
    "    println(\"depois\")\n",
    "end"
   ]
  },
  {
   "cell_type": "code",
   "execution_count": 2,
   "metadata": {},
   "outputs": [
    {
     "name": "stdout",
     "output_type": "stream",
     "text": [
      "antes\n",
      "executando\n",
      "depois\n"
     ]
    }
   ],
   "source": [
    "f() = println(\"executando\")\n",
    "@teste f"
   ]
  },
  {
   "cell_type": "markdown",
   "metadata": {},
   "source": [
    "### Algumas macros importantes\n",
    "\n",
    "* **time** - verifica o tempo de execução do código\n",
    "* **parallel** - modifica o *for* permitindo que seja executado paralelamente\n",
    "* **async** - permite a execução de forma asíncrona\n",
    "* **everywhere** - faz com que uma função possa estar disponível em todos os processos em execução\n",
    "\n",
    "*Obs.: o uso prático dos três últimos está melhor descrito na seção sobre paralelismo*"
   ]
  },
  {
   "cell_type": "code",
   "execution_count": 4,
   "metadata": {},
   "outputs": [
    {
     "name": "stdout",
     "output_type": "stream",
     "text": [
      "antes\n",
      "executando\n",
      "depois\n",
      "  0.000014 seconds (128 allocations: 7.688 KB)\n"
     ]
    }
   ],
   "source": [
    "@time @teste f"
   ]
  },
  {
   "cell_type": "markdown",
   "metadata": {},
   "source": [
    "### Expressões\n",
    "\n",
    "Assim como em LISP toda função pode ser decomposta em expressões, podemos considera-las um tipo especial de string onde há a possibiliade de ser decomposta de diversas formas e portanto modificar o seu conteúdo"
   ]
  },
  {
   "cell_type": "code",
   "execution_count": 3,
   "metadata": {},
   "outputs": [
    {
     "data": {
      "text/plain": [
       ":(1 + 1)"
      ]
     },
     "execution_count": 3,
     "metadata": {},
     "output_type": "execute_result"
    }
   ],
   "source": [
    "expr = :(1+1)"
   ]
  },
  {
   "cell_type": "code",
   "execution_count": 4,
   "metadata": {},
   "outputs": [
    {
     "data": {
      "text/plain": [
       "3-element Array{Any,1}:\n",
       "  :+\n",
       " 1  \n",
       " 1  "
      ]
     },
     "execution_count": 4,
     "metadata": {},
     "output_type": "execute_result"
    }
   ],
   "source": [
    "expr.args"
   ]
  },
  {
   "cell_type": "code",
   "execution_count": 5,
   "metadata": {},
   "outputs": [
    {
     "data": {
      "text/plain": [
       "2"
      ]
     },
     "execution_count": 5,
     "metadata": {},
     "output_type": "execute_result"
    }
   ],
   "source": [
    "eval(expr)"
   ]
  },
  {
   "cell_type": "markdown",
   "metadata": {},
   "source": [
    "por permitir a manipulação de funções neste nível e pela filosofia da linguagem, podemos ter uma noção de como a linguagem trabalha a nível de compilação:"
   ]
  },
  {
   "cell_type": "code",
   "execution_count": 5,
   "metadata": {
    "collapsed": true
   },
   "outputs": [
    {
     "name": "stdout",
     "output_type": "stream",
     "text": [
      "\n",
      "define void @julia_f_72459() #0 !dbg !5 {\n",
      "top:\n",
      "  %ptls_i8 = call i8* asm \"movq %fs:0, $0;\\0Aaddq $$-2672, $0\", \"=r,~{dirflag},~{fpsr},~{flags}\"() #2\n",
      "  %ptls = bitcast i8* %ptls_i8 to %jl_value_t***\n",
      "  %0 = alloca [7 x %jl_value_t*], align 8\n",
      "  %.sub = getelementptr inbounds [7 x %jl_value_t*], [7 x %jl_value_t*]* %0, i64 0, i64 0\n",
      "  %1 = getelementptr [7 x %jl_value_t*], [7 x %jl_value_t*]* %0, i64 0, i64 3\n",
      "  %2 = getelementptr [7 x %jl_value_t*], [7 x %jl_value_t*]* %0, i64 0, i64 2\n",
      "  %3 = bitcast %jl_value_t** %1 to i8*\n",
      "  call void @llvm.memset.p0i8.i32(i8* %3, i8 0, i32 32, i32 8, i1 false)\n",
      "  %4 = bitcast [7 x %jl_value_t*]* %0 to i64*\n",
      "  store i64 10, i64* %4, align 8\n",
      "  %5 = getelementptr [7 x %jl_value_t*], [7 x %jl_value_t*]* %0, i64 0, i64 1\n",
      "  %6 = bitcast i8* %ptls_i8 to i64*\n",
      "  %7 = load i64, i64* %6, align 8\n",
      "  %8 = bitcast %jl_value_t** %5 to i64*\n",
      "  store i64 %7, i64* %8, align 8\n",
      "  store %jl_value_t** %.sub, %jl_value_t*** %ptls, align 8\n",
      "  %9 = getelementptr [7 x %jl_value_t*], [7 x %jl_value_t*]* %0, i64 0, i64 6\n",
      "  %10 = getelementptr [7 x %jl_value_t*], [7 x %jl_value_t*]* %0, i64 0, i64 5\n",
      "  %11 = getelementptr [7 x %jl_value_t*], [7 x %jl_value_t*]* %0, i64 0, i64 4\n",
      "  %12 = load %jl_value_t*, %jl_value_t** inttoptr (i64 139972070596312 to %jl_value_t**), align 8\n",
      "  store %jl_value_t* %12, %jl_value_t** %2, align 8\n",
      "  call void @jl_typeassert(%jl_value_t* %12, %jl_value_t* inttoptr (i64 139972001422192 to %jl_value_t*))\n",
      "  store %jl_value_t* inttoptr (i64 139972006071880 to %jl_value_t*), %jl_value_t** %1, align 8\n",
      "  store %jl_value_t* %12, %jl_value_t** %11, align 8\n",
      "  store %jl_value_t* inttoptr (i64 139972125072064 to %jl_value_t*), %jl_value_t** %10, align 8\n",
      "  store %jl_value_t* inttoptr (i64 139972020113088 to %jl_value_t*), %jl_value_t** %9, align 8\n",
      "  %13 = call %jl_value_t* @jl_apply_generic(%jl_value_t** %1, i32 4)\n",
      "  %14 = load i64, i64* %8, align 8\n",
      "  store i64 %14, i64* %6, align 8\n",
      "  ret void\n",
      "}\n"
     ]
    }
   ],
   "source": [
    "@code_llvm f() # llvm"
   ]
  },
  {
   "cell_type": "code",
   "execution_count": 6,
   "metadata": {},
   "outputs": [
    {
     "data": {
      "text/plain": [
       "LambdaInfo template for f() at In[2]:1\n",
       ":(begin \n",
       "        nothing\n",
       "        return (Main.println)(\"executando\")\n",
       "    end)"
      ]
     },
     "execution_count": 6,
     "metadata": {},
     "output_type": "execute_result"
    }
   ],
   "source": [
    "@code_lowered f() # há LISP por \"baixo\" de Julia"
   ]
  },
  {
   "cell_type": "code",
   "execution_count": 7,
   "metadata": {
    "collapsed": true
   },
   "outputs": [
    {
     "name": "stdout",
     "output_type": "stream",
     "text": [
      "\t.text\n",
      "Filename: In[2]\n",
      "\tpushq\t%rbp\n",
      "\tmovq\t%rsp, %rbp\n",
      "\tpushq\t%r15\n",
      "\tpushq\t%r14\n",
      "\tpushq\t%r12\n",
      "\tpushq\t%rbx\n",
      "\tsubq\t$64, %rsp\n",
      "\tmovq\t%fs:0, %r12\n",
      "\taddq\t$-2672, %r12            # imm = 0xF590\n",
      "\tleaq\t-64(%rbp), %r14\n",
      "\txorps\t%xmm0, %xmm0\n",
      "\tmovups\t%xmm0, -48(%rbp)\n",
      "\tmovups\t%xmm0, -64(%rbp)\n",
      "\tmovq\t$10, -88(%rbp)\n",
      "\tmovq\t(%r12), %rax\n",
      "\tmovq\t%rax, -80(%rbp)\n",
      "\tleaq\t-88(%rbp), %rax\n",
      "\tmovq\t%rax, (%r12)\n",
      "\tmovabsq\t$139972001422192, %rbx  # imm = 0x7F4DC56C5B70\n",
      "Source line: 5\n",
      "\tmovq\t69174120(%rbx), %r15\n",
      "\tmovq\t%r15, -72(%rbp)\n",
      "\tmovabsq\t$jl_typeassert, %rax\n",
      "\tmovq\t%r15, %rdi\n",
      "\tmovq\t%rbx, %rsi\n",
      "\tcallq\t*%rax\n",
      "Source line: 1\n",
      "\tleaq\t4649688(%rbx), %rax\n",
      "\tmovq\t%rax, -64(%rbp)\n",
      "\tmovq\t%r15, -56(%rbp)\n",
      "\tleaq\t123649872(%rbx), %rax\n",
      "\tmovq\t%rax, -48(%rbp)\n",
      "\taddq\t$18690896, %rbx         # imm = 0x11D3350\n",
      "\tmovq\t%rbx, -40(%rbp)\n",
      "\tmovabsq\t$jl_apply_generic, %rax\n",
      "\tmovl\t$4, %esi\n",
      "\tmovq\t%r14, %rdi\n",
      "\tcallq\t*%rax\n",
      "\tmovq\t-80(%rbp), %rax\n",
      "\tmovq\t%rax, (%r12)\n",
      "\taddq\t$64, %rsp\n",
      "\tpopq\t%rbx\n",
      "\tpopq\t%r12\n",
      "\tpopq\t%r14\n",
      "\tpopq\t%r15\n",
      "\tpopq\t%rbp\n",
      "\tretq\n",
      "\tnopl\t(%rax,%rax)\n"
     ]
    }
   ],
   "source": [
    "@code_native f() # assembly"
   ]
  }
 ],
 "metadata": {
  "kernelspec": {
   "display_name": "Julia 0.5.1",
   "language": "julia",
   "name": "julia-0.5"
  },
  "language_info": {
   "file_extension": ".jl",
   "mimetype": "application/julia",
   "name": "julia",
   "version": "0.5.2"
  }
 },
 "nbformat": 4,
 "nbformat_minor": 1
}
