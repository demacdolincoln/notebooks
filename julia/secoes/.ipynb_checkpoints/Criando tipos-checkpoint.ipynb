{
 "cells": [
  {
   "cell_type": "markdown",
   "metadata": {},
   "source": [
    "Devido às características que transitam entre estática e dinâmica na linguagem Julia, os *tipos* se comportam quase como algo intermediário entre as estáticas structs de C e as classes das linguagens orientadas a objetos"
   ]
  },
  {
   "cell_type": "markdown",
   "metadata": {},
   "source": [
    "### Sintaxe básica\n",
    "\n"
   ]
  },
  {
   "cell_type": "code",
   "execution_count": 1,
   "metadata": {
    "collapsed": true
   },
   "outputs": [],
   "source": [
    "type teste\n",
    "    x\n",
    "    z\n",
    "end"
   ]
  },
  {
   "cell_type": "markdown",
   "metadata": {},
   "source": [
    "Por padrão há um método construtor que permite inserir valores nos atributos."
   ]
  },
  {
   "cell_type": "code",
   "execution_count": 2,
   "metadata": {
    "collapsed": false
   },
   "outputs": [
    {
     "data": {
      "text/plain": [
       "teste(\"hello\",999)"
      ]
     },
     "execution_count": 2,
     "metadata": {},
     "output_type": "execute_result"
    }
   ],
   "source": [
    "t = teste(\"hello\",999)"
   ]
  },
  {
   "cell_type": "code",
   "execution_count": 3,
   "metadata": {
    "collapsed": false
   },
   "outputs": [
    {
     "data": {
      "text/plain": [
       "\"hello\""
      ]
     },
     "execution_count": 3,
     "metadata": {},
     "output_type": "execute_result"
    }
   ],
   "source": [
    "t.x"
   ]
  },
  {
   "cell_type": "markdown",
   "metadata": {},
   "source": [
    "### Criando o seu próprio construtor\n",
    "\n",
    "À semelhança de Java, um método construtor tem o mesmo nome que o seu tipo"
   ]
  },
  {
   "cell_type": "code",
   "execution_count": 4,
   "metadata": {
    "collapsed": true
   },
   "outputs": [],
   "source": [
    "type teste2\n",
    "    x::Float64 # tornando x estático\n",
    "    z\n",
    "    teste2() = new(rand())\n",
    "end"
   ]
  },
  {
   "cell_type": "code",
   "execution_count": 5,
   "metadata": {
    "collapsed": false
   },
   "outputs": [
    {
     "data": {
      "text/plain": [
       "teste2(0.6876879050618383,#undef)"
      ]
     },
     "execution_count": 5,
     "metadata": {},
     "output_type": "execute_result"
    }
   ],
   "source": [
    "t2 = teste2()"
   ]
  },
  {
   "cell_type": "markdown",
   "metadata": {},
   "source": [
    "### Herança e tipos abstratos"
   ]
  },
  {
   "cell_type": "markdown",
   "metadata": {},
   "source": [
    "forma de verificar a herança:"
   ]
  },
  {
   "cell_type": "code",
   "execution_count": 12,
   "metadata": {
    "collapsed": false
   },
   "outputs": [
    {
     "data": {
      "text/plain": [
       "true"
      ]
     },
     "execution_count": 12,
     "metadata": {},
     "output_type": "execute_result"
    }
   ],
   "source": [
    "Integer <: Number"
   ]
  },
  {
   "cell_type": "markdown",
   "metadata": {},
   "source": [
    "A herança e os tipos abstratos em Julia se resumem a um indicativo de variação do conceito existente na superclasse, isso é verdadeiramente importante ao se definir limitações em parâmetros de funções por exemplo\n",
    "\n",
    "Vemos que de fato não há herança como em linguagens de uso geral, mas há o conceito de herança num ponto de vista mais conceitual e contextual não havendo o reaproveitamento de código ficando isto a cargo dos métodos da subclasse.\n",
    "\n",
    "No contexto da linguagem este não é necessariamente um aspecto negativo tendo em vista o foco no desempenho, o que leva a uma busca por reduzir os artefatos disponíveis otimizando o uso de memória e processamento"
   ]
  },
  {
   "cell_type": "code",
   "execution_count": 15,
   "metadata": {
    "collapsed": true
   },
   "outputs": [],
   "source": [
    "abstract absTtt"
   ]
  },
  {
   "cell_type": "code",
   "execution_count": 16,
   "metadata": {
    "collapsed": true
   },
   "outputs": [],
   "source": [
    "type subTtt <: absTtt\n",
    "    a\n",
    "end"
   ]
  },
  {
   "cell_type": "code",
   "execution_count": 18,
   "metadata": {
    "collapsed": false
   },
   "outputs": [
    {
     "data": {
      "text/plain": [
       "true"
      ]
     },
     "execution_count": 18,
     "metadata": {},
     "output_type": "execute_result"
    }
   ],
   "source": [
    "subTtt <: absTtt"
   ]
  },
  {
   "cell_type": "code",
   "execution_count": 24,
   "metadata": {
    "collapsed": false
   },
   "outputs": [
    {
     "data": {
      "text/plain": [
       "funcTtt (generic function with 1 method)"
      ]
     },
     "execution_count": 24,
     "metadata": {},
     "output_type": "execute_result"
    }
   ],
   "source": [
    "tt = subTtt(9)\n",
    "\n",
    "funcTtt(a::ttt) = println(a)"
   ]
  },
  {
   "cell_type": "code",
   "execution_count": 25,
   "metadata": {
    "collapsed": false
   },
   "outputs": [
    {
     "name": "stdout",
     "output_type": "stream",
     "text": [
      "ttt2(9)\n"
     ]
    }
   ],
   "source": [
    "funcTtt(tt)"
   ]
  },
  {
   "cell_type": "markdown",
   "metadata": {},
   "source": [
    "### Tipos imutáveis\n",
    "\n",
    "Ainda que semelhantes aos tipos comuns, os tipos imutáveis visam garantir a integridade e ter uma leve melhora de desempenho em relação aos tipos comuns.\n",
    "\n",
    "um bom exemplo de tipo imutável está no código responsável pelos números complexos:\n",
    "\n",
    "```julia\n",
    "immutable Complex{T<:Real} <: Number\n",
    "    re::T\n",
    "    im::T\n",
    "end\n",
    "```\n",
    "\n",
    "clique [aqui](http://localhost:8888/edit/scripts/complex.jl) para ver o arquivo completo"
   ]
  },
  {
   "cell_type": "markdown",
   "metadata": {},
   "source": [
    "### Alternativas aos tipos\n",
    "\n",
    "Devido a suas características estáticas, criar um *tipo* pode não ser adequado para muitos casos, uma boa aternativa é usar um dicionário, que nada mais é que uma tabela hash."
   ]
  },
  {
   "cell_type": "code",
   "execution_count": 1,
   "metadata": {
    "collapsed": false
   },
   "outputs": [
    {
     "data": {
      "text/plain": [
       "Dict{ASCIIString,ASCIIString} with 1 entry:\n",
       "  \"chave\" => \"valor\""
      ]
     },
     "execution_count": 1,
     "metadata": {},
     "output_type": "execute_result"
    }
   ],
   "source": [
    "d = Dict(\"chave\"=> \"valor\")"
   ]
  },
  {
   "cell_type": "code",
   "execution_count": 2,
   "metadata": {
    "collapsed": false
   },
   "outputs": [
    {
     "data": {
      "text/plain": [
       "\"valor\""
      ]
     },
     "execution_count": 2,
     "metadata": {},
     "output_type": "execute_result"
    }
   ],
   "source": [
    "d[\"chave\"]"
   ]
  },
  {
   "cell_type": "markdown",
   "metadata": {},
   "source": [
    "Como um dicionário é uma estrutura dinâmica, podemos modificar à vontade o conteúdo e a quantidade das chaves e valores, a não ser que seja colocada alguma restrição quanto aos tipos."
   ]
  },
  {
   "cell_type": "code",
   "execution_count": 3,
   "metadata": {
    "collapsed": false
   },
   "outputs": [
    {
     "data": {
      "text/plain": [
       "Dict{ASCIIString,Int64} with 0 entries"
      ]
     },
     "execution_count": 3,
     "metadata": {},
     "output_type": "execute_result"
    }
   ],
   "source": [
    "d2 = Dict{ASCIIString, Int}()"
   ]
  },
  {
   "cell_type": "code",
   "execution_count": 4,
   "metadata": {
    "collapsed": false
   },
   "outputs": [
    {
     "data": {
      "text/plain": [
       "9"
      ]
     },
     "execution_count": 4,
     "metadata": {},
     "output_type": "execute_result"
    }
   ],
   "source": [
    "d2[\"hello\"] = 9"
   ]
  },
  {
   "cell_type": "code",
   "execution_count": 5,
   "metadata": {
    "collapsed": false
   },
   "outputs": [
    {
     "data": {
      "text/plain": [
       "Dict{ASCIIString,Int64} with 1 entry:\n",
       "  \"hello\" => 9"
      ]
     },
     "execution_count": 5,
     "metadata": {},
     "output_type": "execute_result"
    }
   ],
   "source": [
    "d2"
   ]
  }
 ],
 "metadata": {
  "kernelspec": {
   "display_name": "Julia 0.4.6",
   "language": "julia",
   "name": "julia-0.4"
  },
  "language_info": {
   "file_extension": ".jl",
   "mimetype": "application/julia",
   "name": "julia",
   "version": "0.4.6"
  }
 },
 "nbformat": 4,
 "nbformat_minor": 0
}
