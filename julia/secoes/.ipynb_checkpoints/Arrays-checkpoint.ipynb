{
 "cells": [
  {
   "cell_type": "markdown",
   "metadata": {},
   "source": [
    "### Sintaxe básica\n",
    "\n",
    "Existem diversos métodos que podem ser usados para inicializar um array, os mais comuns são:\n",
    "\n",
    "* **Array{type}(dim...)** - gera arrays densamente povoados\n",
    "* **zeros(type,dim...)** - gera arrays populados com zeros, por padrão eles sendo Float64\n",
    "* **ones** - quase igual ao *zeros* mas com o array sendo populado por uns\n",
    "* **rand()** - um de seus métodos é gerar arrays com valores aleatórios entre zero e um\n"
   ]
  },
  {
   "cell_type": "code",
   "execution_count": 1,
   "metadata": {},
   "outputs": [
    {
     "data": {
      "text/plain": [
       "3×3×3 Array{Float64,3}:\n",
       "[:, :, 1] =\n",
       " 0.953164  0.349105  0.0403639\n",
       " 0.114787  0.856846  0.959482 \n",
       " 0.666623  0.627034  0.561314 \n",
       "\n",
       "[:, :, 2] =\n",
       " 0.34358    0.393965  0.32713 \n",
       " 0.681832   0.733358  0.825806\n",
       " 0.0362636  0.28776   0.865607\n",
       "\n",
       "[:, :, 3] =\n",
       " 0.97733    0.242573  0.928049\n",
       " 0.262757   0.687758  0.979957\n",
       " 0.0785208  0.235146  0.4478  "
      ]
     },
     "execution_count": 1,
     "metadata": {},
     "output_type": "execute_result"
    }
   ],
   "source": [
    "# teste abaixo os métodos descritos acima\n",
    "arr = rand(3,3,3)"
   ]
  },
  {
   "cell_type": "markdown",
   "metadata": {},
   "source": [
    "#### Outros métodos importantes\n",
    "\n",
    "* **linspace** - gera um array de valores uniforme\n",
    "* **reshape** - modifica as dimensões de um array\n",
    "* **transpose** - rotaciona o array"
   ]
  },
  {
   "cell_type": "code",
   "execution_count": 2,
   "metadata": {},
   "outputs": [
    {
     "data": {
      "text/plain": [
       "3×3 Base.ReshapedArray{Int64,2,UnitRange{Int64},Tuple{}}:\n",
       " 1  4  7\n",
       " 2  5  8\n",
       " 3  6  9"
      ]
     },
     "execution_count": 2,
     "metadata": {},
     "output_type": "execute_result"
    }
   ],
   "source": [
    "arr2 = reshape(1:9,3,3)"
   ]
  },
  {
   "cell_type": "code",
   "execution_count": 3,
   "metadata": {},
   "outputs": [
    {
     "data": {
      "text/plain": [
       "3×3 Array{Int64,2}:\n",
       " 1  2  3\n",
       " 4  5  6\n",
       " 7  8  9"
      ]
     },
     "execution_count": 3,
     "metadata": {},
     "output_type": "execute_result"
    }
   ],
   "source": [
    "arr3 = transpose(arr2)"
   ]
  },
  {
   "cell_type": "markdown",
   "metadata": {
    "collapsed": true
   },
   "source": [
    "### Algumas operações\n",
    "\n",
    "Os arrays de Julia contém uma série de características que auxiliam o programador a fazer alguma operação matemática, em geral a sintaxe é similar a Octave e Matlab,incluindo as operações de álgebra linear"
   ]
  },
  {
   "cell_type": "code",
   "execution_count": 4,
   "metadata": {},
   "outputs": [
    {
     "data": {
      "text/plain": [
       "3×3 Array{Int64,2}:\n",
       " 66   78   90\n",
       " 78   93  108\n",
       " 90  108  126"
      ]
     },
     "execution_count": 4,
     "metadata": {},
     "output_type": "execute_result"
    }
   ],
   "source": [
    "# multiplicação de matrizes\n",
    "arr2 * arr3"
   ]
  },
  {
   "cell_type": "code",
   "execution_count": 5,
   "metadata": {},
   "outputs": [
    {
     "data": {
      "text/plain": [
       "3×3 Array{Int64,2}:\n",
       "  1   8  21\n",
       "  8  25  48\n",
       " 21  48  81"
      ]
     },
     "execution_count": 5,
     "metadata": {},
     "output_type": "execute_result"
    }
   ],
   "source": [
    "# multiplicação de cada valor pelo contido no índice correspondente\n",
    "arr2 .* arr3"
   ]
  },
  {
   "cell_type": "markdown",
   "metadata": {},
   "source": [
    "### Acessando os índices\n",
    "\n",
    "Julia tem algo incomum em relação a maioria das linguagens que é o fato dos índices começarem com valor *1* e não *0* como programadores normalmente estão acostumados e ainda que tenha características circulares como as listas de python, o último elemento é acessado através **end** e não *-1*, isto se deve ao público alvo da linguagem e no seu esforço e aproximação com o modo de trabalhar de matemáticos e físicos.\n",
    "\n",
    "Outro ponto a considerar é a *\"dupla natureza\"* dos índices nas matrizes, podemos tratar cada elemento sequencialmente ou através da linha e da coluna"
   ]
  },
  {
   "cell_type": "code",
   "execution_count": 6,
   "metadata": {},
   "outputs": [
    {
     "data": {
      "text/plain": [
       "7"
      ]
     },
     "execution_count": 6,
     "metadata": {},
     "output_type": "execute_result"
    }
   ],
   "source": [
    "# a vírgula separa a linha da coluna\n",
    "arr2[1, end]"
   ]
  },
  {
   "cell_type": "code",
   "execution_count": 7,
   "metadata": {},
   "outputs": [
    {
     "data": {
      "text/plain": [
       "7"
      ]
     },
     "execution_count": 7,
     "metadata": {},
     "output_type": "execute_result"
    }
   ],
   "source": [
    "arr2[7]"
   ]
  },
  {
   "cell_type": "code",
   "execution_count": 8,
   "metadata": {},
   "outputs": [
    {
     "data": {
      "text/plain": [
       "3×3 Base.ReshapedArray{Int64,2,UnitRange{Int64},Tuple{}}:\n",
       " 1  4  7\n",
       " 2  5  8\n",
       " 3  6  9"
      ]
     },
     "execution_count": 8,
     "metadata": {},
     "output_type": "execute_result"
    }
   ],
   "source": [
    "# repare que os índices são considerados verticalmente\n",
    "arr2"
   ]
  },
  {
   "cell_type": "markdown",
   "metadata": {
    "collapsed": true
   },
   "source": [
    "Ainda sobre os índices de um array, é possível fazer uma série de operações visando filtrar e substituir de alguma forma os valores contidos no array"
   ]
  },
  {
   "cell_type": "code",
   "execution_count": 9,
   "metadata": {},
   "outputs": [
    {
     "data": {
      "text/plain": [
       "4-element Array{Int64,1}:\n",
       " 6\n",
       " 7\n",
       " 8\n",
       " 9"
      ]
     },
     "execution_count": 9,
     "metadata": {},
     "output_type": "execute_result"
    }
   ],
   "source": [
    "arr2[arr2.>5]"
   ]
  },
  {
   "cell_type": "code",
   "execution_count": 11,
   "metadata": {},
   "outputs": [
    {
     "data": {
      "text/plain": [
       "3×3 Base.ReshapedArray{Int64,2,UnitRange{Int64},Tuple{}}:\n",
       " 1  4  7\n",
       " 2  5  8\n",
       " 3  6  9"
      ]
     },
     "execution_count": 11,
     "metadata": {},
     "output_type": "execute_result"
    }
   ],
   "source": [
    "arr2"
   ]
  },
  {
   "cell_type": "code",
   "execution_count": 12,
   "metadata": {},
   "outputs": [
    {
     "data": {
      "text/plain": [
       "4-element Array{Int64,1}:\n",
       " 9\n",
       " 1\n",
       " 8\n",
       " 2"
      ]
     },
     "execution_count": 12,
     "metadata": {},
     "output_type": "execute_result"
    }
   ],
   "source": [
    "indices = [9,1,8,2]\n",
    "arr2[indices]"
   ]
  },
  {
   "cell_type": "code",
   "execution_count": 14,
   "metadata": {},
   "outputs": [
    {
     "data": {
      "text/plain": [
       "3×3 Base.ReshapedArray{Int64,2,UnitRange{Int64},Tuple{}}:\n",
       " 1  4  7\n",
       " 2  5  8\n",
       " 3  6  9"
      ]
     },
     "execution_count": 14,
     "metadata": {},
     "output_type": "execute_result"
    }
   ],
   "source": [
    "arr2"
   ]
  },
  {
   "cell_type": "markdown",
   "metadata": {},
   "source": [
    "uma função interessante sob este aspcto é a **sortperm**"
   ]
  },
  {
   "cell_type": "code",
   "execution_count": 15,
   "metadata": {},
   "outputs": [
    {
     "data": {
      "text/plain": [
       "5-element Array{Float64,1}:\n",
       " 0.13858  \n",
       " 0.676646 \n",
       " 0.817603 \n",
       " 0.0107628\n",
       " 0.185901 "
      ]
     },
     "execution_count": 15,
     "metadata": {},
     "output_type": "execute_result"
    }
   ],
   "source": [
    "arrDesord = rand(5)"
   ]
  },
  {
   "cell_type": "code",
   "execution_count": 16,
   "metadata": {},
   "outputs": [
    {
     "data": {
      "text/plain": [
       "5-element Array{Int64,1}:\n",
       " 4\n",
       " 1\n",
       " 5\n",
       " 2\n",
       " 3"
      ]
     },
     "execution_count": 16,
     "metadata": {},
     "output_type": "execute_result"
    }
   ],
   "source": [
    "indicesOrdenados = sortperm(arrDesord)"
   ]
  },
  {
   "cell_type": "code",
   "execution_count": 17,
   "metadata": {},
   "outputs": [
    {
     "data": {
      "text/plain": [
       "5-element Array{Float64,1}:\n",
       " 0.0107628\n",
       " 0.13858  \n",
       " 0.185901 \n",
       " 0.676646 \n",
       " 0.817603 "
      ]
     },
     "execution_count": 17,
     "metadata": {},
     "output_type": "execute_result"
    }
   ],
   "source": [
    "arrDesord[indicesOrdenados]"
   ]
  },
  {
   "cell_type": "markdown",
   "metadata": {},
   "source": [
    "### padrão nas funções que manipulam arrays\n",
    "\n",
    "toda função que terminar com ***!*** modifica o conteúdo do array se aproveitando da passagem por referência, quando não há ***!*** ao final da função, ela devolve um outro array como resultado da operação"
   ]
  },
  {
   "cell_type": "code",
   "execution_count": 18,
   "metadata": {},
   "outputs": [
    {
     "data": {
      "text/plain": [
       "5-element Array{Float64,1}:\n",
       " 0.0107628\n",
       " 0.13858  \n",
       " 0.185901 \n",
       " 0.676646 \n",
       " 0.817603 "
      ]
     },
     "execution_count": 18,
     "metadata": {},
     "output_type": "execute_result"
    }
   ],
   "source": [
    "# ordena o array original\n",
    "sort!(arrDesord)"
   ]
  },
  {
   "cell_type": "code",
   "execution_count": 19,
   "metadata": {},
   "outputs": [
    {
     "data": {
      "text/plain": [
       "5-element Array{Float64,1}:\n",
       " 0.0107628\n",
       " 0.13858  \n",
       " 0.185901 \n",
       " 0.676646 \n",
       " 0.817603 "
      ]
     },
     "execution_count": 19,
     "metadata": {},
     "output_type": "execute_result"
    }
   ],
   "source": [
    "arrDesord"
   ]
  },
  {
   "cell_type": "code",
   "execution_count": 20,
   "metadata": {},
   "outputs": [
    {
     "data": {
      "text/plain": [
       "5-element Array{Float64,1}:\n",
       " 0.0107628\n",
       " 0.13858  \n",
       " 0.185901 \n",
       " 0.676646 \n",
       " 0.817603 "
      ]
     },
     "execution_count": 20,
     "metadata": {},
     "output_type": "execute_result"
    }
   ],
   "source": [
    "# devolve uma cópia do array ordenado mas não ordena o original\n",
    "arrDesord2 = rand(5)\n",
    "sort(arrDesord)"
   ]
  },
  {
   "cell_type": "code",
   "execution_count": 21,
   "metadata": {},
   "outputs": [
    {
     "data": {
      "text/plain": [
       "5-element Array{Float64,1}:\n",
       " 0.26264 \n",
       " 0.32599 \n",
       " 0.697131\n",
       " 0.188292\n",
       " 0.935645"
      ]
     },
     "execution_count": 21,
     "metadata": {},
     "output_type": "execute_result"
    }
   ],
   "source": [
    "arrDesord2"
   ]
  },
  {
   "cell_type": "markdown",
   "metadata": {},
   "source": [
    "## Tipos de arrays\n",
    "\n",
    "devido ao uso em álgebra linear, Julia mantém uma separação entre vetor, matriz e array, ainda que os dois primeiras sejam tipos específicos de arrays"
   ]
  },
  {
   "cell_type": "code",
   "execution_count": 31,
   "metadata": {},
   "outputs": [
    {
     "data": {
      "text/plain": [
       "Array{Int64,1}"
      ]
     },
     "execution_count": 31,
     "metadata": {},
     "output_type": "execute_result"
    }
   ],
   "source": [
    "v = Vector(1:10)\n",
    "typeof(v)"
   ]
  },
  {
   "cell_type": "code",
   "execution_count": 35,
   "metadata": {},
   "outputs": [
    {
     "data": {
      "text/plain": [
       "Array{Any,2}"
      ]
     },
     "execution_count": 35,
     "metadata": {},
     "output_type": "execute_result"
    }
   ],
   "source": [
    "m = Matrix(5, 5)\n",
    "for i in 1:length(m); m[i] = rand(1:5); end\n",
    "typeof(m)"
   ]
  },
  {
   "cell_type": "markdown",
   "metadata": {},
   "source": [
    "### Alguns métodos úteis:\n",
    "*obs.: explicações tiradas da ajuda das funções*\n",
    "\n",
    "* diag - The **k**th diagonal of a matrix, as a vector. Use **diagm** to construct a diagonal matrix.\n",
    "* kron - Kronecker tensor product of two vectors or two matrices.\n",
    "* vecdot - compute the Euclidean dot product (the sum of `dot(x[i],y[i]))` as if they were vectors.\n"
   ]
  }
 ],
 "metadata": {
  "kernelspec": {
   "display_name": "Julia 0.5.1",
   "language": "julia",
   "name": "julia-0.5"
  },
  "language_info": {
   "file_extension": ".jl",
   "mimetype": "application/julia",
   "name": "julia",
   "version": "0.5.2"
  }
 },
 "nbformat": 4,
 "nbformat_minor": 1
}
