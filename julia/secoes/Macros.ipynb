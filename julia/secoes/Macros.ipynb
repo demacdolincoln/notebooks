{
 "cells": [
  {
   "cell_type": "markdown",
   "metadata": {},
   "source": [
    "macros são um tipo especial de função bem característica de LISP e direcionadas para metaprogramação"
   ]
  },
  {
   "cell_type": "code",
   "execution_count": 1,
   "metadata": {
    "collapsed": true
   },
   "outputs": [],
   "source": [
    "macro teste(f)\n",
    "    println(\"antes\")\n",
    "    :(f()) |> eval # para entender melhor leia sobre expressões logo abaixo\n",
    "    println(\"depois\")\n",
    "end"
   ]
  },
  {
   "cell_type": "code",
   "execution_count": 2,
   "metadata": {
    "collapsed": false
   },
   "outputs": [
    {
     "name": "stdout",
     "output_type": "stream",
     "text": [
      "antes\n",
      "executando\n",
      "depois\n"
     ]
    }
   ],
   "source": [
    "f() = println(\"executando\")\n",
    "@teste f"
   ]
  },
  {
   "cell_type": "markdown",
   "metadata": {},
   "source": [
    "### Algumas macros importantes\n",
    "\n",
    "* **time** - verifica o tempo de execução do código\n",
    "* **parallel** - modifica o *for* permitindo que seja executado paralelamente\n",
    "* **async** - permite a execução de forma asíncrona\n",
    "* **everywhere** - faz com que uma função possa aproveitar todos os processos do programa para obter mais velocidade\n",
    "\n",
    "o uso prático dos três últimos está melhor descrito na seção sobre paralelismo"
   ]
  },
  {
   "cell_type": "code",
   "execution_count": null,
   "metadata": {
    "collapsed": false
   },
   "outputs": [],
   "source": [
    "@time @teste f"
   ]
  },
  {
   "cell_type": "markdown",
   "metadata": {},
   "source": [
    "### Expressões\n",
    "\n",
    "Assim como em LISP toda função pode ser decomposta em expressões, podemos considera-las um tipo especial de string onde há a possibiliade de ser decomposta de diversas formas e portanto modificar o seu conteúdo"
   ]
  },
  {
   "cell_type": "code",
   "execution_count": 3,
   "metadata": {
    "collapsed": false
   },
   "outputs": [
    {
     "data": {
      "text/plain": [
       ":(1 + 1)"
      ]
     },
     "execution_count": 3,
     "metadata": {},
     "output_type": "execute_result"
    }
   ],
   "source": [
    "expr = :(1+1)"
   ]
  },
  {
   "cell_type": "code",
   "execution_count": 4,
   "metadata": {
    "collapsed": false
   },
   "outputs": [
    {
     "data": {
      "text/plain": [
       "3-element Array{Any,1}:\n",
       "  :+\n",
       " 1  \n",
       " 1  "
      ]
     },
     "execution_count": 4,
     "metadata": {},
     "output_type": "execute_result"
    }
   ],
   "source": [
    "expr.args"
   ]
  },
  {
   "cell_type": "code",
   "execution_count": 5,
   "metadata": {
    "collapsed": false
   },
   "outputs": [
    {
     "data": {
      "text/plain": [
       "2"
      ]
     },
     "execution_count": 5,
     "metadata": {},
     "output_type": "execute_result"
    }
   ],
   "source": [
    "eval(expr)"
   ]
  },
  {
   "cell_type": "code",
   "execution_count": 7,
   "metadata": {
    "collapsed": false
   },
   "outputs": [
    {
     "name": "stdout",
     "output_type": "stream",
     "text": [
      "\n",
      "define %jl_value_t* @julia_f_21819() {\n",
      "top:\n",
      "  %0 = alloca [4 x %jl_value_t*], align 8\n",
      "  %.sub = getelementptr inbounds [4 x %jl_value_t*]* %0, i64 0, i64 0\n",
      "  %1 = getelementptr [4 x %jl_value_t*]* %0, i64 0, i64 2\n",
      "  store %jl_value_t* inttoptr (i64 4 to %jl_value_t*), %jl_value_t** %.sub, align 8\n",
      "  %2 = getelementptr [4 x %jl_value_t*]* %0, i64 0, i64 1\n",
      "  %3 = load %jl_value_t*** @jl_pgcstack, align 8\n",
      "  %.c = bitcast %jl_value_t** %3 to %jl_value_t*\n",
      "  store %jl_value_t* %.c, %jl_value_t** %2, align 8\n",
      "  store %jl_value_t** %.sub, %jl_value_t*** @jl_pgcstack, align 8\n",
      "  store %jl_value_t* null, %jl_value_t** %1, align 8\n",
      "  %4 = getelementptr [4 x %jl_value_t*]* %0, i64 0, i64 3\n",
      "  store %jl_value_t* null, %jl_value_t** %4, align 8\n",
      "  %5 = load %jl_value_t** inttoptr (i64 140498945695400 to %jl_value_t**), align 8\n",
      "  store %jl_value_t* %5, %jl_value_t** %1, align 8\n",
      "  store %jl_value_t* inttoptr (i64 140498983335632 to %jl_value_t*), %jl_value_t** %4, align 8\n",
      "  %6 = call %jl_value_t* @jl_apply_generic(%jl_value_t* inttoptr (i64 140498924168720 to %jl_value_t*), %jl_value_t** %1, i32 2)\n",
      "  %7 = load %jl_value_t** %2, align 8\n",
      "  %8 = getelementptr inbounds %jl_value_t* %7, i64 0, i32 0\n",
      "  store %jl_value_t** %8, %jl_value_t*** @jl_pgcstack, align 8\n",
      "  ret %jl_value_t* %6\n",
      "}\n"
     ]
    }
   ],
   "source": [
    "@code_llvm f()"
   ]
  },
  {
   "cell_type": "code",
   "execution_count": null,
   "metadata": {
    "collapsed": true
   },
   "outputs": [],
   "source": []
  }
 ],
 "metadata": {
  "kernelspec": {
   "display_name": "Julia 0.4.6",
   "language": "julia",
   "name": "julia-0.4"
  },
  "language_info": {
   "file_extension": ".jl",
   "mimetype": "application/julia",
   "name": "julia",
   "version": "0.4.5"
  }
 },
 "nbformat": 4,
 "nbformat_minor": 0
}
