{
 "cells": [
  {
   "cell_type": "markdown",
   "metadata": {},
   "source": [
    "# Int\n",
    "\n",
    "|Type|\tSigned?|\tNumber of bits|\tSmallest value|\tLargest value|\n",
    "| -- | -- | -- | -- | -- | -- |\n",
    "|Int8|\t✓|\t8|\t-2^7|\t2^7 - 1|\n",
    "|UInt8|\t |\t8|\t0|\t2^8 - 1|\n",
    "|Int16|\t✓|\t16|\t-2^15|\t2^15 - 1|\n",
    "|UInt16|\t |\t16|\t0|\t2^16 - 1|\n",
    "|Int32|\t✓|\t32|\t-2^31|\t2^31 - 1|\n",
    "|UInt32|\t |\t32|\t0|\t2^32 - 1|\n",
    "|Int64|\t✓|\t64|\t-2^63|\t2^63 - 1|\n",
    "|UInt64|\t |\t64|\t0|\t2^64 - 1|\n",
    "|Int128|\t✓|\t128|\t-2^127|\t2^127 - 1|\n",
    "|UInt128|\t| \t128|\t0|\t2^128 - 1|\n",
    "|Bool|\tN/A|\t8|\tfalse (0)|\ttrue (1)|\n",
    "\n",
    "\n",
    "# Float\n",
    "\n",
    "|Type|Precision\t|Number of bits\n",
    "| -- | -- | -- |\n",
    "|Float16\t|half\t|16\n",
    "|Float32\t|single\t|32\n",
    "|Float64\t|double\t|64\n",
    "\n",
    "**Obs.: Julia tem suporte para números complexos**"
   ]
  },
  {
   "cell_type": "code",
   "execution_count": 4,
   "metadata": {
    "collapsed": false
   },
   "outputs": [
    {
     "name": "stdout",
     "output_type": "stream",
     "text": [
      "1000 + 1im -- Complex{Int64}\n"
     ]
    }
   ],
   "source": [
    "# teste com hexadecimais (0xInt), binários (0bInt) e numeros complexos (int + im)\n",
    "\n",
    "num = 1000 + 1im\n",
    "println(num ,\" -- \",typeof(num))"
   ]
  },
  {
   "cell_type": "code",
   "execution_count": 5,
   "metadata": {
    "collapsed": false
   },
   "outputs": [
    {
     "name": "stdout",
     "output_type": "stream",
     "text": [
      "-170141183460469231731687303715884105728 | 170141183460469231731687303715884105727\n"
     ]
    }
   ],
   "source": [
    "# altere os typos abaixo para os que preferir\n",
    "\n",
    "println(typemin(Int128),\" | \",typemax(Int128))"
   ]
  },
  {
   "cell_type": "code",
   "execution_count": 6,
   "metadata": {
    "collapsed": false
   },
   "outputs": [
    {
     "name": "stdout",
     "output_type": "stream",
     "text": [
      "-170141183460469231731687303715884105728\n"
     ]
    }
   ],
   "source": [
    "# O que acontece quando extrapolamos os limites?\n",
    "\n",
    "println(typemax(Int128)+1)"
   ]
  },
  {
   "cell_type": "markdown",
   "metadata": {},
   "source": [
    "### BigInt & BigFloat"
   ]
  },
  {
   "cell_type": "code",
   "execution_count": 7,
   "metadata": {
    "collapsed": false
   },
   "outputs": [
    {
     "data": {
      "text/plain": [
       "170141183460469231731687303715884105728"
      ]
     },
     "execution_count": 7,
     "metadata": {},
     "output_type": "execute_result"
    }
   ],
   "source": [
    "big = BigInt(typemax(Int128)) + 1"
   ]
  },
  {
   "cell_type": "code",
   "execution_count": 8,
   "metadata": {
    "collapsed": false
   },
   "outputs": [
    {
     "data": {
      "text/plain": [
       "1.000000000000000000000000000000000000000000000000000000000000000000000000000000"
      ]
     },
     "execution_count": 8,
     "metadata": {},
     "output_type": "execute_result"
    }
   ],
   "source": [
    "BigFloat(1)"
   ]
  },
  {
   "cell_type": "markdown",
   "metadata": {},
   "source": [
    "### Considerações sobre comportamentos especiais dos Float\n",
    "\n",
    "Números que tendem a zero pela direita e pela esquerda\n"
   ]
  },
  {
   "cell_type": "code",
   "execution_count": 9,
   "metadata": {
    "collapsed": false
   },
   "outputs": [
    {
     "data": {
      "text/plain": [
       "true"
      ]
     },
     "execution_count": 9,
     "metadata": {},
     "output_type": "execute_result"
    }
   ],
   "source": [
    "0.0 == -0.0"
   ]
  },
  {
   "cell_type": "code",
   "execution_count": 10,
   "metadata": {
    "collapsed": false
   },
   "outputs": [
    {
     "data": {
      "text/plain": [
       "\"0000000000000000000000000000000000000000000000000000000000000000\""
      ]
     },
     "execution_count": 10,
     "metadata": {},
     "output_type": "execute_result"
    }
   ],
   "source": [
    "# tente com -0.0\n",
    "bits(0.0)"
   ]
  },
  {
   "cell_type": "markdown",
   "metadata": {},
   "source": [
    "Tipos Float especiais:\n",
    "\n",
    "|Float16 |\tFloat32\t|Float64|\t \n",
    "| -- | -- | -- |\n",
    "|Inf16\t|Inf32\t|Inf\t|positive infinity|\ta value greater than all finite floating-point values\n",
    "|-Inf16\t|-Inf32|\t-Inf|\tnegative infinity|\ta value less than all finite floating-point values\n",
    "|NaN16\t|NaN32|\tNaN|\tnot a number|\ta value not == to any floating-point value (including itself)"
   ]
  },
  {
   "cell_type": "code",
   "execution_count": 11,
   "metadata": {
    "collapsed": false
   },
   "outputs": [
    {
     "data": {
      "text/plain": [
       "-0.0"
      ]
     },
     "execution_count": 11,
     "metadata": {},
     "output_type": "execute_result"
    }
   ],
   "source": [
    "-5 / Inf"
   ]
  },
  {
   "cell_type": "markdown",
   "metadata": {},
   "source": [
    "---\n",
    "\n",
    "### Números Racionais\n",
    "\n",
    "Ao contrário de Python uma divisão com `//` não indica a divisão de inteiros, mas uma fração:"
   ]
  },
  {
   "cell_type": "code",
   "execution_count": 12,
   "metadata": {
    "collapsed": false
   },
   "outputs": [
    {
     "data": {
      "text/plain": [
       "2//3"
      ]
     },
     "execution_count": 12,
     "metadata": {},
     "output_type": "execute_result"
    }
   ],
   "source": [
    "6//9"
   ]
  },
  {
   "cell_type": "code",
   "execution_count": 13,
   "metadata": {
    "collapsed": false
   },
   "outputs": [
    {
     "data": {
      "text/plain": [
       "5//3"
      ]
     },
     "execution_count": 13,
     "metadata": {},
     "output_type": "execute_result"
    }
   ],
   "source": [
    "1 + 2//3"
   ]
  },
  {
   "cell_type": "code",
   "execution_count": null,
   "metadata": {
    "collapsed": true
   },
   "outputs": [],
   "source": []
  }
 ],
 "metadata": {
  "kernelspec": {
   "display_name": "Julia 0.4.5",
   "language": "julia",
   "name": "julia-0.4"
  },
  "language_info": {
   "file_extension": ".jl",
   "mimetype": "application/julia",
   "name": "julia",
   "version": "0.4.5"
  }
 },
 "nbformat": 4,
 "nbformat_minor": 0
}
