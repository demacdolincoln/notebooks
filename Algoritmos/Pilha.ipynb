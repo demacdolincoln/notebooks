{
 "cells": [
  {
   "cell_type": "markdown",
   "metadata": {},
   "source": [
    "# Pilha"
   ]
  },
  {
   "cell_type": "markdown",
   "metadata": {},
   "source": [
    "Pensemos numa pilha de pratos: **o último a ser colocado é o primeiro a ser retirado**, este método é chamado de *\"last in, first out\"*, enfim, a mesma coisa que tinha dito logo no início."
   ]
  },
  {
   "cell_type": "markdown",
   "metadata": {},
   "source": [
    "## Aplicações"
   ]
  },
  {
   "cell_type": "markdown",
   "metadata": {},
   "source": [
    "Quando você escreve um texto, seja no navegador de internet ou num processador de texto e quer desfazer algo que escreveu basta usar o atalho *Ctrl+z*, ou seja: enquanto você escreve é formada uma pilha de caracteres, e o comando desfazer apenas retira o caracter (ou palavra) do topo da pilha, o mesmo serve para quando copiamos e colamos algo, afinal o último elemento copiado é o primeiro a ser colado, e se vermos alguns aplicativos que servem para gerenciar a memória usada pelos sistemas operacionais para esta finalidade, o funcionamento de uma pilha fica ainda mais claro, a cada elemento adicionado, os demais são movidos uma posição para baixo na pilha."
   ]
  },
  {
   "cell_type": "markdown",
   "metadata": {},
   "source": [
    "Em Python poderíamos fazer uma classe dessa forma para implementar esta lógica de funcionamento de uma pilha, neste caso fazendo uma pilha de palavras:"
   ]
  },
  {
   "cell_type": "markdown",
   "metadata": {
    "collapsed": true
   },
   "source": [
    "```python\n",
    "class pilha_de_texto(object):\n",
    "    \n",
    "    def __init__(self):\n",
    "        '''inicia a pilha'''\n",
    "        self.pilha = []\n",
    "        \n",
    "    def insert(self, palavra):\n",
    "        '''insere novas palavras sempre no topo'''\n",
    "        self.pilha.insert(0, palavra)\n",
    "        \n",
    "    def remove(self):\n",
    "        '''retira a palavra que estiver no topo'''\n",
    "        self.pilha.pop(0)```"
   ]
  },
  {
   "cell_type": "markdown",
   "metadata": {},
   "source": [
    "Nada impediria de colocarmos as palavras mais recentes ao final da fila, portanto que elas sejam as primeiras a sair, neste caso o código em Python ficaria assim:"
   ]
  },
  {
   "cell_type": "markdown",
   "metadata": {
    "collapsed": true
   },
   "source": [
    "```python\n",
    "class pilha_de_texto(object):\n",
    "    \n",
    "    def __init__(self):\n",
    "        '''inicia a pilha'''\n",
    "        self.pilha = []\n",
    "        \n",
    "    def insert(self, palavra):\n",
    "        '''insere novas palavras sempre no topo'''\n",
    "        self.pilha.append(palavra)\n",
    "        \n",
    "    def remove(self):\n",
    "        '''retira a palavra que estiver no topo'''\n",
    "        self.pilha.pop()```"
   ]
  },
  {
   "cell_type": "markdown",
   "metadata": {},
   "source": [
    "Um dos exercícios mais usados para aplicar de forma simples uma pilha é fazendo uma calculadora de notação polonesa, ou notação polonesa reversa, antes de tratarmos de como seria o código destes tipos de calculadora, vamos entender como elas funcionam:"
   ]
  },
  {
   "cell_type": "markdown",
   "metadata": {},
   "source": [
    "* Calculadora de notação polonesa (prefixa): primeiro os operadores, depois os números\n",
    "    - ex.: - \\* ab / cd == (a * b) - (c / d)"
   ]
  },
  {
   "cell_type": "markdown",
   "metadata": {},
   "source": [
    "* Calculadora de notação polonesa reversa (posfixa): como o nome indica, primeiro vem os números, depois os operadores\n",
    "    - ex.: ab \\* cd / - == (a * b)-(c / d)"
   ]
  },
  {
   "cell_type": "markdown",
   "metadata": {},
   "source": [
    "#### Implementação do código em Python"
   ]
  },
  {
   "cell_type": "code",
   "execution_count": 1,
   "metadata": {
    "collapsed": true
   },
   "outputs": [],
   "source": [
    "class Pilha(object):\n",
    "\n",
    "    \"\"\" O ultimo a entrar e o primeiro a sair \"\"\"\n",
    "\n",
    "    def __init__(self):\n",
    "        \"\"\" apenas inicia os atributos  \"\"\"\n",
    "        self.elementos = []\n",
    "\n",
    "    def __repr__(self):\n",
    "        return 'elementos {0}'.format(self.elementos)\n",
    "\n",
    "    def adiciona(self, elemento):\n",
    "        \"\"\"adiciona um elemento no 'topo' da pilha\n",
    "\n",
    "        :elemento: o objeto que será inserido\n",
    "        :returns: None\n",
    "\n",
    "        \"\"\"\n",
    "        self.elementos.append(elemento)\n",
    "\n",
    "    def retira(self):\n",
    "        \"\"\"retira o elemento mais recente adicionado a pilha\n",
    "\n",
    "        :returns: elemento do topo da pilha\n",
    "\n",
    "        \"\"\"\n",
    "        return self.elementos.pop()\n"
   ]
  },
  {
   "cell_type": "code",
   "execution_count": 2,
   "metadata": {
    "collapsed": false
   },
   "outputs": [],
   "source": [
    "\"\"\"\n",
    "Funcionamento:\n",
    "    empilha os operadores e calcula os valores\n",
    "\n",
    "primeira parte:\n",
    "    criacao de funcoes que executem as operacoes e seu acoplamento a um\n",
    "    dicionario que servira de forma similar a um switch\n",
    "\n",
    "segunda parte:\n",
    "    funcao que implementara a notacao polonesa se valendo de recursividade, das\n",
    "    funcoes da primeira parte deste codigo e do modulo que contem a classe pilha\n",
    "\n",
    "\"\"\"\n",
    "\n",
    "#################################################################################\n",
    "#                               primeira parte                                  #\n",
    "#################################################################################\n",
    "\n",
    "oprcs = {'+' : lambda x, y : x + y,\n",
    "        '-' : lambda x, y : x - y,\n",
    "        '*' : lambda x, y : x * y,\n",
    "        '/' : lambda x, y : x / y }\n",
    "\n",
    "#################################################################################\n",
    "#                               segunda parte                                   #\n",
    "#################################################################################\n",
    "\n",
    "def calculadora(pilha_op,pilha_num, expressao, op):\n",
    "    \"\"\"TODO: Docstring for calculadora.\n",
    "\n",
    "    :pilha_op: o objeto que implementa a estrutura 'pilha' para as operacoes\n",
    "    :pilha_num: o objeto que implementa a estrutura 'pilha' para os numeros\n",
    "    :expressao: str que contem o calcula a ser realizado em notacao polonesa\n",
    "    :op: dicionario contendo as operacoes matematicas e funcoes que as\n",
    "    implementam\n",
    "    \n",
    "    :returns: resultado do calculo\n",
    "\n",
    "    \"\"\"\n",
    "\n",
    "    # tratando da expressao\n",
    "    expr_list = []\n",
    "\n",
    "    if type(expressao) == str:\n",
    "        expr_list = expressao.split(' ')\n",
    "    elif type(expressao) == list:\n",
    "        expr_list = expressao\n",
    "    else:\n",
    "        print('erro quanto ao tipo de dado da expressao!!!')\n",
    "\n",
    "    # verificando cada elemento da expressao\n",
    "    \n",
    "    if len(pilha_num.elementos) == 2 and len(expr_list) > 2:\n",
    "        a = pilha_num.retira()\n",
    "        b = pilha_num.retira()\n",
    "        result = pilha_op.retira()(a, b)\n",
    "#        import pdb; pdb.set_trace()\n",
    "        return pilha_op.retira()(result, calculadora(pilha_op,pilha_num,\n",
    "            expr_list, op))\n",
    "\n",
    "    elif len(pilha_op.elementos) == 1 and len(pilha_num.elementos) == 2:\n",
    "        a = pilha_num.retira()\n",
    "        b = pilha_num.retira()\n",
    "        result = pilha_op.retira()(a, b)\n",
    "#        import pdb; pdb.set_trace()\n",
    "        return result\n",
    "    \n",
    "    elif expr_list[0] in op.keys():\n",
    "        key = expr_list.pop(0)\n",
    "        pilha_op.adiciona(op[key])\n",
    "#        import pdb; pdb.set_trace()\n",
    "        return calculadora(pilha_op,pilha_num, expr_list, op)\n",
    "    \n",
    "    elif len(pilha_num.elementos) < 2:\n",
    "        num = int(expr_list.pop(0))\n",
    "        pilha_num.adiciona(num)\n",
    "#        import pdb; pdb.set_trace()\n",
    "        return calculadora(pilha_op,pilha_num, expr_list, op)\n"
   ]
  },
  {
   "cell_type": "code",
   "execution_count": 4,
   "metadata": {
    "collapsed": false
   },
   "outputs": [
    {
     "name": "stdout",
     "output_type": "stream",
     "text": [
      "90\n"
     ]
    }
   ],
   "source": [
    "p_op = Pilha()\n",
    "p_num = Pilha()\n",
    "#expressao = '* + 2 8 - 2 7' # resultado: 50\n",
    "expressao = '* + 12 6 - 5 10' # resultado: 90\n",
    "#expressao = '/ + 3 6 - 5 10' # resultado: 1.8\n",
    "\n",
    "resultado = calculadora(p_op, p_num, expressao, oprcs)\n",
    "print(resultado)"
   ]
  },
  {
   "cell_type": "code",
   "execution_count": null,
   "metadata": {
    "collapsed": true
   },
   "outputs": [],
   "source": [
    "def polonesa_reversa(operacoes, expr, pilha):\n",
    "    '''empilha os números, encontra os operadores matemáticos, calcula o resulado'''"
   ]
  }
 ],
 "metadata": {
  "kernelspec": {
   "display_name": "Python 3",
   "language": "python",
   "name": "python3"
  },
  "language_info": {
   "codemirror_mode": {
    "name": "ipython",
    "version": 3
   },
   "file_extension": ".py",
   "mimetype": "text/x-python",
   "name": "python",
   "nbconvert_exporter": "python",
   "pygments_lexer": "ipython3",
   "version": "3.4.3"
  }
 },
 "nbformat": 4,
 "nbformat_minor": 0
}
