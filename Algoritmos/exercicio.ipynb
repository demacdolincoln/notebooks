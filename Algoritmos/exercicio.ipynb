{
 "cells": [
  {
   "cell_type": "markdown",
   "metadata": {},
   "source": [
    "### 1\n",
    "\n",
    "Encontrar o somatório maximo de uma subsequencia de um vetor"
   ]
  },
  {
   "cell_type": "code",
   "execution_count": 7,
   "metadata": {
    "collapsed": true
   },
   "outputs": [],
   "source": [
    "#from functools import lru_cache\n",
    "\n",
    "#@lru_cache(maxsize=256, typed=False)\n",
    "def maxima_seq(vetor, maximo=0):\n",
    "    '''TODO: encontra o maior somatorio de uma subsequencia de um vetor\n",
    "    \n",
    "    :lista: elemento a ser analisado\n",
    "    :maximo: usado para fins de recursividade,\n",
    "            armazena o maior valor encontrado ate o momento\n",
    "    \n",
    "    :return: o valor maximo encontrado\n",
    "    '''\n",
    "\n",
    "    if len(vetor) == 1:\n",
    "        if maximo < vetor[0]:\n",
    "            maximo = vetor[0]\n",
    "\n",
    "        return maximo\n",
    "    else:\n",
    "        \n",
    "        for i in range(len(vetor)):\n",
    "            soma = sum(vetor[:i+1])\n",
    "            if maximo < soma:\n",
    "                maximo = soma\n",
    "\n",
    "        return maxima_seq(vetor[1:], maximo)\n",
    "    "
   ]
  },
  {
   "cell_type": "code",
   "execution_count": 8,
   "metadata": {
    "collapsed": false
   },
   "outputs": [
    {
     "name": "stdout",
     "output_type": "stream",
     "text": [
      "173\n"
     ]
    }
   ],
   "source": [
    "vetor = [2,3,4,5,2,-19,-25,3,88,77,3,2]\n",
    "\n",
    "resultado = maxima_seq(vetor)\n",
    "\n",
    "print(resultado)\n"
   ]
  },
  {
   "cell_type": "code",
   "execution_count": 6,
   "metadata": {
    "collapsed": false
   },
   "outputs": [
    {
     "data": {
      "text/plain": [
       "173"
      ]
     },
     "execution_count": 6,
     "metadata": {},
     "output_type": "execute_result"
    }
   ],
   "source": [
    "88+77+3+2+3"
   ]
  },
  {
   "cell_type": "code",
   "execution_count": null,
   "metadata": {
    "collapsed": true
   },
   "outputs": [],
   "source": []
  }
 ],
 "metadata": {
  "kernelspec": {
   "display_name": "Python 3",
   "language": "python",
   "name": "python3"
  },
  "language_info": {
   "codemirror_mode": {
    "name": "ipython",
    "version": 3
   },
   "file_extension": ".py",
   "mimetype": "text/x-python",
   "name": "python",
   "nbconvert_exporter": "python",
   "pygments_lexer": "ipython3",
   "version": "3.4.3"
  }
 },
 "nbformat": 4,
 "nbformat_minor": 0
}
