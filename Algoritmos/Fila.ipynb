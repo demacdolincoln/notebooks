{
 "cells": [
  {
   "cell_type": "markdown",
   "metadata": {},
   "source": [
    "# Fila"
   ]
  },
  {
   "cell_type": "markdown",
   "metadata": {},
   "source": [
    "O próprio nome \"fila\" indica uma sequencia onde **o primeiro a entrar é o primeiro a sair**, uma analogia simples que exemplifica de forma clara o seu funcionamento é uma fila qualquer, seja para usar o caixa eletrônico num banco ou até mesmo para pagar as compras num supermercado."
   ]
  },
  {
   "cell_type": "markdown",
   "metadata": {},
   "source": [
    "Dentro dos computadores as estruturas \"Filas\" são usadas para sequenciar e priorizar as tarefas executadas pelo processador, servidores web também usam filas nas conexões dos usuários, "
   ]
  },
  {
   "cell_type": "markdown",
   "metadata": {},
   "source": [
    "### Exemplo de código:"
   ]
  },
  {
   "cell_type": "markdown",
   "metadata": {},
   "source": [
    "```python\n",
    "class Fila(object):\n",
    "    \n",
    "    def __init__(self):\n",
    "        self.elementos = []\n",
    "        \n",
    "    def adiciona(self, elem):\n",
    "    '''adiciona ao final'''\n",
    "        self.elementos.append(elem)\n",
    "        \n",
    "    def remove(self):\n",
    "    '''retira do inicio'''\n",
    "        return self.elementos.pop(0)\n",
    "\n",
    "```"
   ]
  },
  {
   "cell_type": "code",
   "execution_count": null,
   "metadata": {
    "collapsed": true
   },
   "outputs": [],
   "source": []
  }
 ],
 "metadata": {
  "kernelspec": {
   "display_name": "Python 3",
   "language": "python",
   "name": "python3"
  },
  "language_info": {
   "codemirror_mode": {
    "name": "ipython",
    "version": 3
   },
   "file_extension": ".py",
   "mimetype": "text/x-python",
   "name": "python",
   "nbconvert_exporter": "python",
   "pygments_lexer": "ipython3",
   "version": "3.4.3"
  }
 },
 "nbformat": 4,
 "nbformat_minor": 0
}
